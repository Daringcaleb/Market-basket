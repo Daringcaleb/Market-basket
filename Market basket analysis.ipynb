{
 "cells": [
  {
   "cell_type": "code",
   "execution_count": 1,
   "metadata": {
    "id": "ouY1b0JwA1qD"
   },
   "outputs": [],
   "source": [
    "#load the libraries\n",
    "import matplotlib.pyplot as plt; plt.rcdefaults()\n",
    "import matplotlib.pyplot as plt\n",
    "import pandas as pd\n",
    "import numpy as np\n",
    "import seaborn as sns\n",
    "import warnings\n",
    "warnings.filterwarnings('ignore')"
   ]
  },
  {
   "cell_type": "code",
   "execution_count": 2,
   "metadata": {
    "id": "838ZdQ5ClrAf"
   },
   "outputs": [],
   "source": [
    "#load the data\n",
    "df = pd.read_csv('Workshop-05-dataset.zip', sep='\\t', dtype=np.str)"
   ]
  },
  {
   "cell_type": "markdown",
   "metadata": {
    "id": "r_kE5kxRo0bG"
   },
   "source": [
    "**Q1**. Display the first five rows of the dataset"
   ]
  },
  {
   "cell_type": "code",
   "execution_count": 3,
   "metadata": {
    "colab": {
     "base_uri": "https://localhost:8080/",
     "height": 577
    },
    "id": "K8qvKLBAn7Ku",
    "outputId": "7676a927-58bc-4c8d-e628-fc756e1c179a"
   },
   "outputs": [
    {
     "data": {
      "text/html": [
       "<div>\n",
       "<style scoped>\n",
       "    .dataframe tbody tr th:only-of-type {\n",
       "        vertical-align: middle;\n",
       "    }\n",
       "\n",
       "    .dataframe tbody tr th {\n",
       "        vertical-align: top;\n",
       "    }\n",
       "\n",
       "    .dataframe thead th {\n",
       "        text-align: right;\n",
       "    }\n",
       "</style>\n",
       "<table border=\"1\" class=\"dataframe\">\n",
       "  <thead>\n",
       "    <tr style=\"text-align: right;\">\n",
       "      <th></th>\n",
       "      <th>transaction_ID</th>\n",
       "      <th>Date</th>\n",
       "      <th>Time</th>\n",
       "      <th>item_0</th>\n",
       "      <th>item_1</th>\n",
       "      <th>item_2</th>\n",
       "      <th>item_3</th>\n",
       "      <th>item_4</th>\n",
       "      <th>item_5</th>\n",
       "      <th>item_6</th>\n",
       "      <th>...</th>\n",
       "      <th>item_31</th>\n",
       "      <th>item_32</th>\n",
       "      <th>item_33</th>\n",
       "      <th>item_34</th>\n",
       "      <th>item_35</th>\n",
       "      <th>item_36</th>\n",
       "      <th>item_37</th>\n",
       "      <th>item_38</th>\n",
       "      <th>item_39</th>\n",
       "      <th>item_40</th>\n",
       "    </tr>\n",
       "  </thead>\n",
       "  <tbody>\n",
       "    <tr>\n",
       "      <th>0</th>\n",
       "      <td>536365</td>\n",
       "      <td>01/12/2010</td>\n",
       "      <td>08:26</td>\n",
       "      <td>WHITE HANGING HEART T-LIGHT HOLDER</td>\n",
       "      <td>WHITE METAL LANTERN</td>\n",
       "      <td>CREAM CUPID HEARTS COAT HANGER</td>\n",
       "      <td>KNITTED UNION FLAG HOT WATER BOTTLE</td>\n",
       "      <td>RED WOOLLY HOTTIE WHITE HEART</td>\n",
       "      <td>SET 7 BABUSHKA NESTING BOXES</td>\n",
       "      <td>GLASS STAR FROSTED T-LIGHT HOLDER</td>\n",
       "      <td>...</td>\n",
       "      <td>NaN</td>\n",
       "      <td>NaN</td>\n",
       "      <td>NaN</td>\n",
       "      <td>NaN</td>\n",
       "      <td>NaN</td>\n",
       "      <td>NaN</td>\n",
       "      <td>NaN</td>\n",
       "      <td>NaN</td>\n",
       "      <td>NaN</td>\n",
       "      <td>NaN</td>\n",
       "    </tr>\n",
       "    <tr>\n",
       "      <th>1</th>\n",
       "      <td>536366</td>\n",
       "      <td>01/12/2010</td>\n",
       "      <td>08:28</td>\n",
       "      <td>HAND WARMER UNION JACK</td>\n",
       "      <td>HAND WARMER RED POLKA DOT</td>\n",
       "      <td>NaN</td>\n",
       "      <td>NaN</td>\n",
       "      <td>NaN</td>\n",
       "      <td>NaN</td>\n",
       "      <td>NaN</td>\n",
       "      <td>...</td>\n",
       "      <td>NaN</td>\n",
       "      <td>NaN</td>\n",
       "      <td>NaN</td>\n",
       "      <td>NaN</td>\n",
       "      <td>NaN</td>\n",
       "      <td>NaN</td>\n",
       "      <td>NaN</td>\n",
       "      <td>NaN</td>\n",
       "      <td>NaN</td>\n",
       "      <td>NaN</td>\n",
       "    </tr>\n",
       "    <tr>\n",
       "      <th>2</th>\n",
       "      <td>536367</td>\n",
       "      <td>01/12/2010</td>\n",
       "      <td>08:34</td>\n",
       "      <td>ASSORTED COLOUR BIRD ORNAMENT</td>\n",
       "      <td>POPPY'S PLAYHOUSE BEDROOM</td>\n",
       "      <td>POPPY'S PLAYHOUSE KITCHEN</td>\n",
       "      <td>FELTCRAFT PRINCESS CHARLOTTE DOLL</td>\n",
       "      <td>IVORY KNITTED MUG COSY</td>\n",
       "      <td>BOX OF 6 ASSORTED COLOUR TEASPOONS</td>\n",
       "      <td>BOX OF VINTAGE JIGSAW BLOCKS</td>\n",
       "      <td>...</td>\n",
       "      <td>NaN</td>\n",
       "      <td>NaN</td>\n",
       "      <td>NaN</td>\n",
       "      <td>NaN</td>\n",
       "      <td>NaN</td>\n",
       "      <td>NaN</td>\n",
       "      <td>NaN</td>\n",
       "      <td>NaN</td>\n",
       "      <td>NaN</td>\n",
       "      <td>NaN</td>\n",
       "    </tr>\n",
       "    <tr>\n",
       "      <th>3</th>\n",
       "      <td>536368</td>\n",
       "      <td>01/12/2010</td>\n",
       "      <td>08:34</td>\n",
       "      <td>JAM MAKING SET WITH JARS</td>\n",
       "      <td>RED COAT RACK PARIS FASHION</td>\n",
       "      <td>YELLOW COAT RACK PARIS FASHION</td>\n",
       "      <td>BLUE COAT RACK PARIS FASHION</td>\n",
       "      <td>NaN</td>\n",
       "      <td>NaN</td>\n",
       "      <td>NaN</td>\n",
       "      <td>...</td>\n",
       "      <td>NaN</td>\n",
       "      <td>NaN</td>\n",
       "      <td>NaN</td>\n",
       "      <td>NaN</td>\n",
       "      <td>NaN</td>\n",
       "      <td>NaN</td>\n",
       "      <td>NaN</td>\n",
       "      <td>NaN</td>\n",
       "      <td>NaN</td>\n",
       "      <td>NaN</td>\n",
       "    </tr>\n",
       "    <tr>\n",
       "      <th>4</th>\n",
       "      <td>536369</td>\n",
       "      <td>01/12/2010</td>\n",
       "      <td>08:35</td>\n",
       "      <td>BATH BUILDING BLOCK WORD</td>\n",
       "      <td>NaN</td>\n",
       "      <td>NaN</td>\n",
       "      <td>NaN</td>\n",
       "      <td>NaN</td>\n",
       "      <td>NaN</td>\n",
       "      <td>NaN</td>\n",
       "      <td>...</td>\n",
       "      <td>NaN</td>\n",
       "      <td>NaN</td>\n",
       "      <td>NaN</td>\n",
       "      <td>NaN</td>\n",
       "      <td>NaN</td>\n",
       "      <td>NaN</td>\n",
       "      <td>NaN</td>\n",
       "      <td>NaN</td>\n",
       "      <td>NaN</td>\n",
       "      <td>NaN</td>\n",
       "    </tr>\n",
       "  </tbody>\n",
       "</table>\n",
       "<p>5 rows × 44 columns</p>\n",
       "</div>"
      ],
      "text/plain": [
       "  transaction_ID        Date   Time                              item_0  \\\n",
       "0         536365  01/12/2010  08:26  WHITE HANGING HEART T-LIGHT HOLDER   \n",
       "1         536366  01/12/2010  08:28              HAND WARMER UNION JACK   \n",
       "2         536367  01/12/2010  08:34       ASSORTED COLOUR BIRD ORNAMENT   \n",
       "3         536368  01/12/2010  08:34            JAM MAKING SET WITH JARS   \n",
       "4         536369  01/12/2010  08:35            BATH BUILDING BLOCK WORD   \n",
       "\n",
       "                        item_1                          item_2  \\\n",
       "0          WHITE METAL LANTERN  CREAM CUPID HEARTS COAT HANGER   \n",
       "1    HAND WARMER RED POLKA DOT                             NaN   \n",
       "2    POPPY'S PLAYHOUSE BEDROOM       POPPY'S PLAYHOUSE KITCHEN   \n",
       "3  RED COAT RACK PARIS FASHION  YELLOW COAT RACK PARIS FASHION   \n",
       "4                          NaN                             NaN   \n",
       "\n",
       "                                item_3                         item_4  \\\n",
       "0  KNITTED UNION FLAG HOT WATER BOTTLE  RED WOOLLY HOTTIE WHITE HEART   \n",
       "1                                  NaN                            NaN   \n",
       "2    FELTCRAFT PRINCESS CHARLOTTE DOLL         IVORY KNITTED MUG COSY   \n",
       "3         BLUE COAT RACK PARIS FASHION                            NaN   \n",
       "4                                  NaN                            NaN   \n",
       "\n",
       "                               item_5                             item_6  ...  \\\n",
       "0        SET 7 BABUSHKA NESTING BOXES  GLASS STAR FROSTED T-LIGHT HOLDER  ...   \n",
       "1                                 NaN                                NaN  ...   \n",
       "2  BOX OF 6 ASSORTED COLOUR TEASPOONS       BOX OF VINTAGE JIGSAW BLOCKS  ...   \n",
       "3                                 NaN                                NaN  ...   \n",
       "4                                 NaN                                NaN  ...   \n",
       "\n",
       "  item_31 item_32 item_33 item_34 item_35 item_36 item_37 item_38 item_39  \\\n",
       "0     NaN     NaN     NaN     NaN     NaN     NaN     NaN     NaN     NaN   \n",
       "1     NaN     NaN     NaN     NaN     NaN     NaN     NaN     NaN     NaN   \n",
       "2     NaN     NaN     NaN     NaN     NaN     NaN     NaN     NaN     NaN   \n",
       "3     NaN     NaN     NaN     NaN     NaN     NaN     NaN     NaN     NaN   \n",
       "4     NaN     NaN     NaN     NaN     NaN     NaN     NaN     NaN     NaN   \n",
       "\n",
       "  item_40  \n",
       "0     NaN  \n",
       "1     NaN  \n",
       "2     NaN  \n",
       "3     NaN  \n",
       "4     NaN  \n",
       "\n",
       "[5 rows x 44 columns]"
      ]
     },
     "execution_count": 3,
     "metadata": {},
     "output_type": "execute_result"
    }
   ],
   "source": [
    "#first five rows\n",
    "df.head()"
   ]
  },
  {
   "cell_type": "markdown",
   "metadata": {
    "id": "dJAkCw1ipE2w"
   },
   "source": [
    "**Q2** How many rows and columns are there in the dataset"
   ]
  },
  {
   "cell_type": "code",
   "execution_count": 4,
   "metadata": {
    "colab": {
     "base_uri": "https://localhost:8080/"
    },
    "id": "3r5dFj0DoGvl",
    "outputId": "549dfe2e-80cf-4b86-b555-4480882768bb"
   },
   "outputs": [
    {
     "data": {
      "text/plain": [
       "(31941, 44)"
      ]
     },
     "execution_count": 4,
     "metadata": {},
     "output_type": "execute_result"
    }
   ],
   "source": [
    "df.shape"
   ]
  },
  {
   "cell_type": "markdown",
   "metadata": {
    "id": "Mo4IGi_ApQTb"
   },
   "source": [
    "**Answer:**\n",
    "\n",
    "There are **31941 rows** and **44 columns** in the dataset."
   ]
  },
  {
   "cell_type": "markdown",
   "metadata": {
    "id": "Sf8AQZm8pgqb"
   },
   "source": [
    "## Generating unique Dataset"
   ]
  },
  {
   "cell_type": "code",
   "execution_count": 6,
   "metadata": {
    "id": "2RmOleQzpP7R"
   },
   "outputs": [],
   "source": [
    "#student details\n",
    "_NAME = 'DeeJay'\n",
    "_NO = '2098'"
   ]
  },
  {
   "cell_type": "code",
   "execution_count": 7,
   "metadata": {
    "id": "fPeoguu0pOdx"
   },
   "outputs": [],
   "source": [
    "#creating unique dataset\n",
    "np.random.seed(int(_NO))\n",
    "unique_id = int('2'+_NO)\n",
    "rows = np.random.choice(df.index.values, unique_id)\n",
    "data = df.loc[rows]"
   ]
  },
  {
   "cell_type": "code",
   "execution_count": 8,
   "metadata": {
    "id": "ClPUP3CMq7h2"
   },
   "outputs": [],
   "source": [
    "#writing the dataset to a csv file\n",
    "file_name = _NAME + \"_\" + _NO + \".csv\"\n",
    "data.to_csv(file_name)"
   ]
  },
  {
   "cell_type": "code",
   "execution_count": 9,
   "metadata": {
    "colab": {
     "base_uri": "https://localhost:8080/",
     "height": 612
    },
    "id": "WeFqdIi2wltH",
    "outputId": "1cf45ba3-a58d-40a3-e3e9-cb2075d762f5"
   },
   "outputs": [
    {
     "data": {
      "text/html": [
       "<div>\n",
       "<style scoped>\n",
       "    .dataframe tbody tr th:only-of-type {\n",
       "        vertical-align: middle;\n",
       "    }\n",
       "\n",
       "    .dataframe tbody tr th {\n",
       "        vertical-align: top;\n",
       "    }\n",
       "\n",
       "    .dataframe thead th {\n",
       "        text-align: right;\n",
       "    }\n",
       "</style>\n",
       "<table border=\"1\" class=\"dataframe\">\n",
       "  <thead>\n",
       "    <tr style=\"text-align: right;\">\n",
       "      <th></th>\n",
       "      <th>transaction_ID</th>\n",
       "      <th>Date</th>\n",
       "      <th>Time</th>\n",
       "      <th>item_0</th>\n",
       "      <th>item_1</th>\n",
       "      <th>item_2</th>\n",
       "      <th>item_3</th>\n",
       "      <th>item_4</th>\n",
       "      <th>item_5</th>\n",
       "      <th>item_6</th>\n",
       "      <th>...</th>\n",
       "      <th>item_31</th>\n",
       "      <th>item_32</th>\n",
       "      <th>item_33</th>\n",
       "      <th>item_34</th>\n",
       "      <th>item_35</th>\n",
       "      <th>item_36</th>\n",
       "      <th>item_37</th>\n",
       "      <th>item_38</th>\n",
       "      <th>item_39</th>\n",
       "      <th>item_40</th>\n",
       "    </tr>\n",
       "  </thead>\n",
       "  <tbody>\n",
       "    <tr>\n",
       "      <th>27036</th>\n",
       "      <td>575083</td>\n",
       "      <td>08/11/2011</td>\n",
       "      <td>13:31</td>\n",
       "      <td>WOOD STAMP SET BEST WISHES</td>\n",
       "      <td>WOOD STAMP SET THANK YOU</td>\n",
       "      <td>SET OF 20 KIDS COOKIE CUTTERS</td>\n",
       "      <td>HANGING  BUTTERFLY T-LIGHT HOLDER</td>\n",
       "      <td>PENS ASSORTED SPACEBALL</td>\n",
       "      <td>12 PENCILS TALL TUBE RED RETROSPOT</td>\n",
       "      <td>12 PENCILS TALL TUBE SKULLS</td>\n",
       "      <td>...</td>\n",
       "      <td>NaN</td>\n",
       "      <td>NaN</td>\n",
       "      <td>NaN</td>\n",
       "      <td>NaN</td>\n",
       "      <td>NaN</td>\n",
       "      <td>NaN</td>\n",
       "      <td>NaN</td>\n",
       "      <td>NaN</td>\n",
       "      <td>NaN</td>\n",
       "      <td>NaN</td>\n",
       "    </tr>\n",
       "    <tr>\n",
       "      <th>28646</th>\n",
       "      <td>577141</td>\n",
       "      <td>18/11/2011</td>\n",
       "      <td>09:11</td>\n",
       "      <td>BOX OF 6 CHRISTMAS CAKE DECORATIONS</td>\n",
       "      <td>CHRISTMAS LIGHTS 10 REINDEER</td>\n",
       "      <td>60 CAKE CASES VINTAGE CHRISTMAS</td>\n",
       "      <td>RABBIT NIGHT LIGHT</td>\n",
       "      <td>PACK OF 72 RETROSPOT CAKE CASES</td>\n",
       "      <td>JUMBO BAG RED RETROSPOT</td>\n",
       "      <td>VINTAGE CHRISTMAS GIFT BAG LARGE</td>\n",
       "      <td>...</td>\n",
       "      <td>NaN</td>\n",
       "      <td>NaN</td>\n",
       "      <td>NaN</td>\n",
       "      <td>NaN</td>\n",
       "      <td>NaN</td>\n",
       "      <td>NaN</td>\n",
       "      <td>NaN</td>\n",
       "      <td>NaN</td>\n",
       "      <td>NaN</td>\n",
       "      <td>NaN</td>\n",
       "    </tr>\n",
       "    <tr>\n",
       "      <th>26769</th>\n",
       "      <td>574726</td>\n",
       "      <td>06/11/2011</td>\n",
       "      <td>14:56</td>\n",
       "      <td>3 WHITE CHOC MORRIS BOXED CANDLES</td>\n",
       "      <td>PINK HANGING HEART T-LIGHT HOLDER</td>\n",
       "      <td>SET/6 PINK  BUTTERFLY T-LIGHTS</td>\n",
       "      <td>SET/6 TURQUOISE BUTTERFLY T-LIGHTS</td>\n",
       "      <td>SET/6 PURPLE BUTTERFLY T-LIGHTS</td>\n",
       "      <td>RED HANGING HEART T-LIGHT HOLDER</td>\n",
       "      <td>WHITE LOVEBIRD LANTERN</td>\n",
       "      <td>...</td>\n",
       "      <td>NaN</td>\n",
       "      <td>NaN</td>\n",
       "      <td>NaN</td>\n",
       "      <td>NaN</td>\n",
       "      <td>NaN</td>\n",
       "      <td>NaN</td>\n",
       "      <td>NaN</td>\n",
       "      <td>NaN</td>\n",
       "      <td>NaN</td>\n",
       "      <td>NaN</td>\n",
       "    </tr>\n",
       "    <tr>\n",
       "      <th>21170</th>\n",
       "      <td>566952</td>\n",
       "      <td>15/09/2011</td>\n",
       "      <td>16:37</td>\n",
       "      <td>SET OF 4 KNICK KNACK TINS DOILY</td>\n",
       "      <td>BISCUIT TIN 50'S CHRISTMAS</td>\n",
       "      <td>REGENCY MILK JUG PINK</td>\n",
       "      <td>DOORMAT WELCOME TO OUR HOME</td>\n",
       "      <td>PICTURE DOMINOES</td>\n",
       "      <td>CARD CIRCUS PARADE</td>\n",
       "      <td>MINI CAKE STAND T-LIGHT HOLDER</td>\n",
       "      <td>...</td>\n",
       "      <td>CHRISTMAS TREE HEART DECORATION</td>\n",
       "      <td>JUMBO BAG PINK VINTAGE PAISLEY</td>\n",
       "      <td>VINTAGE PAISLEY STATIONERY SET</td>\n",
       "      <td>BIRDHOUSE DECORATION MAGIC GARDEN</td>\n",
       "      <td>WALL TIDY RETROSPOT</td>\n",
       "      <td>MAGIC DRAWING SLATE SPACEBOY</td>\n",
       "      <td>PINK REGENCY TEACUP AND SAUCER</td>\n",
       "      <td>SET OF 20 VINTAGE CHRISTMAS NAPKINS</td>\n",
       "      <td>WOODEN ADVENT CALENDAR CREAM</td>\n",
       "      <td>WOODEN ADVENT CALENDAR RED</td>\n",
       "    </tr>\n",
       "    <tr>\n",
       "      <th>25347</th>\n",
       "      <td>572746</td>\n",
       "      <td>25/10/2011</td>\n",
       "      <td>16:30</td>\n",
       "      <td>VINTAGE DOILY TRAVEL SEWING KIT</td>\n",
       "      <td>LOVE HOT WATER BOTTLE</td>\n",
       "      <td>CHOCOLATE HOT WATER BOTTLE</td>\n",
       "      <td>RETROSPOT HEART HOT WATER BOTTLE</td>\n",
       "      <td>HOT WATER BOTTLE KEEP CALM</td>\n",
       "      <td>LADIES &amp; GENTLEMEN METAL SIGN</td>\n",
       "      <td>HOT BATHS METAL SIGN</td>\n",
       "      <td>...</td>\n",
       "      <td>SET OF 3 WOODEN HEART DECORATIONS</td>\n",
       "      <td>SET OF 3 WOODEN STOCKING DECORATION</td>\n",
       "      <td>SET OF 3 WOODEN TREE DECORATIONS</td>\n",
       "      <td>WHITE HANGING HEART T-LIGHT HOLDER</td>\n",
       "      <td>GLITTER HEART DECORATION</td>\n",
       "      <td>GLITTER CHRISTMAS TREE</td>\n",
       "      <td>GLITTER CHRISTMAS STAR</td>\n",
       "      <td>WELCOME  WOODEN BLOCK LETTERS</td>\n",
       "      <td>WOODEN ADVENT CALENDAR RED</td>\n",
       "      <td>IVORY SWEETHEART WIRE LETTER RACK</td>\n",
       "    </tr>\n",
       "  </tbody>\n",
       "</table>\n",
       "<p>5 rows × 44 columns</p>\n",
       "</div>"
      ],
      "text/plain": [
       "      transaction_ID        Date   Time                               item_0  \\\n",
       "27036         575083  08/11/2011  13:31           WOOD STAMP SET BEST WISHES   \n",
       "28646         577141  18/11/2011  09:11  BOX OF 6 CHRISTMAS CAKE DECORATIONS   \n",
       "26769         574726  06/11/2011  14:56    3 WHITE CHOC MORRIS BOXED CANDLES   \n",
       "21170         566952  15/09/2011  16:37      SET OF 4 KNICK KNACK TINS DOILY   \n",
       "25347         572746  25/10/2011  16:30      VINTAGE DOILY TRAVEL SEWING KIT   \n",
       "\n",
       "                                  item_1                           item_2  \\\n",
       "27036           WOOD STAMP SET THANK YOU    SET OF 20 KIDS COOKIE CUTTERS   \n",
       "28646       CHRISTMAS LIGHTS 10 REINDEER  60 CAKE CASES VINTAGE CHRISTMAS   \n",
       "26769  PINK HANGING HEART T-LIGHT HOLDER   SET/6 PINK  BUTTERFLY T-LIGHTS   \n",
       "21170         BISCUIT TIN 50'S CHRISTMAS            REGENCY MILK JUG PINK   \n",
       "25347              LOVE HOT WATER BOTTLE       CHOCOLATE HOT WATER BOTTLE   \n",
       "\n",
       "                                   item_3                           item_4  \\\n",
       "27036   HANGING  BUTTERFLY T-LIGHT HOLDER          PENS ASSORTED SPACEBALL   \n",
       "28646                  RABBIT NIGHT LIGHT  PACK OF 72 RETROSPOT CAKE CASES   \n",
       "26769  SET/6 TURQUOISE BUTTERFLY T-LIGHTS  SET/6 PURPLE BUTTERFLY T-LIGHTS   \n",
       "21170         DOORMAT WELCOME TO OUR HOME                 PICTURE DOMINOES   \n",
       "25347    RETROSPOT HEART HOT WATER BOTTLE       HOT WATER BOTTLE KEEP CALM   \n",
       "\n",
       "                                   item_5                            item_6  \\\n",
       "27036  12 PENCILS TALL TUBE RED RETROSPOT       12 PENCILS TALL TUBE SKULLS   \n",
       "28646             JUMBO BAG RED RETROSPOT  VINTAGE CHRISTMAS GIFT BAG LARGE   \n",
       "26769    RED HANGING HEART T-LIGHT HOLDER            WHITE LOVEBIRD LANTERN   \n",
       "21170                  CARD CIRCUS PARADE    MINI CAKE STAND T-LIGHT HOLDER   \n",
       "25347       LADIES & GENTLEMEN METAL SIGN              HOT BATHS METAL SIGN   \n",
       "\n",
       "       ...                            item_31  \\\n",
       "27036  ...                                NaN   \n",
       "28646  ...                                NaN   \n",
       "26769  ...                                NaN   \n",
       "21170  ...    CHRISTMAS TREE HEART DECORATION   \n",
       "25347  ...  SET OF 3 WOODEN HEART DECORATIONS   \n",
       "\n",
       "                                   item_32                           item_33  \\\n",
       "27036                                  NaN                               NaN   \n",
       "28646                                  NaN                               NaN   \n",
       "26769                                  NaN                               NaN   \n",
       "21170       JUMBO BAG PINK VINTAGE PAISLEY    VINTAGE PAISLEY STATIONERY SET   \n",
       "25347  SET OF 3 WOODEN STOCKING DECORATION  SET OF 3 WOODEN TREE DECORATIONS   \n",
       "\n",
       "                                  item_34                   item_35  \\\n",
       "27036                                 NaN                       NaN   \n",
       "28646                                 NaN                       NaN   \n",
       "26769                                 NaN                       NaN   \n",
       "21170   BIRDHOUSE DECORATION MAGIC GARDEN       WALL TIDY RETROSPOT   \n",
       "25347  WHITE HANGING HEART T-LIGHT HOLDER  GLITTER HEART DECORATION   \n",
       "\n",
       "                            item_36                         item_37  \\\n",
       "27036                           NaN                             NaN   \n",
       "28646                           NaN                             NaN   \n",
       "26769                           NaN                             NaN   \n",
       "21170  MAGIC DRAWING SLATE SPACEBOY  PINK REGENCY TEACUP AND SAUCER   \n",
       "25347        GLITTER CHRISTMAS TREE          GLITTER CHRISTMAS STAR   \n",
       "\n",
       "                                   item_38                       item_39  \\\n",
       "27036                                  NaN                           NaN   \n",
       "28646                                  NaN                           NaN   \n",
       "26769                                  NaN                           NaN   \n",
       "21170  SET OF 20 VINTAGE CHRISTMAS NAPKINS  WOODEN ADVENT CALENDAR CREAM   \n",
       "25347        WELCOME  WOODEN BLOCK LETTERS    WOODEN ADVENT CALENDAR RED   \n",
       "\n",
       "                                 item_40  \n",
       "27036                                NaN  \n",
       "28646                                NaN  \n",
       "26769                                NaN  \n",
       "21170         WOODEN ADVENT CALENDAR RED  \n",
       "25347  IVORY SWEETHEART WIRE LETTER RACK  \n",
       "\n",
       "[5 rows x 44 columns]"
      ]
     },
     "execution_count": 9,
     "metadata": {},
     "output_type": "execute_result"
    }
   ],
   "source": [
    "data.head()"
   ]
  },
  {
   "cell_type": "code",
   "execution_count": 10,
   "metadata": {
    "colab": {
     "base_uri": "https://localhost:8080/"
    },
    "id": "IPYFslGiwsW3",
    "outputId": "42662b41-67aa-455d-bd37-e2db014de328"
   },
   "outputs": [
    {
     "data": {
      "text/plain": [
       "(22098, 44)"
      ]
     },
     "execution_count": 10,
     "metadata": {},
     "output_type": "execute_result"
    }
   ],
   "source": [
    "data.shape"
   ]
  },
  {
   "cell_type": "markdown",
   "metadata": {
    "id": "MgTDbMLXrhmz"
   },
   "source": [
    "## Basic Data Analysis"
   ]
  },
  {
   "cell_type": "code",
   "execution_count": 11,
   "metadata": {
    "colab": {
     "base_uri": "https://localhost:8080/"
    },
    "id": "fDbUzI6Wrbgm",
    "outputId": "82f3d238-aed3-4059-d9be-d94a32d9df98"
   },
   "outputs": [
    {
     "name": "stdout",
     "output_type": "stream",
     "text": [
      "<class 'pandas.core.frame.DataFrame'>\n",
      "Int64Index: 22098 entries, 27036 to 20689\n",
      "Data columns (total 44 columns):\n",
      " #   Column          Non-Null Count  Dtype \n",
      "---  ------          --------------  ----- \n",
      " 0   transaction_ID  22098 non-null  object\n",
      " 1   Date            22098 non-null  object\n",
      " 2   Time            22098 non-null  object\n",
      " 3   item_0          21118 non-null  object\n",
      " 4   item_1          17889 non-null  object\n",
      " 5   item_2          16651 non-null  object\n",
      " 6   item_3          15817 non-null  object\n",
      " 7   item_4          15130 non-null  object\n",
      " 8   item_5          14493 non-null  object\n",
      " 9   item_6          13947 non-null  object\n",
      " 10  item_7          13414 non-null  object\n",
      " 11  item_8          12931 non-null  object\n",
      " 12  item_9          12420 non-null  object\n",
      " 13  item_10         11947 non-null  object\n",
      " 14  item_11         11471 non-null  object\n",
      " 15  item_12         11064 non-null  object\n",
      " 16  item_13         10606 non-null  object\n",
      " 17  item_14         10221 non-null  object\n",
      " 18  item_15         9804 non-null   object\n",
      " 19  item_16         9368 non-null   object\n",
      " 20  item_17         9007 non-null   object\n",
      " 21  item_18         8691 non-null   object\n",
      " 22  item_19         8282 non-null   object\n",
      " 23  item_20         7921 non-null   object\n",
      " 24  item_21         7609 non-null   object\n",
      " 25  item_22         7347 non-null   object\n",
      " 26  item_23         7049 non-null   object\n",
      " 27  item_24         6772 non-null   object\n",
      " 28  item_25         6573 non-null   object\n",
      " 29  item_26         6353 non-null   object\n",
      " 30  item_27         6171 non-null   object\n",
      " 31  item_28         5969 non-null   object\n",
      " 32  item_29         5757 non-null   object\n",
      " 33  item_30         5573 non-null   object\n",
      " 34  item_31         5379 non-null   object\n",
      " 35  item_32         5222 non-null   object\n",
      " 36  item_33         5070 non-null   object\n",
      " 37  item_34         4920 non-null   object\n",
      " 38  item_35         4775 non-null   object\n",
      " 39  item_36         4664 non-null   object\n",
      " 40  item_37         4526 non-null   object\n",
      " 41  item_38         4409 non-null   object\n",
      " 42  item_39         4303 non-null   object\n",
      " 43  item_40         4207 non-null   object\n",
      "dtypes: object(44)\n",
      "memory usage: 7.6+ MB\n"
     ]
    }
   ],
   "source": [
    "#checking for missing values and data types of each column\n",
    "data.info()"
   ]
  },
  {
   "cell_type": "code",
   "execution_count": 12,
   "metadata": {
    "colab": {
     "base_uri": "https://localhost:8080/"
    },
    "id": "HrosD9QtsQDT",
    "outputId": "d86f10d8-a3f0-4394-ba80-7c4d7e32d3dc"
   },
   "outputs": [
    {
     "data": {
      "text/plain": [
       "transaction_ID        0\n",
       "Date                  0\n",
       "Time                  0\n",
       "item_0              980\n",
       "item_1             4209\n",
       "item_2             5447\n",
       "item_3             6281\n",
       "item_4             6968\n",
       "item_5             7605\n",
       "item_6             8151\n",
       "item_7             8684\n",
       "item_8             9167\n",
       "item_9             9678\n",
       "item_10           10151\n",
       "item_11           10627\n",
       "item_12           11034\n",
       "item_13           11492\n",
       "item_14           11877\n",
       "item_15           12294\n",
       "item_16           12730\n",
       "item_17           13091\n",
       "item_18           13407\n",
       "item_19           13816\n",
       "item_20           14177\n",
       "item_21           14489\n",
       "item_22           14751\n",
       "item_23           15049\n",
       "item_24           15326\n",
       "item_25           15525\n",
       "item_26           15745\n",
       "item_27           15927\n",
       "item_28           16129\n",
       "item_29           16341\n",
       "item_30           16525\n",
       "item_31           16719\n",
       "item_32           16876\n",
       "item_33           17028\n",
       "item_34           17178\n",
       "item_35           17323\n",
       "item_36           17434\n",
       "item_37           17572\n",
       "item_38           17689\n",
       "item_39           17795\n",
       "item_40           17891\n",
       "dtype: int64"
      ]
     },
     "execution_count": 12,
     "metadata": {},
     "output_type": "execute_result"
    }
   ],
   "source": [
    "#no of missing values in each column\n",
    "data.isnull().sum()"
   ]
  },
  {
   "cell_type": "code",
   "execution_count": 13,
   "metadata": {
    "colab": {
     "base_uri": "https://localhost:8080/"
    },
    "id": "fhgVDegRscyw",
    "outputId": "a080c949-8016-400d-a490-bd3c101c1de4"
   },
   "outputs": [
    {
     "name": "stdout",
     "output_type": "stream",
     "text": [
      "count for transaction_ID\n",
      "573585     22\n",
      "581492     21\n",
      "581217     17\n",
      "536876     16\n",
      "579187     15\n",
      "           ..\n",
      "550487      1\n",
      "571686      1\n",
      "570196      1\n",
      "C556634     1\n",
      "566744      1\n",
      "Name: transaction_ID, Length: 13830, dtype: int64\n",
      "\n",
      " \n",
      "\n",
      "count for Date\n",
      "22/11/2011    173\n",
      "06/10/2011    170\n",
      "05/12/2011    164\n",
      "08/12/2011    161\n",
      "10/10/2011    161\n",
      "             ... \n",
      "30/01/2011     19\n",
      "13/03/2011     17\n",
      "01/05/2011     16\n",
      "22/12/2010     13\n",
      "06/02/2011      8\n",
      "Name: Date, Length: 305, dtype: int64\n",
      "\n",
      " \n",
      "\n",
      "count for Time\n",
      "14:41    87\n",
      "12:16    82\n",
      "12:44    78\n",
      "11:38    77\n",
      "12:26    76\n",
      "         ..\n",
      "20:05     1\n",
      "20:07     1\n",
      "19:02     1\n",
      "06:25     1\n",
      "19:03     1\n",
      "Name: Time, Length: 733, dtype: int64\n",
      "\n",
      " \n",
      "\n",
      "count for item_0\n",
      "Manual                                 231\n",
      "REGENCY CAKESTAND 3 TIER               225\n",
      "POSTAGE                                174\n",
      "WHITE HANGING HEART T-LIGHT HOLDER     147\n",
      "RABBIT NIGHT LIGHT                     128\n",
      "                                      ... \n",
      "BLUE FELT HANGING HEART WITH FLOWER      1\n",
      "SET OF 16 VINTAGE RED CUTLERY            1\n",
      "damages?                                 1\n",
      "FAIRY DREAMS INCENSE                     1\n",
      "SINGLE WIRE HOOK PINK HEART              1\n",
      "Name: item_0, Length: 2775, dtype: int64\n",
      "\n",
      " \n",
      "\n",
      "count for item_1\n",
      "REGENCY CAKESTAND 3 TIER               143\n",
      "JUMBO BAG RED RETROSPOT                 95\n",
      "PARTY BUNTING                           95\n",
      "WHITE HANGING HEART T-LIGHT HOLDER      87\n",
      "ASSORTED COLOUR BIRD ORNAMENT           82\n",
      "                                      ... \n",
      "PANDA AND BUNNIES STICKER SHEET          1\n",
      "GOLD WASHBAG                             1\n",
      "HEART TRELLIS TRIPLE T-LIGHT HOLDER      1\n",
      "PACK 20 ENGLISH ROSE PAPER NAPKINS       1\n",
      "WOVEN BERRIES CUSHION COVER              1\n",
      "Name: item_1, Length: 2541, dtype: int64\n",
      "\n",
      " \n",
      "\n",
      "count for item_2\n",
      "WHITE HANGING HEART T-LIGHT HOLDER    89\n",
      "JUMBO BAG RED RETROSPOT               79\n",
      "REGENCY CAKESTAND 3 TIER              71\n",
      "PARTY BUNTING                         67\n",
      "GREEN REGENCY TEACUP AND SAUCER       60\n",
      "                                      ..\n",
      "SQUARE MINI PORTRAIT FRAME             1\n",
      "BEACH HUT MIRROR                       1\n",
      "DAIRY MAID TRADITIONAL TEAPOT          1\n",
      "5 HOOK HANGER MAGIC TOADSTOOL          1\n",
      "BLUE GREEN EMBROIDERY COSMETIC BAG     1\n",
      "Name: item_2, Length: 2547, dtype: int64\n",
      "\n",
      " \n",
      "\n",
      "count for item_3\n",
      "WHITE HANGING HEART T-LIGHT HOLDER    101\n",
      "JUMBO BAG RED RETROSPOT                79\n",
      "REGENCY CAKESTAND 3 TIER               79\n",
      "PARTY BUNTING                          59\n",
      "JUMBO BAG APPLES                       53\n",
      "                                     ... \n",
      "PURPLE ENAMEL FLOWER RING               1\n",
      "SILVER FISHING GNOME                    1\n",
      "ANTIQUE LILY FAIRY LIGHTS               1\n",
      "PING MICROWAVE APRON                    1\n",
      "PAINTED LIGHTBULB RAINBOW DESIGN        1\n",
      "Name: item_3, Length: 2453, dtype: int64\n",
      "\n",
      " \n",
      "\n",
      "count for item_4\n",
      "WHITE HANGING HEART T-LIGHT HOLDER    85\n",
      "JUMBO BAG RED RETROSPOT               69\n",
      "REGENCY CAKESTAND 3 TIER              65\n",
      "PARTY BUNTING                         60\n",
      "PACK OF 72 RETROSPOT CAKE CASES       57\n",
      "                                      ..\n",
      "LE GRAND TRAY CHIC SET                 1\n",
      "WHITE HAND TOWEL WITH BUTTERFLY        1\n",
      "MARIE ANTOINETTE TRINKET BOX GOLD      1\n",
      "SET/6 BEAD COASTERS GAUZE BAG GOLD     1\n",
      "JIGSAW TOADSTOOLS 3 PIECE              1\n",
      "Name: item_4, Length: 2438, dtype: int64\n",
      "\n",
      " \n",
      "\n",
      "count for item_5\n",
      "WHITE HANGING HEART T-LIGHT HOLDER    80\n",
      "REGENCY CAKESTAND 3 TIER              70\n",
      "JUMBO BAG RED RETROSPOT               69\n",
      "PACK OF 72 RETROSPOT CAKE CASES       57\n",
      "NATURAL SLATE HEART CHALKBOARD        50\n",
      "                                      ..\n",
      "TOAST ITS - FAIRY FLOWER               1\n",
      "GARDEN PATH SKETCHBOOK                 1\n",
      "SANDWICH BATH SPONGE                   1\n",
      "MEASURING TAPE BABUSHKA RED            1\n",
      "PANTRY PASTRY BRUSH                    1\n",
      "Name: item_5, Length: 2421, dtype: int64\n",
      "\n",
      " \n",
      "\n",
      "count for item_6\n",
      "WHITE HANGING HEART T-LIGHT HOLDER     68\n",
      "REGENCY CAKESTAND 3 TIER               61\n",
      "JUMBO BAG RED RETROSPOT                54\n",
      "PARTY BUNTING                          50\n",
      "SET OF 3 CAKE TINS PANTRY DESIGN       46\n",
      "                                       ..\n",
      "BATHROOM SCALES RUBBER DUCKS            1\n",
      "GLASS  SONGBIRD STORAGE JAR             1\n",
      "ANT SILVER LIME GREEN BOUDICCA RING     1\n",
      "STAR DECORATION RUSTIC                  1\n",
      "PINK/AMETHYST/GOLD NECKLACE             1\n",
      "Name: item_6, Length: 2405, dtype: int64\n",
      "\n",
      " \n",
      "\n",
      "count for item_7\n",
      "REGENCY CAKESTAND 3 TIER            62\n",
      "SET OF 3 CAKE TINS PANTRY DESIGN    58\n",
      "PARTY BUNTING                       54\n",
      "JUMBO BAG RED RETROSPOT             54\n",
      "LUNCH BAG CARS BLUE                 51\n",
      "                                    ..\n",
      "MRS ROBOT SOFT TOY                   1\n",
      "PHOTO FRAME LINEN AND LACE SMALL     1\n",
      "COSY SLIPPER SHOES LARGE GREEN       1\n",
      "MINI JIGSAW DINOSAUR                 1\n",
      "RECYCLED ACAPULCO MAT BLUE           1\n",
      "Name: item_7, Length: 2367, dtype: int64\n",
      "\n",
      " \n",
      "\n",
      "count for item_8\n",
      "PARTY BUNTING                         66\n",
      "JUMBO BAG RED RETROSPOT               62\n",
      "REGENCY CAKESTAND 3 TIER              52\n",
      "WHITE HANGING HEART T-LIGHT HOLDER    51\n",
      "LUNCH BAG PINK POLKADOT               43\n",
      "                                      ..\n",
      "ASSTD DESIGN 3D PAPER STICKERS         1\n",
      "PANTRY ROLLING PIN                     1\n",
      "DECORATIVE VINTAGE COFFEE  BOX         1\n",
      "WALL ART VILLAGE SHOW                  1\n",
      "PANTRY PASTRY BRUSH                    1\n",
      "Name: item_8, Length: 2329, dtype: int64\n",
      "\n",
      " \n",
      "\n",
      "count for item_9\n",
      "WHITE HANGING HEART T-LIGHT HOLDER    61\n",
      "JUMBO BAG RED RETROSPOT               58\n",
      "REGENCY CAKESTAND 3 TIER              54\n",
      "SET OF 3 CAKE TINS PANTRY DESIGN      53\n",
      "LUNCH BAG RED RETROSPOT               44\n",
      "                                      ..\n",
      "WRAP COWBOYS                           1\n",
      "DOORMAT NEIGHBOURHOOD WITCH            1\n",
      "GREEN JUICY FRUIT PHOTO FRAME          1\n",
      "DOORSTOP FOOTBALL DESIGN               1\n",
      "JOY WOODEN BLOCK LETTERS               1\n",
      "Name: item_9, Length: 2302, dtype: int64\n",
      "\n",
      " \n",
      "\n",
      "count for item_10\n",
      "REGENCY CAKESTAND 3 TIER              57\n",
      "WHITE HANGING HEART T-LIGHT HOLDER    52\n",
      "ASSORTED COLOUR BIRD ORNAMENT         50\n",
      "LUNCH BAG RED RETROSPOT               47\n",
      "PACK OF 72 RETROSPOT CAKE CASES       46\n",
      "                                      ..\n",
      "PEACE SMALL WOOD LETTERS               1\n",
      "TIGRIS EYE CHUNKY CHARM BRACELET       1\n",
      "STRAWBERRIES  DESIGN FLANNEL           1\n",
      "LARGE DECO JEWELLERY STAND             1\n",
      "CAMPHOR WOOD PORTOBELLO MUSHROOM       1\n",
      "Name: item_10, Length: 2280, dtype: int64\n",
      "\n",
      " \n",
      "\n",
      "count for item_11\n",
      "JUMBO BAG RED RETROSPOT          49\n",
      "REGENCY CAKESTAND 3 TIER         47\n",
      "PARTY BUNTING                    44\n",
      "ASSORTED COLOUR BIRD ORNAMENT    41\n",
      "JUMBO STORAGE BAG SUKI           39\n",
      "                                 ..\n",
      "BLUE BLOSSOM HAIR CLIP            1\n",
      "RED RETROSPOT WASHBAG             1\n",
      "SET 10 LIGHTS NIGHT OWL           1\n",
      "WOOD STAMP SET BEST WISHES        1\n",
      "RETROSPOT CANDLE  MEDIUM          1\n",
      "Name: item_11, Length: 2249, dtype: int64\n",
      "\n",
      " \n",
      "\n",
      "count for item_12\n",
      "REGENCY CAKESTAND 3 TIER              54\n",
      "POSTAGE                               43\n",
      "WHITE HANGING HEART T-LIGHT HOLDER    42\n",
      "LUNCH BAG  BLACK SKULL                33\n",
      "CHARLOTTE BAG SUKI DESIGN             33\n",
      "                                      ..\n",
      "LOVE HEART TRINKET POT                 1\n",
      "LOVE HEART SOCK HANGER                 1\n",
      "BLUE EGG  SPOON                        1\n",
      "CLASSIC FRENCH STYLE BASKET BROWN      1\n",
      "PAINTED LIGHTBULB RAINBOW DESIGN       1\n",
      "Name: item_12, Length: 2236, dtype: int64\n",
      "\n",
      " \n",
      "\n",
      "count for item_13\n",
      "WHITE HANGING HEART T-LIGHT HOLDER    46\n",
      "SET OF 3 CAKE TINS PANTRY DESIGN      41\n",
      "JUMBO STORAGE BAG SUKI                36\n",
      "LUNCH BAG SPACEBOY DESIGN             35\n",
      "ASSORTED COLOUR BIRD ORNAMENT         35\n",
      "                                      ..\n",
      "ASSORTED TUTTI FRUTTI LARGE PURSE      1\n",
      "SET OF 2 ROUND TINS CAMEMBERT          1\n",
      "ZINC HEART LATTICE 2 WALL PLANTER      1\n",
      "GARAGE KEY FOB                         1\n",
      "WOODLAND  STICKERS                     1\n",
      "Name: item_13, Length: 2221, dtype: int64\n",
      "\n",
      " \n",
      "\n",
      "count for item_14\n",
      "JUMBO BAG PINK POLKADOT               38\n",
      "PACK OF 72 RETROSPOT CAKE CASES       37\n",
      "PARTY BUNTING                         35\n",
      "REGENCY CAKESTAND 3 TIER              33\n",
      "JUMBO BAG RED RETROSPOT               32\n",
      "                                      ..\n",
      "SET OF 6 HERB TINS SKETCHBOOK          1\n",
      "PINK DRAWER KNOB ACRYLIC EDWARDIAN     1\n",
      "SILVER BRACELET W PASTEL FLOWER        1\n",
      "EGG FRYING PAN PINK                    1\n",
      "JIGSAW TOADSTOOLS 3 PIECE              1\n",
      "Name: item_14, Length: 2179, dtype: int64\n",
      "\n",
      " \n",
      "\n",
      "count for item_15\n",
      "WHITE HANGING HEART T-LIGHT HOLDER    47\n",
      "JUMBO BAG RED RETROSPOT               39\n",
      "LUNCH BAG SPACEBOY DESIGN             34\n",
      "ASSORTED COLOUR BIRD ORNAMENT         32\n",
      "PARTY BUNTING                         31\n",
      "                                      ..\n",
      "WRAP CIRCUS PARADE                     1\n",
      "STRAWBERRY CERAMIC TRINKET POT         1\n",
      "MOROCCAN BEATEN METAL MIRROR           1\n",
      "ENVELOPE 50 ROMANTIC IMAGES            1\n",
      "SKULLS  DESIGN  COTTON TOTE BAG        1\n",
      "Name: item_15, Length: 2154, dtype: int64\n",
      "\n",
      " \n",
      "\n",
      "count for item_16\n",
      "JUMBO BAG RED RETROSPOT                45\n",
      "REGENCY CAKESTAND 3 TIER               33\n",
      "WHITE HANGING HEART T-LIGHT HOLDER     31\n",
      "ASSORTED COLOUR BIRD ORNAMENT          30\n",
      "LUNCH BAG RED RETROSPOT                30\n",
      "                                       ..\n",
      "FELTCRAFT HAIRBANDS PINK AND WHITE      1\n",
      "PLAYING CARDS VINTAGE DOILY             1\n",
      "BEADED PEARL HEART WHITE ON STICK       1\n",
      "DECORATION WHITE CHICK MAGIC GARDEN     1\n",
      "PAPER LANTERN 9 POINT SNOW STAR         1\n",
      "Name: item_16, Length: 2083, dtype: int64\n",
      "\n",
      " \n",
      "\n",
      "count for item_17\n",
      "PARTY BUNTING                         40\n",
      "LUNCH BAG RED RETROSPOT               36\n",
      "LUNCH BAG SUKI DESIGN                 33\n",
      "WHITE HANGING HEART T-LIGHT HOLDER    32\n",
      "JUMBO STORAGE BAG SUKI                28\n",
      "                                      ..\n",
      "TOAST ITS - HAPPY BIRTHDAY             1\n",
      "FAIRY TALE COTTAGE NIGHTLIGHT          1\n",
      "PURPLE ENAMEL FLOWER HAIR TIE          1\n",
      "WOODEN SKITTLES GARDEN SET             1\n",
      "PANTRY PASTRY BRUSH                    1\n",
      "Name: item_17, Length: 2109, dtype: int64\n",
      "\n",
      " \n",
      "\n",
      "count for item_18\n",
      "WHITE HANGING HEART T-LIGHT HOLDER     40\n",
      "LUNCH BAG RED RETROSPOT                37\n",
      "LUNCH BAG SUKI DESIGN                  34\n",
      "JUMBO BAG RED RETROSPOT                30\n",
      "SPACEBOY LUNCH BOX                     28\n",
      "                                       ..\n",
      "CANDY SHOP  STICKER SHEET               1\n",
      "CARD BIRTHDAY COWBOY                    1\n",
      "SPOTTED WHITE NATURAL SEED NECKLACE     1\n",
      "PINK  POLKADOT CUP                      1\n",
      "BLUE OWL SOFT TOY                       1\n",
      "Name: item_18, Length: 2069, dtype: int64\n",
      "\n",
      " \n",
      "\n",
      "count for item_19\n",
      "WHITE HANGING HEART T-LIGHT HOLDER    43\n",
      "LUNCH BAG RED RETROSPOT               38\n",
      "JUMBO BAG RED RETROSPOT               36\n",
      "REGENCY CAKESTAND 3 TIER              29\n",
      "JAM MAKING SET PRINTED                26\n",
      "                                      ..\n",
      "CREAM CLIMBING HYDRANGA ART FLOWER     1\n",
      "2 DAISIES HAIR COMB                    1\n",
      "SILVER TEDDY BEAR                      1\n",
      "N0 SINGING METAL SIGN                  1\n",
      "RED APPLES CHOPPING BOARD              1\n",
      "Name: item_19, Length: 2000, dtype: int64\n",
      "\n",
      " \n",
      "\n",
      "count for item_20\n"
     ]
    },
    {
     "name": "stdout",
     "output_type": "stream",
     "text": [
      "JUMBO BAG RED RETROSPOT              41\n",
      "JAM MAKING SET WITH JARS             32\n",
      "POSTAGE                              29\n",
      "SET OF 3 CAKE TINS PANTRY DESIGN     27\n",
      "JUMBO SHOPPER VINTAGE RED PAISLEY    25\n",
      "                                     ..\n",
      "RED REFECTORY CLOCK                   1\n",
      "S/12 VANILLA  BOTANICAL T-LIGHTS      1\n",
      "ROSE SCENT CANDLE IN JEWELLED BOX     1\n",
      "DOLLY GIRL BEAKER                     1\n",
      "6PC WOOD PLATE SET DISPOSABLE         1\n",
      "Name: item_20, Length: 2009, dtype: int64\n",
      "\n",
      " \n",
      "\n",
      "count for item_21\n",
      "SET OF 3 CAKE TINS PANTRY DESIGN     33\n",
      "LUNCH BAG  BLACK SKULL               30\n",
      "JUMBO SHOPPER VINTAGE RED PAISLEY    29\n",
      "HEART OF WICKER SMALL                29\n",
      "ASSORTED COLOUR BIRD ORNAMENT        28\n",
      "                                     ..\n",
      "STRAWBERRY CERAMIC TRINKET POT        1\n",
      "TV DINNER TRAY DOLLY GIRL             1\n",
      "4 SKY BLUE DINNER CANDLES             1\n",
      "SET OF 6 VINTAGE NOTELETS KIT         1\n",
      "MINI PLAYING CARDS DOLLY GIRL         1\n",
      "Name: item_21, Length: 1965, dtype: int64\n",
      "\n",
      " \n",
      "\n",
      "count for item_22\n",
      "JUMBO BAG PINK POLKADOT              33\n",
      "ASSORTED COLOUR BIRD ORNAMENT        29\n",
      "LUNCH BAG APPLE DESIGN               27\n",
      "HEART OF WICKER SMALL                24\n",
      "SET OF 6 SPICE TINS PANTRY DESIGN    23\n",
      "                                     ..\n",
      "WOVEN CANDY CUSHION COVER             1\n",
      "TEATIME PEN CASE & PENS               1\n",
      "DRAWER KNOB CRACKLE GLAZE IVORY       1\n",
      "MINI JIGSAW BUNNIES                   1\n",
      "DOORMAT WELCOME TO OUR HOME           1\n",
      "Name: item_22, Length: 1939, dtype: int64\n",
      "\n",
      " \n",
      "\n",
      "count for item_23\n",
      "REGENCY CAKESTAND 3 TIER              37\n",
      "JAM MAKING SET WITH JARS              26\n",
      "JUMBO BAG RED RETROSPOT               24\n",
      "RETROSPOT HEART HOT WATER BOTTLE      22\n",
      "JUMBO SHOPPER VINTAGE RED PAISLEY     21\n",
      "                                      ..\n",
      "HANGING CHICK CREAM DECORATION         1\n",
      "PINK HEART DOTS HOT WATER BOTTLE       1\n",
      "ZINC T-LIGHT HOLDER STAR LARGE         1\n",
      "JUNGLE POPSICLES ICE LOLLY HOLDERS     1\n",
      "200 BENDY SKULL STRAWS                 1\n",
      "Name: item_23, Length: 1922, dtype: int64\n",
      "\n",
      " \n",
      "\n",
      "count for item_24\n",
      "WHITE HANGING HEART T-LIGHT HOLDER    32\n",
      "LUNCH BAG RED RETROSPOT               23\n",
      "PAPER CHAIN KIT 50'S CHRISTMAS        23\n",
      "JUMBO BAG RED RETROSPOT               22\n",
      "SET OF 3 CAKE TINS PANTRY DESIGN      20\n",
      "                                      ..\n",
      "FAIRY TALE COTTAGE NIGHTLIGHT          1\n",
      "SET OF 6 RIBBONS COUNTRY STYLE         1\n",
      "TEATIME ROUND PENCIL SHARPENER         1\n",
      "\"PEARL & SHELL 42\"\"NECKL. GREEN\"       1\n",
      "PANTRY PASTRY BRUSH                    1\n",
      "Name: item_24, Length: 1908, dtype: int64\n",
      "\n",
      " \n",
      "\n",
      "count for item_25\n",
      "WHITE HANGING HEART T-LIGHT HOLDER     25\n",
      "LUNCH BAG PINK POLKADOT                23\n",
      "PACK OF 72 RETROSPOT CAKE CASES        23\n",
      "LUNCH BAG RED RETROSPOT                21\n",
      "JUMBO SHOPPER VINTAGE RED PAISLEY      21\n",
      "                                       ..\n",
      "SKULLS  DESIGN  COTTON TOTE BAG         1\n",
      "WALL MIRROR RECTANGLE DIAMANTE PINK     1\n",
      "SNOWFLAKE PORTABLE TABLE LIGHT          1\n",
      "PACK OF 6 SKULL PAPER CUPS              1\n",
      "SKULL AND CROSSBONES  GARLAND           1\n",
      "Name: item_25, Length: 1908, dtype: int64\n",
      "\n",
      " \n",
      "\n",
      "count for item_26\n",
      "WHITE HANGING HEART T-LIGHT HOLDER     26\n",
      "SET OF 3 CAKE TINS PANTRY DESIGN       24\n",
      "LUNCH BAG  BLACK SKULL                 22\n",
      "ALARM CLOCK BAKELIKE RED               20\n",
      "REX CASH+CARRY JUMBO SHOPPER           20\n",
      "                                       ..\n",
      "PINK ENAMEL+GLASS HAIR COMB             1\n",
      "DECORATION  BUTTERFLY  MAGIC GARDEN     1\n",
      "CHRISTMAS LIGHTS 10 REINDEER            1\n",
      "PARTY CONES CANDY TREE DECORATION       1\n",
      "LETS GO SHOPPING COTTON TOTE BAG        1\n",
      "Name: item_26, Length: 1854, dtype: int64\n",
      "\n",
      " \n",
      "\n",
      "count for item_27\n",
      "JUMBO BAG RED RETROSPOT               32\n",
      "PACK OF 20 NAPKINS PANTRY DESIGN      22\n",
      "ASSORTED COLOUR BIRD ORNAMENT         22\n",
      "WHITE HANGING HEART T-LIGHT HOLDER    20\n",
      "REGENCY CAKESTAND 3 TIER              19\n",
      "                                      ..\n",
      "CERAMIC CAKE DESIGN SPOTTED PLATE      1\n",
      "\"ASSORTED FLOWER COLOUR \"\"LEIS\"\"\"      1\n",
      "BLUE POLKADOT WRAP                     1\n",
      "BUTTERFLIES STICKERS                   1\n",
      "JIGSAW TOADSTOOLS 3 PIECE              1\n",
      "Name: item_27, Length: 1848, dtype: int64\n",
      "\n",
      " \n",
      "\n",
      "count for item_28\n",
      "SET OF 6 SPICE TINS PANTRY DESIGN     21\n",
      "JUMBO SHOPPER VINTAGE RED PAISLEY     20\n",
      "WHITE HANGING HEART T-LIGHT HOLDER    19\n",
      "JAM MAKING SET PRINTED                18\n",
      "RED RETROSPOT CHARLOTTE BAG           18\n",
      "                                      ..\n",
      "COFFEE MUG APPLES DESIGN               1\n",
      "BUTTERFLY CROCHET FOOD COVER           1\n",
      "MAKE YOUR OWN PLAYTIME CARD KIT        1\n",
      "ASSORTED CREEPY CRAWLIES               1\n",
      "JIGSAW TOADSTOOLS 3 PIECE              1\n",
      "Name: item_28, Length: 1766, dtype: int64\n",
      "\n",
      " \n",
      "\n",
      "count for item_29\n",
      "JUMBO BAG RED RETROSPOT              25\n",
      "HEART OF WICKER SMALL                20\n",
      "LUNCH BAG RED RETROSPOT              19\n",
      "SET OF 4 PANTRY JELLY MOULDS         19\n",
      "6 RIBBONS RUSTIC CHARM               19\n",
      "                                     ..\n",
      "S/4 VALENTINE DECOUPAGE HEART BOX     1\n",
      "WRAP, BILLBOARD FONTS DESIGN          1\n",
      "\"RETRO \"\"TEA FOR ONE\"\" \"              1\n",
      "PINK BUTTERFLY CUSHION COVER          1\n",
      "ENAMEL BLUE RIM COFFEE CONTAINER      1\n",
      "Name: item_29, Length: 1763, dtype: int64\n",
      "\n",
      " \n",
      "\n",
      "count for item_30\n",
      "LUNCH BAG RED RETROSPOT               24\n",
      "WOODEN PICTURE FRAME WHITE FINISH     21\n",
      "WHITE HANGING HEART T-LIGHT HOLDER    19\n",
      "PLASTERS IN TIN SKULLS                18\n",
      "SET OF 4 PANTRY JELLY MOULDS          17\n",
      "                                      ..\n",
      "CUBIC MUG FLOCK PINK ON BROWN          1\n",
      "ANT COPPER LIME BOUDICCA BRACELET      1\n",
      "BOX OF 9 PEBBLE CANDLES                1\n",
      "SET OF 36 TEATIME PAPER DOILIES        1\n",
      "JIGSAW TOADSTOOLS 3 PIECE              1\n",
      "Name: item_30, Length: 1761, dtype: int64\n",
      "\n",
      " \n",
      "\n",
      "count for item_31\n",
      "JUMBO BAG RED RETROSPOT               21\n",
      "PAPER CHAIN KIT 50'S CHRISTMAS        20\n",
      "WOODEN STAR CHRISTMAS SCANDINAVIAN    19\n",
      "DOTCOM POSTAGE                        18\n",
      "LUNCH BAG  BLACK SKULL                17\n",
      "                                      ..\n",
      "SMALL SILVER TRELLIS CANDLEPOT         1\n",
      "STARS GIFT TAPE                        1\n",
      "COFFEE MUG DOG + BALL DESIGN           1\n",
      "5 HOOK HANGER RED MAGIC TOADSTOOL      1\n",
      "CAKE STAND LOVEBIRD 2 TIER WHITE       1\n",
      "Name: item_31, Length: 1718, dtype: int64\n",
      "\n",
      " \n",
      "\n",
      "count for item_32\n",
      "SET OF 4 PANTRY JELLY MOULDS           20\n",
      "PAPER CHAIN KIT VINTAGE CHRISTMAS      18\n",
      "JUMBO BAG PINK POLKADOT                18\n",
      "PAPER CHAIN KIT 50'S CHRISTMAS         17\n",
      "SET/5 RED RETROSPOT LID GLASS BOWLS    17\n",
      "                                       ..\n",
      "STARS GIFT TAPE                         1\n",
      "COFFEE MUG DOG + BALL DESIGN            1\n",
      "PARTY PIZZA DISH PINK POLKADOT          1\n",
      "RED VINTAGE SPOT BEAKER                 1\n",
      "PANTRY PASTRY BRUSH                     1\n",
      "Name: item_32, Length: 1674, dtype: int64\n",
      "\n",
      " \n",
      "\n",
      "count for item_33\n",
      "SET OF 4 PANTRY JELLY MOULDS          23\n",
      "WHITE HANGING HEART T-LIGHT HOLDER    22\n",
      "LUNCH BAG SUKI DESIGN                 19\n",
      "REGENCY CAKESTAND 3 TIER              19\n",
      "WOODEN PICTURE FRAME WHITE FINISH     18\n",
      "                                      ..\n",
      "RAIN PONCHO RETROSPOT                  1\n",
      "PACK OF 20 SPACEBOY NAPKINS            1\n",
      "METAL SIGN DROP YOUR PANTS             1\n",
      "PINK DINER WALL CLOCK                  1\n",
      "RED RETRO KITCHEN WALL CLOCK           1\n",
      "Name: item_33, Length: 1621, dtype: int64\n",
      "\n",
      " \n",
      "\n",
      "count for item_34\n",
      "JUMBO BAG RED RETROSPOT               21\n",
      "SET OF 3 CAKE TINS PANTRY DESIGN      20\n",
      "WHITE HANGING HEART T-LIGHT HOLDER    19\n",
      "BATHROOM METAL SIGN                   19\n",
      "CHRISTMAS CRAFT TREE TOP ANGEL        18\n",
      "                                      ..\n",
      "CHARLIE + LOLA BISCUITS TINS           1\n",
      "RAINY LADIES BIRTHDAY CARD             1\n",
      "SQUARE CHERRY BLOSSOM CABINET          1\n",
      "VICTORIAN  METAL POSTCARD SPRING       1\n",
      "JIGSAW TOADSTOOLS 3 PIECE              1\n",
      "Name: item_34, Length: 1661, dtype: int64\n",
      "\n",
      " \n",
      "\n",
      "count for item_35\n",
      "JUMBO BAG RED RETROSPOT               20\n",
      "RABBIT NIGHT LIGHT                    16\n",
      "PLASTERS IN TIN SPACEBOY              15\n",
      "DOTCOM POSTAGE                        15\n",
      "WHITE HANGING HEART T-LIGHT HOLDER    15\n",
      "                                      ..\n",
      "ENAMEL PINK TEA CONTAINER              1\n",
      "SILVER LARIAT BLACK STONE EARRINGS     1\n",
      "DECORATIVE VINTAGE COFFEE  BOX         1\n",
      "PLAYING CARDS KEEP CALM & CARRY ON     1\n",
      "PHOTO CLIP LINE                        1\n",
      "Name: item_35, Length: 1634, dtype: int64\n",
      "\n",
      " \n",
      "\n",
      "count for item_36\n",
      "WHITE HANGING HEART T-LIGHT HOLDER    24\n",
      "HEART OF WICKER SMALL                 22\n",
      "SET OF 20 KIDS COOKIE CUTTERS         19\n",
      "JUMBO BAG RED RETROSPOT               17\n",
      "LUNCH BAG WOODLAND                    16\n",
      "                                      ..\n",
      "I LOVE LONDON BABY GIFT SET            1\n",
      "RED RETROSPOT SHOPPER BAG              1\n",
      "MORE BUTTER METAL SIGN                 1\n",
      "TEA COSY RED  STRIPE                   1\n",
      "CAKE STAND LOVEBIRD 2 TIER WHITE       1\n",
      "Name: item_36, Length: 1633, dtype: int64\n",
      "\n",
      " \n",
      "\n",
      "count for item_37\n",
      "JUMBO BAG RED RETROSPOT               21\n",
      "RECIPE BOX PANTRY YELLOW DESIGN       19\n",
      "SPACEBOY LUNCH BOX                    16\n",
      "REX CASH+CARRY JUMBO SHOPPER          16\n",
      "ALARM CLOCK BAKELIKE RED              16\n",
      "                                      ..\n",
      "ORIGAMI VANILLA INCENSE/CANDLE SET     1\n",
      "RETROSPOT CANDLE  MEDIUM               1\n",
      "SET 10 CARDS DAVID'S MADONNA 17074     1\n",
      "QUEENS GUARD COFFEE MUG                1\n",
      "ZINC WILLIE WINKIE  CANDLE STICK       1\n",
      "Name: item_37, Length: 1586, dtype: int64\n",
      "\n",
      " \n",
      "\n",
      "count for item_38\n",
      "WOODEN PICTURE FRAME WHITE FINISH     25\n",
      "WHITE HANGING HEART T-LIGHT HOLDER    16\n",
      "DOTCOM POSTAGE                        15\n",
      "LUNCH BAG  BLACK SKULL                15\n",
      "RECIPE BOX PANTRY YELLOW DESIGN       15\n",
      "                                      ..\n",
      "T-LIGHT HOLDER HANGING LOVE BIRD       1\n",
      "MINI JIGSAW LEAP FROG                  1\n",
      "I LOVE LONDON BABY GIFT SET            1\n",
      "RED RETROSPOT SHOPPER BAG              1\n",
      "200 BENDY SKULL STRAWS                 1\n",
      "Name: item_38, Length: 1574, dtype: int64\n",
      "\n",
      " \n",
      "\n",
      "count for item_39\n",
      "6 RIBBONS RUSTIC CHARM                17\n",
      "PACK OF 72 RETROSPOT CAKE CASES       16\n",
      "WHITE HANGING HEART T-LIGHT HOLDER    16\n",
      "RED TOADSTOOL LED NIGHT LIGHT         16\n",
      "SET OF 6 SPICE TINS PANTRY DESIGN     14\n",
      "                                      ..\n",
      "ANGEL DECORATION 3 BUTTONS             1\n",
      "DECORATIVE VINTAGE COFFEE  BOX         1\n",
      "RED RETROSPOT SHOPPER BAG              1\n",
      "QUEENS GUARD COFFEE MUG                1\n",
      "PANTRY PASTRY BRUSH                    1\n"
     ]
    },
    {
     "name": "stdout",
     "output_type": "stream",
     "text": [
      "Name: item_39, Length: 1551, dtype: int64\n",
      "\n",
      " \n",
      "\n",
      "count for item_40\n",
      "JUMBO BAG ALPHABET                    17\n",
      "LUNCH BAG PINK POLKADOT               14\n",
      "WHITE HANGING HEART T-LIGHT HOLDER    13\n",
      "ALARM CLOCK BAKELIKE PINK             13\n",
      "RED TOADSTOOL LED NIGHT LIGHT         13\n",
      "                                      ..\n",
      "PAINTED LIGHTBULB RAINBOW DESIGN       1\n",
      "PACK 20 ENGLISH ROSE PAPER NAPKINS     1\n",
      "\"LETTER \"\"Z\"\" BLING KEY RING\"          1\n",
      "RED RETROSPOT BUTTER DISH              1\n",
      "200 BENDY SKULL STRAWS                 1\n",
      "Name: item_40, Length: 1561, dtype: int64\n",
      "\n",
      " \n",
      "\n"
     ]
    }
   ],
   "source": [
    "#value count of the columns\n",
    "for i in data.columns:\n",
    "  print(f'count for {i}')\n",
    "  print(data[i].value_counts())\n",
    "  print('\\n \\n')\n",
    "\n",
    "\n",
    "#All the columns have multiple entries"
   ]
  },
  {
   "cell_type": "code",
   "execution_count": 14,
   "metadata": {
    "colab": {
     "base_uri": "https://localhost:8080/"
    },
    "id": "NQggg0ettoF_",
    "outputId": "1c3decf3-6f96-48b6-88b3-f6fce240f15e"
   },
   "outputs": [
    {
     "data": {
      "text/plain": [
       "305"
      ]
     },
     "execution_count": 14,
     "metadata": {},
     "output_type": "execute_result"
    }
   ],
   "source": [
    "#number of unique entries in date column\n",
    "data['Date'].nunique()"
   ]
  },
  {
   "cell_type": "markdown",
   "metadata": {
    "id": "ghYItkbrvu8a"
   },
   "source": [
    "There are **305** unique dates in the dataset."
   ]
  },
  {
   "cell_type": "code",
   "execution_count": 15,
   "metadata": {
    "id": "gxGCFiD9vqKP"
   },
   "outputs": [],
   "source": [
    "# extracting hours from the Date\n",
    "data['Hour']  = pd.to_datetime(data['Time'], format='%H:%M').dt.hour"
   ]
  },
  {
   "cell_type": "code",
   "execution_count": 16,
   "metadata": {
    "colab": {
     "base_uri": "https://localhost:8080/",
     "height": 472
    },
    "id": "NPA3daKwxrft",
    "outputId": "8b139735-7053-4346-dcb3-803e9751cfd0"
   },
   "outputs": [
    {
     "data": {
      "image/png": "[encoded data removed]",
      "text/plain": [
       "<Figure size 640x480 with 1 Axes>"
      ]
     },
     "metadata": {},
     "output_type": "display_data"
    }
   ],
   "source": [
    "#visualising the hours where the most and least transactions happened\n",
    "hour_hist = data.hist(column='Hour', bins=15, grid=False)\n",
    "\n",
    "for ax in hour_hist.flatten():\n",
    "  ax.set_xlabel(\"Hour\")\n",
    "  ax.set_ylabel(\"Frequency\")"
   ]
  },
  {
   "cell_type": "markdown",
   "metadata": {
    "id": "xg8_ADjiLl6c"
   },
   "source": [
    "The plot shows that the shop usually open between the hours of 6:00 to 20:00, and the peak period of transation is at noon."
   ]
  },
  {
   "cell_type": "markdown",
   "metadata": {
    "id": "-6-EKRNJMZLC"
   },
   "source": [
    "Which month(s) recorded more sales?"
   ]
  },
  {
   "cell_type": "code",
   "execution_count": 17,
   "metadata": {
    "id": "gZXEZ_idMYU7"
   },
   "outputs": [],
   "source": [
    "# extracting month from the Date\n",
    "data['Month']  = pd.to_datetime(data['Date'] ).dt.month"
   ]
  },
  {
   "cell_type": "code",
   "execution_count": 18,
   "metadata": {
    "colab": {
     "base_uri": "https://localhost:8080/",
     "height": 472
    },
    "id": "Oat-Y0k0yCkS",
    "outputId": "d07f7664-2b93-4920-df39-447ecae2bdbd"
   },
   "outputs": [
    {
     "data": {
      "image/png": "[encoded data removed]",
      "text/plain": [
       "<Figure size 640x480 with 1 Axes>"
      ]
     },
     "metadata": {},
     "output_type": "display_data"
    }
   ],
   "source": [
    "#visualising the hours where the most and least transactions happened\n",
    "month_hist = data.hist(column='Month', bins=12, grid=False)\n",
    "\n",
    "for ax in month_hist.flatten():\n",
    "  ax.set_xlabel(\"Month\")\n",
    "  ax.set_ylabel(\"Frequency\")"
   ]
  },
  {
   "cell_type": "code",
   "execution_count": 19,
   "metadata": {
    "colab": {
     "base_uri": "https://localhost:8080/",
     "height": 467
    },
    "id": "oU-s3SXwYBXP",
    "outputId": "de5ff603-4a0d-4eee-a097-9800d8583e0c"
   },
   "outputs": [
    {
     "data": {
      "text/plain": [
       "<matplotlib.axes._subplots.AxesSubplot at 0x20b7a608c88>"
      ]
     },
     "execution_count": 19,
     "metadata": {},
     "output_type": "execute_result"
    },
    {
     "data": {
      "image/png": "[encoded data removed]",
      "text/plain": [
       "<Figure size 640x480 with 1 Axes>"
      ]
     },
     "metadata": {},
     "output_type": "display_data"
    }
   ],
   "source": [
    "sns.countplot(data.Month)"
   ]
  },
  {
   "cell_type": "markdown",
   "metadata": {
    "id": "5wbZGwr9YdIm"
   },
   "source": [
    "More sales were recorded from May to November with an increment in each month, except in August where a little decline was noticed in the sale. Most of the sales occured in November and the least in December."
   ]
  },
  {
   "cell_type": "code",
   "execution_count": 20,
   "metadata": {
    "id": "UwcYBsz4bEfw"
   },
   "outputs": [],
   "source": [
    "items = [item for item in data.columns if 'item' in item]\n",
    "items.append('Month')"
   ]
  },
  {
   "cell_type": "code",
   "execution_count": 21,
   "metadata": {
    "colab": {
     "base_uri": "https://localhost:8080/",
     "height": 1000
    },
    "id": "zp1LwIyqaD8e",
    "outputId": "aa3c4176-1412-490c-c794-0796d3690af6"
   },
   "outputs": [
    {
     "data": {
      "text/html": [
       "<div>\n",
       "<style scoped>\n",
       "    .dataframe tbody tr th:only-of-type {\n",
       "        vertical-align: middle;\n",
       "    }\n",
       "\n",
       "    .dataframe tbody tr th {\n",
       "        vertical-align: top;\n",
       "    }\n",
       "\n",
       "    .dataframe thead th {\n",
       "        text-align: right;\n",
       "    }\n",
       "</style>\n",
       "<table border=\"1\" class=\"dataframe\">\n",
       "  <thead>\n",
       "    <tr style=\"text-align: right;\">\n",
       "      <th></th>\n",
       "      <th>Month</th>\n",
       "      <th>1</th>\n",
       "      <th>2</th>\n",
       "      <th>3</th>\n",
       "      <th>4</th>\n",
       "      <th>5</th>\n",
       "      <th>6</th>\n",
       "      <th>7</th>\n",
       "      <th>8</th>\n",
       "      <th>9</th>\n",
       "      <th>10</th>\n",
       "      <th>11</th>\n",
       "      <th>12</th>\n",
       "    </tr>\n",
       "  </thead>\n",
       "  <tbody>\n",
       "    <tr>\n",
       "      <th>item_0</th>\n",
       "      <th>count</th>\n",
       "      <td>1502</td>\n",
       "      <td>1408</td>\n",
       "      <td>1538</td>\n",
       "      <td>1433</td>\n",
       "      <td>1676</td>\n",
       "      <td>1853</td>\n",
       "      <td>1915</td>\n",
       "      <td>1713</td>\n",
       "      <td>1913</td>\n",
       "      <td>2205</td>\n",
       "      <td>2773</td>\n",
       "      <td>1189</td>\n",
       "    </tr>\n",
       "    <tr>\n",
       "      <th>item_1</th>\n",
       "      <th>count</th>\n",
       "      <td>1266</td>\n",
       "      <td>1182</td>\n",
       "      <td>1308</td>\n",
       "      <td>1206</td>\n",
       "      <td>1450</td>\n",
       "      <td>1584</td>\n",
       "      <td>1611</td>\n",
       "      <td>1485</td>\n",
       "      <td>1641</td>\n",
       "      <td>1810</td>\n",
       "      <td>2349</td>\n",
       "      <td>997</td>\n",
       "    </tr>\n",
       "    <tr>\n",
       "      <th>item_2</th>\n",
       "      <th>count</th>\n",
       "      <td>1173</td>\n",
       "      <td>1086</td>\n",
       "      <td>1211</td>\n",
       "      <td>1134</td>\n",
       "      <td>1321</td>\n",
       "      <td>1455</td>\n",
       "      <td>1505</td>\n",
       "      <td>1390</td>\n",
       "      <td>1545</td>\n",
       "      <td>1694</td>\n",
       "      <td>2217</td>\n",
       "      <td>920</td>\n",
       "    </tr>\n",
       "    <tr>\n",
       "      <th>item_3</th>\n",
       "      <th>count</th>\n",
       "      <td>1117</td>\n",
       "      <td>1031</td>\n",
       "      <td>1136</td>\n",
       "      <td>1073</td>\n",
       "      <td>1256</td>\n",
       "      <td>1365</td>\n",
       "      <td>1434</td>\n",
       "      <td>1329</td>\n",
       "      <td>1466</td>\n",
       "      <td>1619</td>\n",
       "      <td>2127</td>\n",
       "      <td>864</td>\n",
       "    </tr>\n",
       "    <tr>\n",
       "      <th>item_4</th>\n",
       "      <th>count</th>\n",
       "      <td>1076</td>\n",
       "      <td>978</td>\n",
       "      <td>1084</td>\n",
       "      <td>1034</td>\n",
       "      <td>1189</td>\n",
       "      <td>1304</td>\n",
       "      <td>1370</td>\n",
       "      <td>1255</td>\n",
       "      <td>1409</td>\n",
       "      <td>1573</td>\n",
       "      <td>2046</td>\n",
       "      <td>812</td>\n",
       "    </tr>\n",
       "    <tr>\n",
       "      <th>item_5</th>\n",
       "      <th>count</th>\n",
       "      <td>1019</td>\n",
       "      <td>929</td>\n",
       "      <td>1046</td>\n",
       "      <td>987</td>\n",
       "      <td>1120</td>\n",
       "      <td>1244</td>\n",
       "      <td>1319</td>\n",
       "      <td>1212</td>\n",
       "      <td>1357</td>\n",
       "      <td>1505</td>\n",
       "      <td>1982</td>\n",
       "      <td>773</td>\n",
       "    </tr>\n",
       "    <tr>\n",
       "      <th>item_6</th>\n",
       "      <th>count</th>\n",
       "      <td>962</td>\n",
       "      <td>886</td>\n",
       "      <td>1015</td>\n",
       "      <td>947</td>\n",
       "      <td>1073</td>\n",
       "      <td>1195</td>\n",
       "      <td>1262</td>\n",
       "      <td>1162</td>\n",
       "      <td>1310</td>\n",
       "      <td>1461</td>\n",
       "      <td>1929</td>\n",
       "      <td>745</td>\n",
       "    </tr>\n",
       "    <tr>\n",
       "      <th>item_7</th>\n",
       "      <th>count</th>\n",
       "      <td>933</td>\n",
       "      <td>852</td>\n",
       "      <td>981</td>\n",
       "      <td>919</td>\n",
       "      <td>1043</td>\n",
       "      <td>1143</td>\n",
       "      <td>1222</td>\n",
       "      <td>1102</td>\n",
       "      <td>1258</td>\n",
       "      <td>1392</td>\n",
       "      <td>1858</td>\n",
       "      <td>711</td>\n",
       "    </tr>\n",
       "    <tr>\n",
       "      <th>item_8</th>\n",
       "      <th>count</th>\n",
       "      <td>896</td>\n",
       "      <td>816</td>\n",
       "      <td>928</td>\n",
       "      <td>892</td>\n",
       "      <td>1001</td>\n",
       "      <td>1097</td>\n",
       "      <td>1174</td>\n",
       "      <td>1060</td>\n",
       "      <td>1228</td>\n",
       "      <td>1353</td>\n",
       "      <td>1800</td>\n",
       "      <td>686</td>\n",
       "    </tr>\n",
       "    <tr>\n",
       "      <th>item_9</th>\n",
       "      <th>count</th>\n",
       "      <td>863</td>\n",
       "      <td>783</td>\n",
       "      <td>895</td>\n",
       "      <td>857</td>\n",
       "      <td>937</td>\n",
       "      <td>1061</td>\n",
       "      <td>1128</td>\n",
       "      <td>1009</td>\n",
       "      <td>1180</td>\n",
       "      <td>1314</td>\n",
       "      <td>1725</td>\n",
       "      <td>668</td>\n",
       "    </tr>\n",
       "    <tr>\n",
       "      <th>item_10</th>\n",
       "      <th>count</th>\n",
       "      <td>833</td>\n",
       "      <td>760</td>\n",
       "      <td>862</td>\n",
       "      <td>831</td>\n",
       "      <td>899</td>\n",
       "      <td>1022</td>\n",
       "      <td>1079</td>\n",
       "      <td>970</td>\n",
       "      <td>1126</td>\n",
       "      <td>1271</td>\n",
       "      <td>1648</td>\n",
       "      <td>646</td>\n",
       "    </tr>\n",
       "    <tr>\n",
       "      <th>item_11</th>\n",
       "      <th>count</th>\n",
       "      <td>790</td>\n",
       "      <td>727</td>\n",
       "      <td>825</td>\n",
       "      <td>805</td>\n",
       "      <td>862</td>\n",
       "      <td>989</td>\n",
       "      <td>1040</td>\n",
       "      <td>938</td>\n",
       "      <td>1085</td>\n",
       "      <td>1219</td>\n",
       "      <td>1570</td>\n",
       "      <td>621</td>\n",
       "    </tr>\n",
       "    <tr>\n",
       "      <th>item_12</th>\n",
       "      <th>count</th>\n",
       "      <td>753</td>\n",
       "      <td>695</td>\n",
       "      <td>802</td>\n",
       "      <td>786</td>\n",
       "      <td>835</td>\n",
       "      <td>951</td>\n",
       "      <td>1003</td>\n",
       "      <td>913</td>\n",
       "      <td>1058</td>\n",
       "      <td>1171</td>\n",
       "      <td>1507</td>\n",
       "      <td>590</td>\n",
       "    </tr>\n",
       "    <tr>\n",
       "      <th>item_13</th>\n",
       "      <th>count</th>\n",
       "      <td>728</td>\n",
       "      <td>670</td>\n",
       "      <td>771</td>\n",
       "      <td>753</td>\n",
       "      <td>793</td>\n",
       "      <td>891</td>\n",
       "      <td>953</td>\n",
       "      <td>876</td>\n",
       "      <td>1007</td>\n",
       "      <td>1134</td>\n",
       "      <td>1462</td>\n",
       "      <td>568</td>\n",
       "    </tr>\n",
       "    <tr>\n",
       "      <th>item_14</th>\n",
       "      <th>count</th>\n",
       "      <td>699</td>\n",
       "      <td>630</td>\n",
       "      <td>743</td>\n",
       "      <td>717</td>\n",
       "      <td>772</td>\n",
       "      <td>857</td>\n",
       "      <td>920</td>\n",
       "      <td>846</td>\n",
       "      <td>979</td>\n",
       "      <td>1100</td>\n",
       "      <td>1410</td>\n",
       "      <td>548</td>\n",
       "    </tr>\n",
       "    <tr>\n",
       "      <th>item_15</th>\n",
       "      <th>count</th>\n",
       "      <td>677</td>\n",
       "      <td>613</td>\n",
       "      <td>713</td>\n",
       "      <td>693</td>\n",
       "      <td>740</td>\n",
       "      <td>818</td>\n",
       "      <td>879</td>\n",
       "      <td>806</td>\n",
       "      <td>936</td>\n",
       "      <td>1050</td>\n",
       "      <td>1364</td>\n",
       "      <td>515</td>\n",
       "    </tr>\n",
       "    <tr>\n",
       "      <th>item_16</th>\n",
       "      <th>count</th>\n",
       "      <td>645</td>\n",
       "      <td>583</td>\n",
       "      <td>678</td>\n",
       "      <td>672</td>\n",
       "      <td>708</td>\n",
       "      <td>778</td>\n",
       "      <td>825</td>\n",
       "      <td>763</td>\n",
       "      <td>896</td>\n",
       "      <td>1006</td>\n",
       "      <td>1322</td>\n",
       "      <td>492</td>\n",
       "    </tr>\n",
       "    <tr>\n",
       "      <th>item_17</th>\n",
       "      <th>count</th>\n",
       "      <td>621</td>\n",
       "      <td>555</td>\n",
       "      <td>659</td>\n",
       "      <td>645</td>\n",
       "      <td>680</td>\n",
       "      <td>749</td>\n",
       "      <td>792</td>\n",
       "      <td>728</td>\n",
       "      <td>862</td>\n",
       "      <td>985</td>\n",
       "      <td>1261</td>\n",
       "      <td>470</td>\n",
       "    </tr>\n",
       "    <tr>\n",
       "      <th>item_18</th>\n",
       "      <th>count</th>\n",
       "      <td>595</td>\n",
       "      <td>535</td>\n",
       "      <td>644</td>\n",
       "      <td>616</td>\n",
       "      <td>660</td>\n",
       "      <td>730</td>\n",
       "      <td>755</td>\n",
       "      <td>698</td>\n",
       "      <td>833</td>\n",
       "      <td>954</td>\n",
       "      <td>1221</td>\n",
       "      <td>450</td>\n",
       "    </tr>\n",
       "    <tr>\n",
       "      <th>item_19</th>\n",
       "      <th>count</th>\n",
       "      <td>565</td>\n",
       "      <td>508</td>\n",
       "      <td>609</td>\n",
       "      <td>587</td>\n",
       "      <td>620</td>\n",
       "      <td>707</td>\n",
       "      <td>719</td>\n",
       "      <td>669</td>\n",
       "      <td>789</td>\n",
       "      <td>923</td>\n",
       "      <td>1153</td>\n",
       "      <td>433</td>\n",
       "    </tr>\n",
       "    <tr>\n",
       "      <th>item_20</th>\n",
       "      <th>count</th>\n",
       "      <td>542</td>\n",
       "      <td>483</td>\n",
       "      <td>586</td>\n",
       "      <td>563</td>\n",
       "      <td>599</td>\n",
       "      <td>665</td>\n",
       "      <td>682</td>\n",
       "      <td>653</td>\n",
       "      <td>747</td>\n",
       "      <td>889</td>\n",
       "      <td>1106</td>\n",
       "      <td>406</td>\n",
       "    </tr>\n",
       "    <tr>\n",
       "      <th>item_21</th>\n",
       "      <th>count</th>\n",
       "      <td>514</td>\n",
       "      <td>466</td>\n",
       "      <td>549</td>\n",
       "      <td>547</td>\n",
       "      <td>577</td>\n",
       "      <td>639</td>\n",
       "      <td>656</td>\n",
       "      <td>634</td>\n",
       "      <td>719</td>\n",
       "      <td>857</td>\n",
       "      <td>1066</td>\n",
       "      <td>385</td>\n",
       "    </tr>\n",
       "    <tr>\n",
       "      <th>item_22</th>\n",
       "      <th>count</th>\n",
       "      <td>503</td>\n",
       "      <td>448</td>\n",
       "      <td>519</td>\n",
       "      <td>532</td>\n",
       "      <td>547</td>\n",
       "      <td>609</td>\n",
       "      <td>635</td>\n",
       "      <td>617</td>\n",
       "      <td>703</td>\n",
       "      <td>827</td>\n",
       "      <td>1032</td>\n",
       "      <td>375</td>\n",
       "    </tr>\n",
       "    <tr>\n",
       "      <th>item_23</th>\n",
       "      <th>count</th>\n",
       "      <td>476</td>\n",
       "      <td>439</td>\n",
       "      <td>493</td>\n",
       "      <td>502</td>\n",
       "      <td>515</td>\n",
       "      <td>591</td>\n",
       "      <td>620</td>\n",
       "      <td>599</td>\n",
       "      <td>670</td>\n",
       "      <td>803</td>\n",
       "      <td>983</td>\n",
       "      <td>358</td>\n",
       "    </tr>\n",
       "    <tr>\n",
       "      <th>item_24</th>\n",
       "      <th>count</th>\n",
       "      <td>445</td>\n",
       "      <td>421</td>\n",
       "      <td>473</td>\n",
       "      <td>474</td>\n",
       "      <td>504</td>\n",
       "      <td>560</td>\n",
       "      <td>591</td>\n",
       "      <td>576</td>\n",
       "      <td>654</td>\n",
       "      <td>772</td>\n",
       "      <td>954</td>\n",
       "      <td>348</td>\n",
       "    </tr>\n",
       "    <tr>\n",
       "      <th>item_25</th>\n",
       "      <th>count</th>\n",
       "      <td>445</td>\n",
       "      <td>405</td>\n",
       "      <td>464</td>\n",
       "      <td>460</td>\n",
       "      <td>480</td>\n",
       "      <td>539</td>\n",
       "      <td>572</td>\n",
       "      <td>556</td>\n",
       "      <td>633</td>\n",
       "      <td>758</td>\n",
       "      <td>926</td>\n",
       "      <td>335</td>\n",
       "    </tr>\n",
       "    <tr>\n",
       "      <th>item_26</th>\n",
       "      <th>count</th>\n",
       "      <td>428</td>\n",
       "      <td>392</td>\n",
       "      <td>446</td>\n",
       "      <td>447</td>\n",
       "      <td>459</td>\n",
       "      <td>523</td>\n",
       "      <td>557</td>\n",
       "      <td>536</td>\n",
       "      <td>610</td>\n",
       "      <td>718</td>\n",
       "      <td>911</td>\n",
       "      <td>326</td>\n",
       "    </tr>\n",
       "    <tr>\n",
       "      <th>item_27</th>\n",
       "      <th>count</th>\n",
       "      <td>420</td>\n",
       "      <td>374</td>\n",
       "      <td>427</td>\n",
       "      <td>437</td>\n",
       "      <td>447</td>\n",
       "      <td>511</td>\n",
       "      <td>547</td>\n",
       "      <td>527</td>\n",
       "      <td>584</td>\n",
       "      <td>697</td>\n",
       "      <td>885</td>\n",
       "      <td>315</td>\n",
       "    </tr>\n",
       "    <tr>\n",
       "      <th>item_28</th>\n",
       "      <th>count</th>\n",
       "      <td>400</td>\n",
       "      <td>359</td>\n",
       "      <td>407</td>\n",
       "      <td>422</td>\n",
       "      <td>434</td>\n",
       "      <td>488</td>\n",
       "      <td>525</td>\n",
       "      <td>513</td>\n",
       "      <td>565</td>\n",
       "      <td>679</td>\n",
       "      <td>865</td>\n",
       "      <td>312</td>\n",
       "    </tr>\n",
       "    <tr>\n",
       "      <th>item_29</th>\n",
       "      <th>count</th>\n",
       "      <td>394</td>\n",
       "      <td>345</td>\n",
       "      <td>383</td>\n",
       "      <td>407</td>\n",
       "      <td>415</td>\n",
       "      <td>469</td>\n",
       "      <td>499</td>\n",
       "      <td>497</td>\n",
       "      <td>543</td>\n",
       "      <td>654</td>\n",
       "      <td>846</td>\n",
       "      <td>305</td>\n",
       "    </tr>\n",
       "    <tr>\n",
       "      <th>item_30</th>\n",
       "      <th>count</th>\n",
       "      <td>385</td>\n",
       "      <td>335</td>\n",
       "      <td>367</td>\n",
       "      <td>397</td>\n",
       "      <td>397</td>\n",
       "      <td>451</td>\n",
       "      <td>482</td>\n",
       "      <td>487</td>\n",
       "      <td>531</td>\n",
       "      <td>636</td>\n",
       "      <td>813</td>\n",
       "      <td>292</td>\n",
       "    </tr>\n",
       "    <tr>\n",
       "      <th>item_31</th>\n",
       "      <th>count</th>\n",
       "      <td>371</td>\n",
       "      <td>324</td>\n",
       "      <td>360</td>\n",
       "      <td>380</td>\n",
       "      <td>384</td>\n",
       "      <td>441</td>\n",
       "      <td>458</td>\n",
       "      <td>463</td>\n",
       "      <td>515</td>\n",
       "      <td>613</td>\n",
       "      <td>789</td>\n",
       "      <td>281</td>\n",
       "    </tr>\n",
       "    <tr>\n",
       "      <th>item_32</th>\n",
       "      <th>count</th>\n",
       "      <td>360</td>\n",
       "      <td>313</td>\n",
       "      <td>349</td>\n",
       "      <td>362</td>\n",
       "      <td>370</td>\n",
       "      <td>428</td>\n",
       "      <td>437</td>\n",
       "      <td>447</td>\n",
       "      <td>505</td>\n",
       "      <td>598</td>\n",
       "      <td>778</td>\n",
       "      <td>275</td>\n",
       "    </tr>\n",
       "    <tr>\n",
       "      <th>item_33</th>\n",
       "      <th>count</th>\n",
       "      <td>353</td>\n",
       "      <td>308</td>\n",
       "      <td>337</td>\n",
       "      <td>353</td>\n",
       "      <td>356</td>\n",
       "      <td>418</td>\n",
       "      <td>429</td>\n",
       "      <td>430</td>\n",
       "      <td>486</td>\n",
       "      <td>579</td>\n",
       "      <td>753</td>\n",
       "      <td>268</td>\n",
       "    </tr>\n",
       "    <tr>\n",
       "      <th>item_34</th>\n",
       "      <th>count</th>\n",
       "      <td>345</td>\n",
       "      <td>300</td>\n",
       "      <td>327</td>\n",
       "      <td>346</td>\n",
       "      <td>347</td>\n",
       "      <td>402</td>\n",
       "      <td>418</td>\n",
       "      <td>418</td>\n",
       "      <td>464</td>\n",
       "      <td>560</td>\n",
       "      <td>735</td>\n",
       "      <td>258</td>\n",
       "    </tr>\n",
       "    <tr>\n",
       "      <th>item_35</th>\n",
       "      <th>count</th>\n",
       "      <td>333</td>\n",
       "      <td>284</td>\n",
       "      <td>312</td>\n",
       "      <td>336</td>\n",
       "      <td>330</td>\n",
       "      <td>394</td>\n",
       "      <td>413</td>\n",
       "      <td>409</td>\n",
       "      <td>457</td>\n",
       "      <td>536</td>\n",
       "      <td>720</td>\n",
       "      <td>251</td>\n",
       "    </tr>\n",
       "    <tr>\n",
       "      <th>item_36</th>\n",
       "      <th>count</th>\n",
       "      <td>328</td>\n",
       "      <td>275</td>\n",
       "      <td>304</td>\n",
       "      <td>331</td>\n",
       "      <td>317</td>\n",
       "      <td>386</td>\n",
       "      <td>404</td>\n",
       "      <td>402</td>\n",
       "      <td>442</td>\n",
       "      <td>520</td>\n",
       "      <td>709</td>\n",
       "      <td>246</td>\n",
       "    </tr>\n",
       "    <tr>\n",
       "      <th>item_37</th>\n",
       "      <th>count</th>\n",
       "      <td>323</td>\n",
       "      <td>269</td>\n",
       "      <td>295</td>\n",
       "      <td>317</td>\n",
       "      <td>309</td>\n",
       "      <td>375</td>\n",
       "      <td>391</td>\n",
       "      <td>387</td>\n",
       "      <td>425</td>\n",
       "      <td>511</td>\n",
       "      <td>692</td>\n",
       "      <td>232</td>\n",
       "    </tr>\n",
       "    <tr>\n",
       "      <th>item_38</th>\n",
       "      <th>count</th>\n",
       "      <td>315</td>\n",
       "      <td>263</td>\n",
       "      <td>293</td>\n",
       "      <td>306</td>\n",
       "      <td>299</td>\n",
       "      <td>365</td>\n",
       "      <td>379</td>\n",
       "      <td>373</td>\n",
       "      <td>416</td>\n",
       "      <td>498</td>\n",
       "      <td>674</td>\n",
       "      <td>228</td>\n",
       "    </tr>\n",
       "    <tr>\n",
       "      <th>item_39</th>\n",
       "      <th>count</th>\n",
       "      <td>307</td>\n",
       "      <td>255</td>\n",
       "      <td>287</td>\n",
       "      <td>301</td>\n",
       "      <td>286</td>\n",
       "      <td>354</td>\n",
       "      <td>364</td>\n",
       "      <td>371</td>\n",
       "      <td>410</td>\n",
       "      <td>482</td>\n",
       "      <td>661</td>\n",
       "      <td>225</td>\n",
       "    </tr>\n",
       "    <tr>\n",
       "      <th>item_40</th>\n",
       "      <th>count</th>\n",
       "      <td>305</td>\n",
       "      <td>249</td>\n",
       "      <td>277</td>\n",
       "      <td>295</td>\n",
       "      <td>276</td>\n",
       "      <td>347</td>\n",
       "      <td>359</td>\n",
       "      <td>358</td>\n",
       "      <td>405</td>\n",
       "      <td>472</td>\n",
       "      <td>647</td>\n",
       "      <td>217</td>\n",
       "    </tr>\n",
       "  </tbody>\n",
       "</table>\n",
       "</div>"
      ],
      "text/plain": [
       "Month            1     2     3     4     5     6     7     8     9     10  \\\n",
       "item_0  count  1502  1408  1538  1433  1676  1853  1915  1713  1913  2205   \n",
       "item_1  count  1266  1182  1308  1206  1450  1584  1611  1485  1641  1810   \n",
       "item_2  count  1173  1086  1211  1134  1321  1455  1505  1390  1545  1694   \n",
       "item_3  count  1117  1031  1136  1073  1256  1365  1434  1329  1466  1619   \n",
       "item_4  count  1076   978  1084  1034  1189  1304  1370  1255  1409  1573   \n",
       "item_5  count  1019   929  1046   987  1120  1244  1319  1212  1357  1505   \n",
       "item_6  count   962   886  1015   947  1073  1195  1262  1162  1310  1461   \n",
       "item_7  count   933   852   981   919  1043  1143  1222  1102  1258  1392   \n",
       "item_8  count   896   816   928   892  1001  1097  1174  1060  1228  1353   \n",
       "item_9  count   863   783   895   857   937  1061  1128  1009  1180  1314   \n",
       "item_10 count   833   760   862   831   899  1022  1079   970  1126  1271   \n",
       "item_11 count   790   727   825   805   862   989  1040   938  1085  1219   \n",
       "item_12 count   753   695   802   786   835   951  1003   913  1058  1171   \n",
       "item_13 count   728   670   771   753   793   891   953   876  1007  1134   \n",
       "item_14 count   699   630   743   717   772   857   920   846   979  1100   \n",
       "item_15 count   677   613   713   693   740   818   879   806   936  1050   \n",
       "item_16 count   645   583   678   672   708   778   825   763   896  1006   \n",
       "item_17 count   621   555   659   645   680   749   792   728   862   985   \n",
       "item_18 count   595   535   644   616   660   730   755   698   833   954   \n",
       "item_19 count   565   508   609   587   620   707   719   669   789   923   \n",
       "item_20 count   542   483   586   563   599   665   682   653   747   889   \n",
       "item_21 count   514   466   549   547   577   639   656   634   719   857   \n",
       "item_22 count   503   448   519   532   547   609   635   617   703   827   \n",
       "item_23 count   476   439   493   502   515   591   620   599   670   803   \n",
       "item_24 count   445   421   473   474   504   560   591   576   654   772   \n",
       "item_25 count   445   405   464   460   480   539   572   556   633   758   \n",
       "item_26 count   428   392   446   447   459   523   557   536   610   718   \n",
       "item_27 count   420   374   427   437   447   511   547   527   584   697   \n",
       "item_28 count   400   359   407   422   434   488   525   513   565   679   \n",
       "item_29 count   394   345   383   407   415   469   499   497   543   654   \n",
       "item_30 count   385   335   367   397   397   451   482   487   531   636   \n",
       "item_31 count   371   324   360   380   384   441   458   463   515   613   \n",
       "item_32 count   360   313   349   362   370   428   437   447   505   598   \n",
       "item_33 count   353   308   337   353   356   418   429   430   486   579   \n",
       "item_34 count   345   300   327   346   347   402   418   418   464   560   \n",
       "item_35 count   333   284   312   336   330   394   413   409   457   536   \n",
       "item_36 count   328   275   304   331   317   386   404   402   442   520   \n",
       "item_37 count   323   269   295   317   309   375   391   387   425   511   \n",
       "item_38 count   315   263   293   306   299   365   379   373   416   498   \n",
       "item_39 count   307   255   287   301   286   354   364   371   410   482   \n",
       "item_40 count   305   249   277   295   276   347   359   358   405   472   \n",
       "\n",
       "Month            11    12  \n",
       "item_0  count  2773  1189  \n",
       "item_1  count  2349   997  \n",
       "item_2  count  2217   920  \n",
       "item_3  count  2127   864  \n",
       "item_4  count  2046   812  \n",
       "item_5  count  1982   773  \n",
       "item_6  count  1929   745  \n",
       "item_7  count  1858   711  \n",
       "item_8  count  1800   686  \n",
       "item_9  count  1725   668  \n",
       "item_10 count  1648   646  \n",
       "item_11 count  1570   621  \n",
       "item_12 count  1507   590  \n",
       "item_13 count  1462   568  \n",
       "item_14 count  1410   548  \n",
       "item_15 count  1364   515  \n",
       "item_16 count  1322   492  \n",
       "item_17 count  1261   470  \n",
       "item_18 count  1221   450  \n",
       "item_19 count  1153   433  \n",
       "item_20 count  1106   406  \n",
       "item_21 count  1066   385  \n",
       "item_22 count  1032   375  \n",
       "item_23 count   983   358  \n",
       "item_24 count   954   348  \n",
       "item_25 count   926   335  \n",
       "item_26 count   911   326  \n",
       "item_27 count   885   315  \n",
       "item_28 count   865   312  \n",
       "item_29 count   846   305  \n",
       "item_30 count   813   292  \n",
       "item_31 count   789   281  \n",
       "item_32 count   778   275  \n",
       "item_33 count   753   268  \n",
       "item_34 count   735   258  \n",
       "item_35 count   720   251  \n",
       "item_36 count   709   246  \n",
       "item_37 count   692   232  \n",
       "item_38 count   674   228  \n",
       "item_39 count   661   225  \n",
       "item_40 count   647   217  "
      ]
     },
     "execution_count": 21,
     "metadata": {},
     "output_type": "execute_result"
    }
   ],
   "source": [
    "data[items].groupby('Month').agg(['count']).T"
   ]
  },
  {
   "cell_type": "markdown",
   "metadata": {
    "id": "4AKL9fo7T3An"
   },
   "source": [
    "####Year"
   ]
  },
  {
   "cell_type": "code",
   "execution_count": 22,
   "metadata": {
    "id": "Kc1EqpwlQWlu"
   },
   "outputs": [],
   "source": [
    "# extracting year from the Date\n",
    "data['Year']  = pd.to_datetime(data['Date']).dt.year"
   ]
  },
  {
   "cell_type": "code",
   "execution_count": 23,
   "metadata": {
    "colab": {
     "base_uri": "https://localhost:8080/"
    },
    "id": "Ss_ip1y9SY1B",
    "outputId": "d9136653-a07b-48ce-c8a8-1fc80e2418b4"
   },
   "outputs": [
    {
     "data": {
      "text/plain": [
       "2011    20367\n",
       "2010     1731\n",
       "Name: Year, dtype: int64"
      ]
     },
     "execution_count": 23,
     "metadata": {},
     "output_type": "execute_result"
    }
   ],
   "source": [
    "data.Year.value_counts()"
   ]
  },
  {
   "cell_type": "code",
   "execution_count": 24,
   "metadata": {
    "colab": {
     "base_uri": "https://localhost:8080/",
     "height": 466
    },
    "id": "Pl5aTRTOScpf",
    "outputId": "487aace4-684b-407f-9c79-d417668f69a5"
   },
   "outputs": [
    {
     "data": {
      "text/plain": [
       "<matplotlib.axes._subplots.AxesSubplot at 0x20b7a6c4508>"
      ]
     },
     "execution_count": 24,
     "metadata": {},
     "output_type": "execute_result"
    },
    {
     "data": {
      "image/png": "[encoded data removed]",
      "text/plain": [
       "<Figure size 640x480 with 1 Axes>"
      ]
     },
     "metadata": {},
     "output_type": "display_data"
    }
   ],
   "source": [
    "sns.countplot(data.Year)"
   ]
  },
  {
   "cell_type": "markdown",
   "metadata": {
    "id": "wHdl-ytBUGwU"
   },
   "source": [
    "The dataset has a record of sales made in the shop in 2010 and 2011. The above countplot shows that there was a wide gap in the number of sales made in 2010 and 2011."
   ]
  },
  {
   "cell_type": "code",
   "execution_count": 25,
   "metadata": {
    "colab": {
     "base_uri": "https://localhost:8080/",
     "height": 470
    },
    "id": "B--LJYsSSjfT",
    "outputId": "976a3c2b-4e5b-4c9a-91a1-d4f058c6099f"
   },
   "outputs": [
    {
     "data": {
      "text/plain": [
       "<matplotlib.axes._subplots.AxesSubplot at 0x20b7a86e488>"
      ]
     },
     "execution_count": 25,
     "metadata": {},
     "output_type": "execute_result"
    },
    {
     "data": {
      "image/png": "[encoded data removed]",
      "text/plain": [
       "<Figure size 640x480 with 1 Axes>"
      ]
     },
     "metadata": {},
     "output_type": "display_data"
    }
   ],
   "source": [
    "pd.crosstab(data.Month, data.Year).plot(kind='bar')"
   ]
  },
  {
   "cell_type": "markdown",
   "metadata": {
    "id": "b_AZjMWYVXVM"
   },
   "source": [
    "Sales were made from January to December in 2010 except for the months of April and November were not a single sale was recorded, For December, sales recorded in 2010 exceeded that of 2011."
   ]
  },
  {
   "cell_type": "markdown",
   "metadata": {
    "id": "vdEK6d2VsdIs"
   },
   "source": [
    "# Apriori Algorithm"
   ]
  },
  {
   "cell_type": "code",
   "execution_count": 27,
   "metadata": {
    "id": "VWbGh54Zo_Wt"
   },
   "outputs": [],
   "source": [
    "#import apyori\n",
    "from apyori import apriori"
   ]
  },
  {
   "cell_type": "markdown",
   "metadata": {
    "id": "bfiIliYNvWaG"
   },
   "source": [
    "### Data Preprocessing"
   ]
  },
  {
   "cell_type": "code",
   "execution_count": 28,
   "metadata": {
    "id": "Z7NNrTx1pntk"
   },
   "outputs": [],
   "source": [
    "#extracting columns where items are there\n",
    "items_df = data[data.columns[3:44]]"
   ]
  },
  {
   "cell_type": "code",
   "execution_count": 29,
   "metadata": {
    "colab": {
     "base_uri": "https://localhost:8080/",
     "height": 612
    },
    "id": "-NCHGRVSxEX1",
    "outputId": "f020cc45-fd65-4fdd-8f8a-f6d7dd14a551"
   },
   "outputs": [
    {
     "data": {
      "text/html": [
       "<div>\n",
       "<style scoped>\n",
       "    .dataframe tbody tr th:only-of-type {\n",
       "        vertical-align: middle;\n",
       "    }\n",
       "\n",
       "    .dataframe tbody tr th {\n",
       "        vertical-align: top;\n",
       "    }\n",
       "\n",
       "    .dataframe thead th {\n",
       "        text-align: right;\n",
       "    }\n",
       "</style>\n",
       "<table border=\"1\" class=\"dataframe\">\n",
       "  <thead>\n",
       "    <tr style=\"text-align: right;\">\n",
       "      <th></th>\n",
       "      <th>item_0</th>\n",
       "      <th>item_1</th>\n",
       "      <th>item_2</th>\n",
       "      <th>item_3</th>\n",
       "      <th>item_4</th>\n",
       "      <th>item_5</th>\n",
       "      <th>item_6</th>\n",
       "      <th>item_7</th>\n",
       "      <th>item_8</th>\n",
       "      <th>item_9</th>\n",
       "      <th>...</th>\n",
       "      <th>item_31</th>\n",
       "      <th>item_32</th>\n",
       "      <th>item_33</th>\n",
       "      <th>item_34</th>\n",
       "      <th>item_35</th>\n",
       "      <th>item_36</th>\n",
       "      <th>item_37</th>\n",
       "      <th>item_38</th>\n",
       "      <th>item_39</th>\n",
       "      <th>item_40</th>\n",
       "    </tr>\n",
       "  </thead>\n",
       "  <tbody>\n",
       "    <tr>\n",
       "      <th>27036</th>\n",
       "      <td>WOOD STAMP SET BEST WISHES</td>\n",
       "      <td>WOOD STAMP SET THANK YOU</td>\n",
       "      <td>SET OF 20 KIDS COOKIE CUTTERS</td>\n",
       "      <td>HANGING  BUTTERFLY T-LIGHT HOLDER</td>\n",
       "      <td>PENS ASSORTED SPACEBALL</td>\n",
       "      <td>12 PENCILS TALL TUBE RED RETROSPOT</td>\n",
       "      <td>12 PENCILS TALL TUBE SKULLS</td>\n",
       "      <td>12 PENCILS TALL TUBE WOODLAND</td>\n",
       "      <td>DOUGHNUT LIP GLOSS</td>\n",
       "      <td>BUBBLEGUM RING ASSORTED</td>\n",
       "      <td>...</td>\n",
       "      <td>NaN</td>\n",
       "      <td>NaN</td>\n",
       "      <td>NaN</td>\n",
       "      <td>NaN</td>\n",
       "      <td>NaN</td>\n",
       "      <td>NaN</td>\n",
       "      <td>NaN</td>\n",
       "      <td>NaN</td>\n",
       "      <td>NaN</td>\n",
       "      <td>NaN</td>\n",
       "    </tr>\n",
       "    <tr>\n",
       "      <th>28646</th>\n",
       "      <td>BOX OF 6 CHRISTMAS CAKE DECORATIONS</td>\n",
       "      <td>CHRISTMAS LIGHTS 10 REINDEER</td>\n",
       "      <td>60 CAKE CASES VINTAGE CHRISTMAS</td>\n",
       "      <td>RABBIT NIGHT LIGHT</td>\n",
       "      <td>PACK OF 72 RETROSPOT CAKE CASES</td>\n",
       "      <td>JUMBO BAG RED RETROSPOT</td>\n",
       "      <td>VINTAGE CHRISTMAS GIFT BAG LARGE</td>\n",
       "      <td>GIFT BAG PSYCHEDELIC APPLES</td>\n",
       "      <td>PLASTERS IN TIN STRONGMAN</td>\n",
       "      <td>ROLL WRAP VINTAGE CHRISTMAS</td>\n",
       "      <td>...</td>\n",
       "      <td>NaN</td>\n",
       "      <td>NaN</td>\n",
       "      <td>NaN</td>\n",
       "      <td>NaN</td>\n",
       "      <td>NaN</td>\n",
       "      <td>NaN</td>\n",
       "      <td>NaN</td>\n",
       "      <td>NaN</td>\n",
       "      <td>NaN</td>\n",
       "      <td>NaN</td>\n",
       "    </tr>\n",
       "    <tr>\n",
       "      <th>26769</th>\n",
       "      <td>3 WHITE CHOC MORRIS BOXED CANDLES</td>\n",
       "      <td>PINK HANGING HEART T-LIGHT HOLDER</td>\n",
       "      <td>SET/6 PINK  BUTTERFLY T-LIGHTS</td>\n",
       "      <td>SET/6 TURQUOISE BUTTERFLY T-LIGHTS</td>\n",
       "      <td>SET/6 PURPLE BUTTERFLY T-LIGHTS</td>\n",
       "      <td>RED HANGING HEART T-LIGHT HOLDER</td>\n",
       "      <td>WHITE LOVEBIRD LANTERN</td>\n",
       "      <td>PANTRY 3 HOOK ROLLING PIN HANGER</td>\n",
       "      <td>CREAM HEART CARD HOLDER</td>\n",
       "      <td>BLACK HEART CARD HOLDER</td>\n",
       "      <td>...</td>\n",
       "      <td>NaN</td>\n",
       "      <td>NaN</td>\n",
       "      <td>NaN</td>\n",
       "      <td>NaN</td>\n",
       "      <td>NaN</td>\n",
       "      <td>NaN</td>\n",
       "      <td>NaN</td>\n",
       "      <td>NaN</td>\n",
       "      <td>NaN</td>\n",
       "      <td>NaN</td>\n",
       "    </tr>\n",
       "    <tr>\n",
       "      <th>21170</th>\n",
       "      <td>SET OF 4 KNICK KNACK TINS DOILY</td>\n",
       "      <td>BISCUIT TIN 50'S CHRISTMAS</td>\n",
       "      <td>REGENCY MILK JUG PINK</td>\n",
       "      <td>DOORMAT WELCOME TO OUR HOME</td>\n",
       "      <td>PICTURE DOMINOES</td>\n",
       "      <td>CARD CIRCUS PARADE</td>\n",
       "      <td>MINI CAKE STAND T-LIGHT HOLDER</td>\n",
       "      <td>PACK OF 20 NAPKINS PANTRY DESIGN</td>\n",
       "      <td>PACK OF 20 NAPKINS RED APPLES</td>\n",
       "      <td>HEART OF WICKER SMALL</td>\n",
       "      <td>...</td>\n",
       "      <td>CHRISTMAS TREE HEART DECORATION</td>\n",
       "      <td>JUMBO BAG PINK VINTAGE PAISLEY</td>\n",
       "      <td>VINTAGE PAISLEY STATIONERY SET</td>\n",
       "      <td>BIRDHOUSE DECORATION MAGIC GARDEN</td>\n",
       "      <td>WALL TIDY RETROSPOT</td>\n",
       "      <td>MAGIC DRAWING SLATE SPACEBOY</td>\n",
       "      <td>PINK REGENCY TEACUP AND SAUCER</td>\n",
       "      <td>SET OF 20 VINTAGE CHRISTMAS NAPKINS</td>\n",
       "      <td>WOODEN ADVENT CALENDAR CREAM</td>\n",
       "      <td>WOODEN ADVENT CALENDAR RED</td>\n",
       "    </tr>\n",
       "    <tr>\n",
       "      <th>25347</th>\n",
       "      <td>VINTAGE DOILY TRAVEL SEWING KIT</td>\n",
       "      <td>LOVE HOT WATER BOTTLE</td>\n",
       "      <td>CHOCOLATE HOT WATER BOTTLE</td>\n",
       "      <td>RETROSPOT HEART HOT WATER BOTTLE</td>\n",
       "      <td>HOT WATER BOTTLE KEEP CALM</td>\n",
       "      <td>LADIES &amp; GENTLEMEN METAL SIGN</td>\n",
       "      <td>HOT BATHS METAL SIGN</td>\n",
       "      <td>GIN + TONIC DIET METAL SIGN</td>\n",
       "      <td>ZINC METAL HEART DECORATION</td>\n",
       "      <td>FOLKART ZINC HEART CHRISTMAS DEC</td>\n",
       "      <td>...</td>\n",
       "      <td>SET OF 3 WOODEN HEART DECORATIONS</td>\n",
       "      <td>SET OF 3 WOODEN STOCKING DECORATION</td>\n",
       "      <td>SET OF 3 WOODEN TREE DECORATIONS</td>\n",
       "      <td>WHITE HANGING HEART T-LIGHT HOLDER</td>\n",
       "      <td>GLITTER HEART DECORATION</td>\n",
       "      <td>GLITTER CHRISTMAS TREE</td>\n",
       "      <td>GLITTER CHRISTMAS STAR</td>\n",
       "      <td>WELCOME  WOODEN BLOCK LETTERS</td>\n",
       "      <td>WOODEN ADVENT CALENDAR RED</td>\n",
       "      <td>IVORY SWEETHEART WIRE LETTER RACK</td>\n",
       "    </tr>\n",
       "  </tbody>\n",
       "</table>\n",
       "<p>5 rows × 41 columns</p>\n",
       "</div>"
      ],
      "text/plain": [
       "                                    item_0                             item_1  \\\n",
       "27036           WOOD STAMP SET BEST WISHES           WOOD STAMP SET THANK YOU   \n",
       "28646  BOX OF 6 CHRISTMAS CAKE DECORATIONS       CHRISTMAS LIGHTS 10 REINDEER   \n",
       "26769    3 WHITE CHOC MORRIS BOXED CANDLES  PINK HANGING HEART T-LIGHT HOLDER   \n",
       "21170      SET OF 4 KNICK KNACK TINS DOILY         BISCUIT TIN 50'S CHRISTMAS   \n",
       "25347      VINTAGE DOILY TRAVEL SEWING KIT              LOVE HOT WATER BOTTLE   \n",
       "\n",
       "                                item_2                              item_3  \\\n",
       "27036    SET OF 20 KIDS COOKIE CUTTERS   HANGING  BUTTERFLY T-LIGHT HOLDER   \n",
       "28646  60 CAKE CASES VINTAGE CHRISTMAS                  RABBIT NIGHT LIGHT   \n",
       "26769   SET/6 PINK  BUTTERFLY T-LIGHTS  SET/6 TURQUOISE BUTTERFLY T-LIGHTS   \n",
       "21170            REGENCY MILK JUG PINK         DOORMAT WELCOME TO OUR HOME   \n",
       "25347       CHOCOLATE HOT WATER BOTTLE    RETROSPOT HEART HOT WATER BOTTLE   \n",
       "\n",
       "                                item_4                              item_5  \\\n",
       "27036          PENS ASSORTED SPACEBALL  12 PENCILS TALL TUBE RED RETROSPOT   \n",
       "28646  PACK OF 72 RETROSPOT CAKE CASES             JUMBO BAG RED RETROSPOT   \n",
       "26769  SET/6 PURPLE BUTTERFLY T-LIGHTS    RED HANGING HEART T-LIGHT HOLDER   \n",
       "21170                 PICTURE DOMINOES                  CARD CIRCUS PARADE   \n",
       "25347       HOT WATER BOTTLE KEEP CALM       LADIES & GENTLEMEN METAL SIGN   \n",
       "\n",
       "                                 item_6                            item_7  \\\n",
       "27036       12 PENCILS TALL TUBE SKULLS     12 PENCILS TALL TUBE WOODLAND   \n",
       "28646  VINTAGE CHRISTMAS GIFT BAG LARGE       GIFT BAG PSYCHEDELIC APPLES   \n",
       "26769            WHITE LOVEBIRD LANTERN  PANTRY 3 HOOK ROLLING PIN HANGER   \n",
       "21170    MINI CAKE STAND T-LIGHT HOLDER  PACK OF 20 NAPKINS PANTRY DESIGN   \n",
       "25347              HOT BATHS METAL SIGN       GIN + TONIC DIET METAL SIGN   \n",
       "\n",
       "                              item_8                            item_9  ...  \\\n",
       "27036             DOUGHNUT LIP GLOSS           BUBBLEGUM RING ASSORTED  ...   \n",
       "28646      PLASTERS IN TIN STRONGMAN       ROLL WRAP VINTAGE CHRISTMAS  ...   \n",
       "26769        CREAM HEART CARD HOLDER           BLACK HEART CARD HOLDER  ...   \n",
       "21170  PACK OF 20 NAPKINS RED APPLES             HEART OF WICKER SMALL  ...   \n",
       "25347    ZINC METAL HEART DECORATION  FOLKART ZINC HEART CHRISTMAS DEC  ...   \n",
       "\n",
       "                                 item_31                              item_32  \\\n",
       "27036                                NaN                                  NaN   \n",
       "28646                                NaN                                  NaN   \n",
       "26769                                NaN                                  NaN   \n",
       "21170    CHRISTMAS TREE HEART DECORATION       JUMBO BAG PINK VINTAGE PAISLEY   \n",
       "25347  SET OF 3 WOODEN HEART DECORATIONS  SET OF 3 WOODEN STOCKING DECORATION   \n",
       "\n",
       "                                item_33                             item_34  \\\n",
       "27036                               NaN                                 NaN   \n",
       "28646                               NaN                                 NaN   \n",
       "26769                               NaN                                 NaN   \n",
       "21170    VINTAGE PAISLEY STATIONERY SET   BIRDHOUSE DECORATION MAGIC GARDEN   \n",
       "25347  SET OF 3 WOODEN TREE DECORATIONS  WHITE HANGING HEART T-LIGHT HOLDER   \n",
       "\n",
       "                        item_35                       item_36  \\\n",
       "27036                       NaN                           NaN   \n",
       "28646                       NaN                           NaN   \n",
       "26769                       NaN                           NaN   \n",
       "21170       WALL TIDY RETROSPOT  MAGIC DRAWING SLATE SPACEBOY   \n",
       "25347  GLITTER HEART DECORATION        GLITTER CHRISTMAS TREE   \n",
       "\n",
       "                              item_37                              item_38  \\\n",
       "27036                             NaN                                  NaN   \n",
       "28646                             NaN                                  NaN   \n",
       "26769                             NaN                                  NaN   \n",
       "21170  PINK REGENCY TEACUP AND SAUCER  SET OF 20 VINTAGE CHRISTMAS NAPKINS   \n",
       "25347          GLITTER CHRISTMAS STAR        WELCOME  WOODEN BLOCK LETTERS   \n",
       "\n",
       "                            item_39                            item_40  \n",
       "27036                           NaN                                NaN  \n",
       "28646                           NaN                                NaN  \n",
       "26769                           NaN                                NaN  \n",
       "21170  WOODEN ADVENT CALENDAR CREAM         WOODEN ADVENT CALENDAR RED  \n",
       "25347    WOODEN ADVENT CALENDAR RED  IVORY SWEETHEART WIRE LETTER RACK  \n",
       "\n",
       "[5 rows x 41 columns]"
      ]
     },
     "execution_count": 29,
     "metadata": {},
     "output_type": "execute_result"
    }
   ],
   "source": [
    "items_df.head()"
   ]
  },
  {
   "cell_type": "code",
   "execution_count": 30,
   "metadata": {
    "id": "wM52b1DNxjnr"
   },
   "outputs": [],
   "source": [
    "#assigning each transaction to a list\n",
    "baskets = items_df.T.apply(lambda x: x.dropna().tolist()).tolist()"
   ]
  },
  {
   "cell_type": "code",
   "execution_count": 31,
   "metadata": {
    "colab": {
     "base_uri": "https://localhost:8080/"
    },
    "id": "PxOZic3TyqI_",
    "outputId": "4d9210b0-b1b9-4ee3-811c-092080f18381"
   },
   "outputs": [
    {
     "name": "stdout",
     "output_type": "stream",
     "text": [
      "22098\n"
     ]
    }
   ],
   "source": [
    "print(len(baskets))"
   ]
  },
  {
   "cell_type": "code",
   "execution_count": 32,
   "metadata": {
    "colab": {
     "base_uri": "https://localhost:8080/"
    },
    "id": "Sv_9PNBIyst7",
    "outputId": "03e26d8d-8c7a-4169-f2de-c1bb7ecda14a"
   },
   "outputs": [
    {
     "name": "stdout",
     "output_type": "stream",
     "text": [
      "['WOOD STAMP SET BEST WISHES', 'WOOD STAMP SET THANK YOU', 'SET OF 20 KIDS COOKIE CUTTERS', 'HANGING  BUTTERFLY T-LIGHT HOLDER', 'PENS ASSORTED SPACEBALL', '12 PENCILS TALL TUBE RED RETROSPOT', '12 PENCILS TALL TUBE SKULLS', '12 PENCILS TALL TUBE WOODLAND', 'DOUGHNUT LIP GLOSS', 'BUBBLEGUM RING ASSORTED', 'HANGING  BUTTERFLY T-LIGHT HOLDER', 'LUNCH BAG ALPHABET DESIGN', 'LUNCH BAG  BLACK SKULL', 'HANGING  BUTTERFLY T-LIGHT HOLDER', 'TRADITIONAL WOODEN SKIPPING ROPE']\n",
      "['BOX OF 6 CHRISTMAS CAKE DECORATIONS', 'CHRISTMAS LIGHTS 10 REINDEER', '60 CAKE CASES VINTAGE CHRISTMAS', 'RABBIT NIGHT LIGHT', 'PACK OF 72 RETROSPOT CAKE CASES', 'JUMBO BAG RED RETROSPOT', 'VINTAGE CHRISTMAS GIFT BAG LARGE', 'GIFT BAG PSYCHEDELIC APPLES', 'PLASTERS IN TIN STRONGMAN', 'ROLL WRAP VINTAGE CHRISTMAS', 'ROLL WRAP VINTAGE SPOT', 'WRAP PAISLEY PARK', 'JUMBO BAG VINTAGE CHRISTMAS', 'RAIN PONCHO RETROSPOT', '\"RECORD FRAME 7\"\" SINGLE SIZE \"', 'VINTAGE CHRISTMAS GIFT SACK', 'RECIPE BOX PANTRY YELLOW DESIGN', 'SET 6 SCHOOL MILK BOTTLES IN CRATE', 'SET 7 BABUSHKA NESTING BOXES', 'SPACEBOY LUNCH BOX', 'PLASTERS IN TIN SPACEBOY', 'DOLLY GIRL LUNCH BOX', 'JAM MAKING SET PRINTED', 'SET OF 4 PANTRY JELLY MOULDS', 'MINI LIGHTS WOODLAND MUSHROOMS', 'CLASSIC CHROME BICYCLE BELL', 'WALL ART BICYCLE SAFETY']\n",
      "['3 WHITE CHOC MORRIS BOXED CANDLES', 'PINK HANGING HEART T-LIGHT HOLDER', 'SET/6 PINK  BUTTERFLY T-LIGHTS', 'SET/6 TURQUOISE BUTTERFLY T-LIGHTS', 'SET/6 PURPLE BUTTERFLY T-LIGHTS', 'RED HANGING HEART T-LIGHT HOLDER', 'WHITE LOVEBIRD LANTERN', 'PANTRY 3 HOOK ROLLING PIN HANGER', 'CREAM HEART CARD HOLDER', 'BLACK HEART CARD HOLDER', 'SWEETHEART 3 TIER CAKE STAND', 'HEART OF WICKER SMALL', 'SMALL WHITE HEART OF WICKER', 'LARGE WHITE HEART OF WICKER', 'HEART OF WICKER LARGE', 'WICKER STAR', 'PACK OF 12 RED RETROSPOT TISSUES', 'PACK OF 12 PINK POLKADOT TISSUES', 'PACK OF 12 PINK PAISLEY TISSUES', 'PACK OF 12 HEARTS DESIGN TISSUES', 'PACK OF 12 SUKI TISSUES', 'PACK OF 12 WOODLAND TISSUES', 'PACK OF 12 SPACEBOY TISSUES', 'PACK OF 12 SKULL TISSUES', \"PACK OF 12 50'S CHRISTMAS TISSUES\"]\n",
      "['SET OF 4 KNICK KNACK TINS DOILY', \"BISCUIT TIN 50'S CHRISTMAS\", 'REGENCY MILK JUG PINK', 'DOORMAT WELCOME TO OUR HOME', 'PICTURE DOMINOES', 'CARD CIRCUS PARADE', 'MINI CAKE STAND T-LIGHT HOLDER', 'PACK OF 20 NAPKINS PANTRY DESIGN', 'PACK OF 20 NAPKINS RED APPLES', 'HEART OF WICKER SMALL', 'DOORSTOP RETROSPOT HEART', 'RECYCLING BAG RETROSPOT', 'PICTURE FRAME WOOD TRIPLE PORTRAIT', 'POPCORN HOLDER', 'LOVEBIRD HANGING DECORATION WHITE', 'HANGING HEART MIRROR DECORATION', 'RING OF ROSES BIRTHDAY CARD', 'COSMETIC BAG VINTAGE ROSE PAISLEY', 'GLASS JAR KINGS CHOICE', 'GLASS JAR ENGLISH CONFECTIONERY', 'GLASS JAR DAISY FRESH COTTON WOOL', 'JUMBO STORAGE BAG SUKI', 'PACK OF 6 SKULL PAPER CUPS', 'PACK OF 6 SKULL PAPER PLATES', 'JUMBO BAG SCANDINAVIAN BLUE PAISLEY', 'CHRISTMAS TREE DECORATION WITH BELL', 'EUCALYPTUS & PINECONE  WREATH', 'COOK WITH WINE METAL SIGN', 'PARTY METAL SIGN', 'GIN + TONIC DIET METAL SIGN', 'WOODEN HAPPY BIRTHDAY GARLAND', 'CHRISTMAS TREE HEART DECORATION', 'JUMBO BAG PINK VINTAGE PAISLEY', 'VINTAGE PAISLEY STATIONERY SET', 'BIRDHOUSE DECORATION MAGIC GARDEN', 'WALL TIDY RETROSPOT', 'MAGIC DRAWING SLATE SPACEBOY', 'PINK REGENCY TEACUP AND SAUCER', 'SET OF 20 VINTAGE CHRISTMAS NAPKINS', 'WOODEN ADVENT CALENDAR CREAM', 'WOODEN ADVENT CALENDAR RED']\n",
      "['VINTAGE DOILY TRAVEL SEWING KIT', 'LOVE HOT WATER BOTTLE', 'CHOCOLATE HOT WATER BOTTLE', 'RETROSPOT HEART HOT WATER BOTTLE', 'HOT WATER BOTTLE KEEP CALM', 'LADIES & GENTLEMEN METAL SIGN', 'HOT BATHS METAL SIGN', 'GIN + TONIC DIET METAL SIGN', 'ZINC METAL HEART DECORATION', 'FOLKART ZINC HEART CHRISTMAS DEC', 'SUKI  SHOULDER BAG', 'LUNCH BAG VINTAGE DOILY', 'LUNCH BAG WOODLAND', 'LUNCH BAG SPACEBOY DESIGN', 'LUNCH BAG CARS BLUE', 'LUNCH BAG VINTAGE LEAF DESIGN', 'LUNCH BAG PINK POLKADOT', 'LUNCH BAG SUKI DESIGN', 'LUNCH BAG RED RETROSPOT', 'DECORATIVE WICKER HEART LARGE', 'IVORY WICKER HEART LARGE', 'SET OF 2 CERAMIC PAINTED HEARTS', 'SET OF 2 CERAMIC CHRISTMAS TREES', 'FILIGREE HEART BIRD WHITE', 'FILIGREE HEART BUTTERFLY WHITE', 'FILIGREE HEART DAISY WHITE', 'WHITE WICKER STAR', 'PEARLISED IVORY HEART SMALL', 'HEART WOODEN CHRISTMAS DECORATION', 'STAR WOODEN CHRISTMAS DECORATION', 'SET OF 3 WOODEN SLEIGH DECORATIONS', 'SET OF 3 WOODEN HEART DECORATIONS', 'SET OF 3 WOODEN STOCKING DECORATION', 'SET OF 3 WOODEN TREE DECORATIONS', 'WHITE HANGING HEART T-LIGHT HOLDER', 'GLITTER HEART DECORATION', 'GLITTER CHRISTMAS TREE', 'GLITTER CHRISTMAS STAR', 'WELCOME  WOODEN BLOCK LETTERS', 'WOODEN ADVENT CALENDAR RED', 'IVORY SWEETHEART WIRE LETTER RACK']\n"
     ]
    }
   ],
   "source": [
    "#printing the tiems of the first 5 transactions\n",
    "for i in baskets[:5]:\n",
    "  print(i)"
   ]
  },
  {
   "cell_type": "code",
   "execution_count": 33,
   "metadata": {
    "id": "sKg1DBL2zKX5"
   },
   "outputs": [],
   "source": [
    "#the association algorithm\n",
    "association_rules = apriori(baskets, min_support=0.01, min_confidence=0.2, min_lift=3, min_length=2)\n",
    "association_results = list(association_rules)"
   ]
  },
  {
   "cell_type": "code",
   "execution_count": 34,
   "metadata": {
    "id": "2zoYnuNoSsV1"
   },
   "outputs": [],
   "source": [
    "#association_results"
   ]
  },
  {
   "cell_type": "code",
   "execution_count": 35,
   "metadata": {
    "colab": {
     "base_uri": "https://localhost:8080/"
    },
    "id": "Bk4bscWA6RS9",
    "outputId": "8590de05-42e9-4d3e-81a6-9cae4f46412d"
   },
   "outputs": [
    {
     "name": "stdout",
     "output_type": "stream",
     "text": [
      "Rules generated: 81\n"
     ]
    }
   ],
   "source": [
    "#checking number of association rules generated\n",
    "print('Rules generated:', len(association_results))"
   ]
  },
  {
   "cell_type": "code",
   "execution_count": 36,
   "metadata": {
    "colab": {
     "base_uri": "https://localhost:8080/"
    },
    "id": "3CpLZIkY6etE",
    "outputId": "24136b91-258f-44cf-a5bb-b8bae303f1cc"
   },
   "outputs": [
    {
     "data": {
      "text/plain": [
       "[RelationRecord(items=frozenset({'PACK OF 72 RETROSPOT CAKE CASES', '60 TEATIME FAIRY CAKE CASES'}), support=0.01004615802335053, ordered_statistics=[OrderedStatistic(items_base=frozenset({'60 TEATIME FAIRY CAKE CASES'}), items_add=frozenset({'PACK OF 72 RETROSPOT CAKE CASES'}), confidence=0.3769100169779287, lift=9.072938513266088), OrderedStatistic(items_base=frozenset({'PACK OF 72 RETROSPOT CAKE CASES'}), items_add=frozenset({'60 TEATIME FAIRY CAKE CASES'}), confidence=0.24183006535947713, lift=9.072938513266088)]),\n",
       " RelationRecord(items=frozenset({'ALARM CLOCK BAKELIKE PINK', 'ALARM CLOCK BAKELIKE GREEN'}), support=0.012580324011222735, ordered_statistics=[OrderedStatistic(items_base=frozenset({'ALARM CLOCK BAKELIKE GREEN'}), items_add=frozenset({'ALARM CLOCK BAKELIKE PINK'}), confidence=0.39544807965860596, lift=16.303379970701258), OrderedStatistic(items_base=frozenset({'ALARM CLOCK BAKELIKE PINK'}), items_add=frozenset({'ALARM CLOCK BAKELIKE GREEN'}), confidence=0.5186567164179104, lift=16.303379970701258)]),\n",
       " RelationRecord(items=frozenset({'ALARM CLOCK BAKELIKE RED', 'ALARM CLOCK BAKELIKE GREEN'}), support=0.019187256765318128, ordered_statistics=[OrderedStatistic(items_base=frozenset({'ALARM CLOCK BAKELIKE GREEN'}), items_add=frozenset({'ALARM CLOCK BAKELIKE RED'}), confidence=0.6031294452347084, lift=18.408776907177604), OrderedStatistic(items_base=frozenset({'ALARM CLOCK BAKELIKE RED'}), items_add=frozenset({'ALARM CLOCK BAKELIKE GREEN'}), confidence=0.585635359116022, lift=18.408776907177604)]),\n",
       " RelationRecord(items=frozenset({'ALARM CLOCK BAKELIKE RED', 'ALARM CLOCK BAKELIKE IVORY'}), support=0.010453434699972848, ordered_statistics=[OrderedStatistic(items_base=frozenset({'ALARM CLOCK BAKELIKE IVORY'}), items_add=frozenset({'ALARM CLOCK BAKELIKE RED'}), confidence=0.6, lift=18.313259668508287), OrderedStatistic(items_base=frozenset({'ALARM CLOCK BAKELIKE RED'}), items_add=frozenset({'ALARM CLOCK BAKELIKE IVORY'}), confidence=0.319060773480663, lift=18.313259668508287)]),\n",
       " RelationRecord(items=frozenset({'ALARM CLOCK BAKELIKE RED', 'ALARM CLOCK BAKELIKE PINK'}), support=0.013530636256674812, ordered_statistics=[OrderedStatistic(items_base=frozenset({'ALARM CLOCK BAKELIKE PINK'}), items_add=frozenset({'ALARM CLOCK BAKELIKE RED'}), confidence=0.5578358208955224, lift=17.02632040075864), OrderedStatistic(items_base=frozenset({'ALARM CLOCK BAKELIKE RED'}), items_add=frozenset({'ALARM CLOCK BAKELIKE PINK'}), confidence=0.4129834254143646, lift=17.026320400758635)])]"
      ]
     },
     "execution_count": 36,
     "metadata": {},
     "output_type": "execute_result"
    }
   ],
   "source": [
    "association_results[:5]"
   ]
  },
  {
   "cell_type": "markdown",
   "metadata": {
    "id": "MLwnzQlC7woW"
   },
   "source": [
    "## Analysis of the Results"
   ]
  },
  {
   "cell_type": "code",
   "execution_count": 37,
   "metadata": {
    "id": "KWIKn7aB6kDe"
   },
   "outputs": [],
   "source": [
    "#displaying the rules for the algorithm\n",
    "def display_rules(association_results):\n",
    "  for item in association_results:\n",
    "    pair = item[0]\n",
    "    items = [x for x in pair]\n",
    "    print(\"Rule: \"+items[0] + \" -> \" + items[1])\n",
    "    print(\"Support: \" + str(item[1]))\n",
    "    print(\"Confidence: \" + str(item[2][0][2]))\n",
    "    print(\"Lift: \" + str(item[2][0][3]))\n",
    "    print(\"==============================\")"
   ]
  },
  {
   "cell_type": "code",
   "execution_count": 38,
   "metadata": {
    "colab": {
     "base_uri": "https://localhost:8080/"
    },
    "id": "K9OqoC_T7Le2",
    "outputId": "609c2191-d710-4ad5-c010-d14181c12ecf"
   },
   "outputs": [
    {
     "name": "stdout",
     "output_type": "stream",
     "text": [
      "Rule: PACK OF 72 RETROSPOT CAKE CASES -> 60 TEATIME FAIRY CAKE CASES\n",
      "Support: 0.01004615802335053\n",
      "Confidence: 0.3769100169779287\n",
      "Lift: 9.072938513266088\n",
      "==============================\n",
      "Rule: ALARM CLOCK BAKELIKE PINK -> ALARM CLOCK BAKELIKE GREEN\n",
      "Support: 0.012580324011222735\n",
      "Confidence: 0.39544807965860596\n",
      "Lift: 16.303379970701258\n",
      "==============================\n",
      "Rule: ALARM CLOCK BAKELIKE RED -> ALARM CLOCK BAKELIKE GREEN\n",
      "Support: 0.019187256765318128\n",
      "Confidence: 0.6031294452347084\n",
      "Lift: 18.408776907177604\n",
      "==============================\n",
      "Rule: ALARM CLOCK BAKELIKE RED -> ALARM CLOCK BAKELIKE IVORY\n",
      "Support: 0.010453434699972848\n",
      "Confidence: 0.6\n",
      "Lift: 18.313259668508287\n",
      "==============================\n",
      "Rule: ALARM CLOCK BAKELIKE RED -> ALARM CLOCK BAKELIKE PINK\n",
      "Support: 0.013530636256674812\n",
      "Confidence: 0.5578358208955224\n",
      "Lift: 17.02632040075864\n",
      "==============================\n",
      "Rule: RED  HARMONICA IN BOX -> BLUE HARMONICA IN BOX\n",
      "Support: 0.010905964340664313\n",
      "Confidence: 0.5477272727272727\n",
      "Lift: 25.481425837320575\n",
      "==============================\n",
      "Rule: CHARLOTTE BAG PINK POLKADOT -> CHARLOTTE BAG SUKI DESIGN\n",
      "Support: 0.011494252873563218\n",
      "Confidence: 0.5302713987473904\n",
      "Lift: 19.146956486143516\n",
      "==============================\n",
      "Rule: RED RETROSPOT CHARLOTTE BAG -> CHARLOTTE BAG PINK POLKADOT\n",
      "Support: 0.010000905059281383\n",
      "Confidence: 0.4613778705636743\n",
      "Lift: 14.380152586341431\n",
      "==============================\n",
      "Rule: CHOCOLATE HOT WATER BOTTLE -> HOT WATER BOTTLE TEA AND SYMPATHY\n",
      "Support: 0.01004615802335053\n",
      "Confidence: 0.37755102040816324\n",
      "Lift: 17.527568170125193\n",
      "==============================\n",
      "Rule: DOLLY GIRL LUNCH BOX -> SPACEBOY LUNCH BOX\n",
      "Support: 0.0169246085618608\n",
      "Confidence: 0.6306913996627319\n",
      "Lift: 21.408630644772735\n",
      "==============================\n"
     ]
    }
   ],
   "source": [
    "#displaying result for 10 rules\n",
    "display_rules(association_results[:10])"
   ]
  },
  {
   "cell_type": "code",
   "execution_count": 39,
   "metadata": {
    "colab": {
     "base_uri": "https://localhost:8080/"
    },
    "id": "D1wGgF8j8P_L",
    "outputId": "394c8625-6943-442a-a492-d82804292570"
   },
   "outputs": [
    {
     "data": {
      "text/plain": [
       "[('WHITE HANGING HEART T-LIGHT HOLDER', 1609),\n",
       " ('REGENCY CAKESTAND 3 TIER', 1550),\n",
       " ('JUMBO BAG RED RETROSPOT', 1457),\n",
       " ('PARTY BUNTING', 1180),\n",
       " ('LUNCH BAG RED RETROSPOT', 1097),\n",
       " ('SET OF 3 CAKE TINS PANTRY DESIGN', 1077),\n",
       " ('ASSORTED COLOUR BIRD ORNAMENT', 1065),\n",
       " ('PACK OF 72 RETROSPOT CAKE CASES', 931),\n",
       " ('LUNCH BAG  BLACK SKULL', 910),\n",
       " ('HEART OF WICKER SMALL', 881)]"
      ]
     },
     "execution_count": 39,
     "metadata": {},
     "output_type": "execute_result"
    }
   ],
   "source": [
    "#count of the 10 most frequent items in the dataset\n",
    "from collections import Counter\n",
    "\n",
    "counter = Counter(baskets[0])\n",
    "for i in baskets[1:]:\n",
    "  if i != 'nan':\n",
    "    counter.update(i)\n",
    "  \n",
    "del counter['nan']\n",
    "counter.most_common(10)"
   ]
  },
  {
   "cell_type": "code",
   "execution_count": 40,
   "metadata": {
    "id": "IoSKZ0uK-j87"
   },
   "outputs": [],
   "source": [
    "#help(counter)"
   ]
  },
  {
   "cell_type": "markdown",
   "metadata": {
    "id": "GVJCpAICAEMo"
   },
   "source": [
    "**Q4:** How many of these items can you find in the rules you have just displayed? Are all the top 10 items included? Provide and explanation as to why these items may be missing/present in the rules.\n",
    "\n",
    "\n",
    "**Answer:**\n",
    "\n",
    "The basket has **22448** items in it, but the number of most frequent items in it is **3986** (as shown below). There are **79** distinct items that are in the rule. Since we have verified the uniqueness of items that make up the `frequent_items` list, and there are no duplicates, this shows that not all the **3986** items are represented in the rule, but only **79** of these items. However, not all the top 10 most common items are in the association rules. Only **9** of these items are there. the other two items that do not make up the rule are **'ASSORTED COLOUR BIRD ORNAMENT'** CHALKBOARD'**. These items are missing because the pair/triple they must have belong at the initial state where the association rule is created does not meet/satisfy the minimum thresholds set for the algorithm parameters, especially `support` and `confidence`, hence they were removed.\n",
    "\n",
    "\n",
    "NOTE: The codes investigating the above answers are contained in the cells below (_before ##Report_)"
   ]
  },
  {
   "cell_type": "code",
   "execution_count": 52,
   "metadata": {
    "colab": {
     "base_uri": "https://localhost:8080/"
    },
    "id": "1LiAHzV01DzY",
    "outputId": "68c97d28-f9f8-43e1-c2d4-9afe150417e9"
   },
   "outputs": [
    {
     "name": "stdout",
     "output_type": "stream",
     "text": [
      "4006\n"
     ]
    }
   ],
   "source": [
    "#list of frequent items in basket and the number of frequnt items\n",
    "frequent_items = list(counter.keys())\n",
    "\n",
    "if len(frequent_items) == len(counter.most_common()):\n",
    "  print (len(frequent_items))"
   ]
  },
  {
   "cell_type": "code",
   "execution_count": 53,
   "metadata": {
    "colab": {
     "base_uri": "https://localhost:8080/"
    },
    "id": "YXDwBWtL1dq-",
    "outputId": "36f31aff-f0e2-4b96-8e7b-99c713cf87dc"
   },
   "outputs": [
    {
     "data": {
      "text/plain": [
       "4006"
      ]
     },
     "execution_count": 53,
     "metadata": {},
     "output_type": "execute_result"
    }
   ],
   "source": [
    "#verifying uniqueness of the frequent items\n",
    "unique_items = []\n",
    "for i in frequent_items:\n",
    "  for j in frequent_items:\n",
    "    if i == j:\n",
    "      unique_items.append(i)\n",
    "\n",
    "len(unique_items)"
   ]
  },
  {
   "cell_type": "code",
   "execution_count": 54,
   "metadata": {
    "colab": {
     "base_uri": "https://localhost:8080/"
    },
    "id": "HQVNCStAvz2C",
    "outputId": "635562f4-8a7f-4835-ad13-c609b42c0f62"
   },
   "outputs": [
    {
     "data": {
      "text/plain": [
       "[frozenset({'60 TEATIME FAIRY CAKE CASES', 'PACK OF 72 RETROSPOT CAKE CASES'}),\n",
       " frozenset({'ALARM CLOCK BAKELIKE GREEN', 'ALARM CLOCK BAKELIKE PINK'}),\n",
       " frozenset({'ALARM CLOCK BAKELIKE GREEN', 'ALARM CLOCK BAKELIKE RED'}),\n",
       " frozenset({'ALARM CLOCK BAKELIKE IVORY', 'ALARM CLOCK BAKELIKE RED'}),\n",
       " frozenset({'ALARM CLOCK BAKELIKE PINK', 'ALARM CLOCK BAKELIKE RED'})]"
      ]
     },
     "execution_count": 54,
     "metadata": {},
     "output_type": "execute_result"
    }
   ],
   "source": [
    "# list of pairs and triple make up the rule\n",
    "pair = list()\n",
    "\n",
    "for i in association_results:\n",
    "  pair.append(i[0])\n",
    "\n",
    "#showing the first five\n",
    "pair[:5]"
   ]
  },
  {
   "cell_type": "code",
   "execution_count": 55,
   "metadata": {
    "colab": {
     "base_uri": "https://localhost:8080/"
    },
    "id": "LbYP-ASIxbjl",
    "outputId": "04b2aea6-875e-4478-8a4d-f11eb4149c43"
   },
   "outputs": [
    {
     "data": {
      "text/plain": [
       "['PACK OF 72 RETROSPOT CAKE CASES',\n",
       " '60 TEATIME FAIRY CAKE CASES',\n",
       " 'ALARM CLOCK BAKELIKE PINK',\n",
       " 'ALARM CLOCK BAKELIKE GREEN',\n",
       " 'ALARM CLOCK BAKELIKE RED']"
      ]
     },
     "execution_count": 55,
     "metadata": {},
     "output_type": "execute_result"
    }
   ],
   "source": [
    "# list of distinct items in the pair\n",
    "paired_item = []\n",
    "\n",
    "for set_pair in pair:\n",
    "  for item in set_pair:\n",
    "    if item not in paired_item:\n",
    "      paired_item.append(item)\n",
    "\n",
    "paired_item[:5]"
   ]
  },
  {
   "cell_type": "code",
   "execution_count": 56,
   "metadata": {
    "colab": {
     "base_uri": "https://localhost:8080/"
    },
    "id": "CWur3bYl0bRv",
    "outputId": "6168cb45-a0ff-43ce-92ef-a74fb31ce056"
   },
   "outputs": [
    {
     "data": {
      "text/plain": [
       "76"
      ]
     },
     "execution_count": 56,
     "metadata": {},
     "output_type": "execute_result"
    }
   ],
   "source": [
    "# number of unique items that make up the rule\n",
    "len(paired_item)"
   ]
  },
  {
   "cell_type": "code",
   "execution_count": 57,
   "metadata": {
    "colab": {
     "base_uri": "https://localhost:8080/"
    },
    "id": "4v--F3Et6QCe",
    "outputId": "67209add-80ed-442b-a820-7d762797655e"
   },
   "outputs": [
    {
     "data": {
      "text/plain": [
       "76"
      ]
     },
     "execution_count": 57,
     "metadata": {},
     "output_type": "execute_result"
    }
   ],
   "source": [
    "# check if items in `frequent_items` list are contained in the rules (paired_item`)\n",
    "frequent_rule_items = []\n",
    "\n",
    "for item in frequent_items:\n",
    "  if item in paired_item:\n",
    "    frequent_rule_items.append(item)\n",
    "\n",
    "len(frequent_rule_items)"
   ]
  },
  {
   "cell_type": "code",
   "execution_count": 58,
   "metadata": {
    "colab": {
     "base_uri": "https://localhost:8080/"
    },
    "id": "L5y8Nrz5-lCR",
    "outputId": "a9eb962a-e269-4f80-a20b-420b90cc9b77"
   },
   "outputs": [
    {
     "data": {
      "text/plain": [
       "['WHITE HANGING HEART T-LIGHT HOLDER',\n",
       " 'REGENCY CAKESTAND 3 TIER',\n",
       " 'JUMBO BAG RED RETROSPOT',\n",
       " 'PARTY BUNTING',\n",
       " 'LUNCH BAG RED RETROSPOT',\n",
       " 'SET OF 3 CAKE TINS PANTRY DESIGN',\n",
       " 'ASSORTED COLOUR BIRD ORNAMENT',\n",
       " 'PACK OF 72 RETROSPOT CAKE CASES',\n",
       " 'LUNCH BAG  BLACK SKULL',\n",
       " 'HEART OF WICKER SMALL']"
      ]
     },
     "execution_count": 58,
     "metadata": {},
     "output_type": "execute_result"
    }
   ],
   "source": [
    "# 10 most common items in the dataset\n",
    "most_common_items = []\n",
    "\n",
    "top_10_items = counter.most_common(10)\n",
    "for i in top_10_items:\n",
    "  most_common_items.append(i[0])\n",
    "\n",
    "most_common_items\n"
   ]
  },
  {
   "cell_type": "code",
   "execution_count": 59,
   "metadata": {
    "colab": {
     "base_uri": "https://localhost:8080/"
    },
    "id": "WbdAdo2FrKyb",
    "outputId": "cfbdffcf-e042-4eec-891a-ef1ce38cc29c"
   },
   "outputs": [
    {
     "data": {
      "text/plain": [
       "9"
      ]
     },
     "execution_count": 59,
     "metadata": {},
     "output_type": "execute_result"
    }
   ],
   "source": [
    "#Are all the top 10 items included in the rule?\n",
    "\n",
    "top10_check = [item for item in most_common_items if item in paired_item]\n",
    "\n",
    "len(top10_check)"
   ]
  },
  {
   "cell_type": "code",
   "execution_count": 60,
   "metadata": {
    "colab": {
     "base_uri": "https://localhost:8080/"
    },
    "id": "ij1EGO14-Xjv",
    "outputId": "f1a4958c-4b46-4924-faa9-9c5ae035e96d"
   },
   "outputs": [
    {
     "data": {
      "text/plain": [
       "['ASSORTED COLOUR BIRD ORNAMENT']"
      ]
     },
     "execution_count": 60,
     "metadata": {},
     "output_type": "execute_result"
    }
   ],
   "source": [
    "#list of the two items in the top 10 most common items that are not in the association rule\n",
    "missing_items = [item for item in most_common_items if item not in paired_item]\n",
    "missing_items"
   ]
  },
  {
   "cell_type": "markdown",
   "metadata": {
    "id": "Zm5tSnPZZYd5"
   },
   "source": [
    "## Report"
   ]
  },
  {
   "cell_type": "markdown",
   "metadata": {
    "id": "9OmRW-fHaI7b"
   },
   "source": [
    "#### Answer to Question 5\n",
    "Running the apriori algorithm with three different settings:\n",
    "\n",
    "* **Setting 1:** Min Support = 0.015, Min Confidence = 0.7, Min Lift = 3"
   ]
  },
  {
   "cell_type": "code",
   "execution_count": 61,
   "metadata": {
    "colab": {
     "base_uri": "https://localhost:8080/"
    },
    "id": "VLaRfxPH-5wx",
    "outputId": "2c14cb97-7f2b-46ab-cbb9-c36bf6482812"
   },
   "outputs": [
    {
     "name": "stdout",
     "output_type": "stream",
     "text": [
      "Rules generated: 3\n"
     ]
    }
   ],
   "source": [
    "#the association algorithm for Setting 1\n",
    "association_rules_1 = apriori(baskets, min_support=0.015, min_confidence=0.7, min_lift=3, min_length=2)\n",
    "association_results_1 = list(association_rules_1)\n",
    "\n",
    "#calculating the number of rules generated for setting 1\n",
    "print('Rules generated:', len(association_results_1))"
   ]
  },
  {
   "cell_type": "markdown",
   "metadata": {
    "id": "HJgAkF_xcOne"
   },
   "source": [
    "There are **4** rules generated for this setting."
   ]
  },
  {
   "cell_type": "code",
   "execution_count": 62,
   "metadata": {
    "colab": {
     "base_uri": "https://localhost:8080/"
    },
    "id": "Qk9VH8f09DSx",
    "outputId": "46d02727-724f-4097-d0c7-010ee448cbcd"
   },
   "outputs": [
    {
     "name": "stdout",
     "output_type": "stream",
     "text": [
      "Rule: GREEN REGENCY TEACUP AND SAUCER -> PINK REGENCY TEACUP AND SAUCER\n",
      "Support: 0.01877998008869581\n",
      "Confidence: 0.7464028776978417\n",
      "Lift: 22.84489029275195\n",
      "==============================\n",
      "Rule: PINK REGENCY TEACUP AND SAUCER -> ROSES REGENCY TEACUP AND SAUCER\n",
      "Support: 0.018191691555796904\n",
      "Confidence: 0.7230215827338129\n",
      "Lift: 20.51005254846187\n",
      "==============================\n",
      "Rule: GREEN REGENCY TEACUP AND SAUCER -> PINK REGENCY TEACUP AND SAUCER\n",
      "Support: 0.015612272603855552\n",
      "Confidence: 0.8313253012048193\n",
      "Lift: 23.582319006449417\n",
      "==============================\n"
     ]
    }
   ],
   "source": [
    "#displaying the rules for the algorithm of setting 1\n",
    "display_rules(association_results_1)"
   ]
  },
  {
   "cell_type": "markdown",
   "metadata": {
    "id": "stG4GBa9cUcS"
   },
   "source": [
    "* **Setting 2:** Min Support = 0.009, Min Confidence = 0.5, Min Lift = 3"
   ]
  },
  {
   "cell_type": "code",
   "execution_count": 63,
   "metadata": {
    "colab": {
     "base_uri": "https://localhost:8080/"
    },
    "id": "c8pPfJ5ybtGy",
    "outputId": "6fdbc28d-ff7a-4e84-95bd-5a1da728003f"
   },
   "outputs": [
    {
     "name": "stdout",
     "output_type": "stream",
     "text": [
      "Rules generated: 44\n"
     ]
    }
   ],
   "source": [
    "#the association algorithm for Setting 2\n",
    "association_rules_2 = apriori(baskets, min_support=0.009, min_confidence=0.5, min_lift=3, min_length=2)\n",
    "association_results_2 = list(association_rules_2)\n",
    "\n",
    "#calculating the number of rules generated for setting 2\n",
    "print('Rules generated:', len(association_results_2))"
   ]
  },
  {
   "cell_type": "markdown",
   "metadata": {
    "id": "g13VSoKNdtSq"
   },
   "source": [
    "The number of rules generated for setting 2 is **44**."
   ]
  },
  {
   "cell_type": "code",
   "execution_count": 64,
   "metadata": {
    "colab": {
     "base_uri": "https://localhost:8080/"
    },
    "id": "V2EUhLnk-Kc0",
    "outputId": "da756ad8-e625-47c5-a98a-fc382841e09a"
   },
   "outputs": [
    {
     "name": "stdout",
     "output_type": "stream",
     "text": [
      "Rule: ALARM CLOCK BAKELIKE GREEN -> ALARM CLOCK BAKELIKE IVORY\n",
      "Support: 0.00963888134672821\n",
      "Confidence: 0.5532467532467532\n",
      "Lift: 17.390678169625538\n",
      "==============================\n",
      "Rule: ALARM CLOCK BAKELIKE PINK -> ALARM CLOCK BAKELIKE GREEN\n",
      "Support: 0.012580324011222735\n",
      "Confidence: 0.5186567164179104\n",
      "Lift: 16.303379970701258\n",
      "==============================\n",
      "Rule: ALARM CLOCK BAKELIKE RED -> ALARM CLOCK BAKELIKE GREEN\n",
      "Support: 0.019187256765318128\n",
      "Confidence: 0.6031294452347084\n",
      "Lift: 18.408776907177604\n",
      "==============================\n",
      "Rule: ALARM CLOCK BAKELIKE RED -> ALARM CLOCK BAKELIKE IVORY\n",
      "Support: 0.010453434699972848\n",
      "Confidence: 0.6\n",
      "Lift: 18.313259668508287\n",
      "==============================\n",
      "Rule: ALARM CLOCK BAKELIKE RED -> ALARM CLOCK BAKELIKE PINK\n",
      "Support: 0.013530636256674812\n",
      "Confidence: 0.5578358208955224\n",
      "Lift: 17.02632040075864\n",
      "==============================\n",
      "Rule: BAKING SET 9 PIECE RETROSPOT -> BAKING SET SPACEBOY DESIGN\n",
      "Support: 0.00991039913114309\n",
      "Confidence: 0.6366279069767442\n",
      "Lift: 20.35919462861374\n",
      "==============================\n",
      "Rule: RED  HARMONICA IN BOX -> BLUE HARMONICA IN BOX\n",
      "Support: 0.010905964340664313\n",
      "Confidence: 0.5477272727272727\n",
      "Lift: 25.481425837320575\n",
      "==============================\n",
      "Rule: CHARLOTTE BAG PINK POLKADOT -> CHARLOTTE BAG SUKI DESIGN\n",
      "Support: 0.011494252873563218\n",
      "Confidence: 0.5302713987473904\n",
      "Lift: 19.146956486143516\n",
      "==============================\n",
      "Rule: DOLLY GIRL LUNCH BOX -> SPACEBOY LUNCH BOX\n",
      "Support: 0.0169246085618608\n",
      "Confidence: 0.6306913996627319\n",
      "Lift: 21.408630644772735\n",
      "==============================\n",
      "Rule: GARDENERS KNEELING PAD KEEP CALM -> GARDENERS KNEELING PAD CUP OF TEA\n",
      "Support: 0.016110055208616164\n",
      "Confidence: 0.6729678638941399\n",
      "Lift: 23.3091596494243\n",
      "==============================\n"
     ]
    }
   ],
   "source": [
    "#displaying the rules for the algorithm of setting 1\n",
    "display_rules(association_results_2[:10])"
   ]
  },
  {
   "cell_type": "markdown",
   "metadata": {
    "id": "mU9mXkoSdIkn"
   },
   "source": [
    "* **Setting 3:** Min Support = 0.015, Min Confidence = 0.5, Min Lift = 9"
   ]
  },
  {
   "cell_type": "code",
   "execution_count": 65,
   "metadata": {
    "colab": {
     "base_uri": "https://localhost:8080/"
    },
    "id": "NNABc3D-c_tT",
    "outputId": "1f3d73a2-70d6-45fb-d44e-b9a1fe277674"
   },
   "outputs": [
    {
     "name": "stdout",
     "output_type": "stream",
     "text": [
      "Rules generated: 11\n"
     ]
    }
   ],
   "source": [
    "#the association algorithm for Setting 3\n",
    "association_rules_3 = apriori(baskets, min_support=0.015, min_confidence=0.5, min_lift=9, min_length=2)\n",
    "association_results_3 = list(association_rules_3)\n",
    "\n",
    "#calculating the number of rules generated for setting 3\n",
    "print('Rules generated:', len(association_results_3))"
   ]
  },
  {
   "cell_type": "markdown",
   "metadata": {
    "id": "yxLiZ_8L8MsB"
   },
   "source": [
    "The number of rules generated for setting 3 is **8**"
   ]
  },
  {
   "cell_type": "code",
   "execution_count": 66,
   "metadata": {
    "colab": {
     "base_uri": "https://localhost:8080/"
    },
    "id": "fdoZzkDCBVCT",
    "outputId": "bff32c01-da67-4ad4-d163-da3b8880d01e"
   },
   "outputs": [
    {
     "name": "stdout",
     "output_type": "stream",
     "text": [
      "Rule: ALARM CLOCK BAKELIKE RED -> ALARM CLOCK BAKELIKE GREEN\n",
      "Support: 0.019187256765318128\n",
      "Confidence: 0.6031294452347084\n",
      "Lift: 18.408776907177604\n",
      "==============================\n",
      "Rule: DOLLY GIRL LUNCH BOX -> SPACEBOY LUNCH BOX\n",
      "Support: 0.0169246085618608\n",
      "Confidence: 0.6306913996627319\n",
      "Lift: 21.408630644772735\n",
      "==============================\n",
      "Rule: GARDENERS KNEELING PAD KEEP CALM -> GARDENERS KNEELING PAD CUP OF TEA\n",
      "Support: 0.016110055208616164\n",
      "Confidence: 0.6729678638941399\n",
      "Lift: 23.3091596494243\n",
      "==============================\n",
      "Rule: GREEN REGENCY TEACUP AND SAUCER -> PINK REGENCY TEACUP AND SAUCER\n",
      "Support: 0.01877998008869581\n",
      "Confidence: 0.574792243767313\n",
      "Lift: 22.844890292751945\n",
      "==============================\n",
      "Rule: GREEN REGENCY TEACUP AND SAUCER -> ROSES REGENCY TEACUP AND SAUCER\n",
      "Support: 0.022852746854918997\n",
      "Confidence: 0.6994459833795014\n",
      "Lift: 19.8412802833379\n",
      "==============================\n",
      "Rule: HEART OF WICKER SMALL -> HEART OF WICKER LARGE\n",
      "Support: 0.01579328446013214\n",
      "Confidence: 0.5312024353120244\n",
      "Lift: 13.729253117573235\n",
      "==============================\n",
      "Rule: JUMBO  BAG BAROQUE BLACK WHITE -> JUMBO BAG RED RETROSPOT\n",
      "Support: 0.017422391166621413\n",
      "Confidence: 0.5932203389830508\n",
      "Lift: 9.090834293236794\n",
      "==============================\n",
      "Rule: JUMBO BAG STRAWBERRY -> JUMBO BAG RED RETROSPOT\n",
      "Support: 0.01615530817268531\n",
      "Confidence: 0.6329787234042553\n",
      "Lift: 9.700113612889899\n",
      "==============================\n",
      "Rule: PINK REGENCY TEACUP AND SAUCER -> ROSES REGENCY TEACUP AND SAUCER\n",
      "Support: 0.018191691555796904\n",
      "Confidence: 0.7230215827338129\n",
      "Lift: 20.51005254846187\n",
      "==============================\n",
      "Rule: WOODEN FRAME ANTIQUE WHITE -> WOODEN PICTURE FRAME WHITE FINISH\n",
      "Support: 0.017648655986967146\n",
      "Confidence: 0.5409153952843273\n",
      "Lift: 15.130567601257043\n",
      "==============================\n",
      "Rule: GREEN REGENCY TEACUP AND SAUCER -> PINK REGENCY TEACUP AND SAUCER\n",
      "Support: 0.015612272603855552\n",
      "Confidence: 0.6205035971223022\n",
      "Lift: 27.152254434076504\n",
      "==============================\n"
     ]
    }
   ],
   "source": [
    "#displaying the rules for the algorithm of setting 3\n",
    "display_rules(association_results_3)"
   ]
  },
  {
   "cell_type": "markdown",
   "metadata": {
    "id": "KkluoUKlS7Zw"
   },
   "source": [
    "**Comparing the different settings**\n",
    "\n",
    "Having ran the apriori algorithm on our case study dataset with different settings, these varying settings yielded different number of association rules generated.\n",
    "\n",
    "\n",
    "Of the 3 settings, Setting 2 generated the most number of rules while Setting 1, the least. Comparing these settings, Setting 2 has the least minimum support value of 0.009, which gave room for item set with such popularity to be listed among the rules generated, with a  likelihood of 50% chances of occuring (minimum confidence) unlike Setting 1 and 3 with minimum support values of 0.015 each and confidence level of 70% and 50% respectively."
   ]
  },
  {
   "cell_type": "code",
   "execution_count": null,
   "metadata": {
    "id": "ldRVXLu-62rc"
   },
   "outputs": [],
   "source": []
  },
  {
   "cell_type": "markdown",
   "metadata": {
    "id": "HQPBpYk7ZPpp"
   },
   "source": [
    "## Question 6"
   ]
  },
  {
   "cell_type": "markdown",
   "metadata": {
    "id": "gwVxGlgB8rhD"
   },
   "source": [
    "#### Filtering the transactions from **months**"
   ]
  },
  {
   "cell_type": "code",
   "execution_count": 67,
   "metadata": {
    "colab": {
     "base_uri": "https://localhost:8080/",
     "height": 327
    },
    "id": "FtUbUCdcZULj",
    "outputId": "7010027d-27cd-41b7-87c7-942f106fd78d"
   },
   "outputs": [
    {
     "data": {
      "text/html": [
       "<div>\n",
       "<style scoped>\n",
       "    .dataframe tbody tr th:only-of-type {\n",
       "        vertical-align: middle;\n",
       "    }\n",
       "\n",
       "    .dataframe tbody tr th {\n",
       "        vertical-align: top;\n",
       "    }\n",
       "\n",
       "    .dataframe thead th {\n",
       "        text-align: right;\n",
       "    }\n",
       "</style>\n",
       "<table border=\"1\" class=\"dataframe\">\n",
       "  <thead>\n",
       "    <tr style=\"text-align: right;\">\n",
       "      <th></th>\n",
       "      <th>transaction_ID</th>\n",
       "      <th>Date</th>\n",
       "      <th>Time</th>\n",
       "      <th>item_0</th>\n",
       "      <th>item_1</th>\n",
       "      <th>item_2</th>\n",
       "      <th>item_3</th>\n",
       "      <th>item_4</th>\n",
       "      <th>item_5</th>\n",
       "      <th>item_6</th>\n",
       "      <th>...</th>\n",
       "      <th>item_34</th>\n",
       "      <th>item_35</th>\n",
       "      <th>item_36</th>\n",
       "      <th>item_37</th>\n",
       "      <th>item_38</th>\n",
       "      <th>item_39</th>\n",
       "      <th>item_40</th>\n",
       "      <th>Hour</th>\n",
       "      <th>Month</th>\n",
       "      <th>Year</th>\n",
       "    </tr>\n",
       "  </thead>\n",
       "  <tbody>\n",
       "    <tr>\n",
       "      <th>27036</th>\n",
       "      <td>575083</td>\n",
       "      <td>08/11/2011</td>\n",
       "      <td>13:31</td>\n",
       "      <td>WOOD STAMP SET BEST WISHES</td>\n",
       "      <td>WOOD STAMP SET THANK YOU</td>\n",
       "      <td>SET OF 20 KIDS COOKIE CUTTERS</td>\n",
       "      <td>HANGING  BUTTERFLY T-LIGHT HOLDER</td>\n",
       "      <td>PENS ASSORTED SPACEBALL</td>\n",
       "      <td>12 PENCILS TALL TUBE RED RETROSPOT</td>\n",
       "      <td>12 PENCILS TALL TUBE SKULLS</td>\n",
       "      <td>...</td>\n",
       "      <td>NaN</td>\n",
       "      <td>NaN</td>\n",
       "      <td>NaN</td>\n",
       "      <td>NaN</td>\n",
       "      <td>NaN</td>\n",
       "      <td>NaN</td>\n",
       "      <td>NaN</td>\n",
       "      <td>13</td>\n",
       "      <td>8</td>\n",
       "      <td>2011</td>\n",
       "    </tr>\n",
       "    <tr>\n",
       "      <th>28646</th>\n",
       "      <td>577141</td>\n",
       "      <td>18/11/2011</td>\n",
       "      <td>09:11</td>\n",
       "      <td>BOX OF 6 CHRISTMAS CAKE DECORATIONS</td>\n",
       "      <td>CHRISTMAS LIGHTS 10 REINDEER</td>\n",
       "      <td>60 CAKE CASES VINTAGE CHRISTMAS</td>\n",
       "      <td>RABBIT NIGHT LIGHT</td>\n",
       "      <td>PACK OF 72 RETROSPOT CAKE CASES</td>\n",
       "      <td>JUMBO BAG RED RETROSPOT</td>\n",
       "      <td>VINTAGE CHRISTMAS GIFT BAG LARGE</td>\n",
       "      <td>...</td>\n",
       "      <td>NaN</td>\n",
       "      <td>NaN</td>\n",
       "      <td>NaN</td>\n",
       "      <td>NaN</td>\n",
       "      <td>NaN</td>\n",
       "      <td>NaN</td>\n",
       "      <td>NaN</td>\n",
       "      <td>9</td>\n",
       "      <td>11</td>\n",
       "      <td>2011</td>\n",
       "    </tr>\n",
       "  </tbody>\n",
       "</table>\n",
       "<p>2 rows × 47 columns</p>\n",
       "</div>"
      ],
      "text/plain": [
       "      transaction_ID        Date   Time                               item_0  \\\n",
       "27036         575083  08/11/2011  13:31           WOOD STAMP SET BEST WISHES   \n",
       "28646         577141  18/11/2011  09:11  BOX OF 6 CHRISTMAS CAKE DECORATIONS   \n",
       "\n",
       "                             item_1                           item_2  \\\n",
       "27036      WOOD STAMP SET THANK YOU    SET OF 20 KIDS COOKIE CUTTERS   \n",
       "28646  CHRISTMAS LIGHTS 10 REINDEER  60 CAKE CASES VINTAGE CHRISTMAS   \n",
       "\n",
       "                                  item_3                           item_4  \\\n",
       "27036  HANGING  BUTTERFLY T-LIGHT HOLDER          PENS ASSORTED SPACEBALL   \n",
       "28646                 RABBIT NIGHT LIGHT  PACK OF 72 RETROSPOT CAKE CASES   \n",
       "\n",
       "                                   item_5                            item_6  \\\n",
       "27036  12 PENCILS TALL TUBE RED RETROSPOT       12 PENCILS TALL TUBE SKULLS   \n",
       "28646             JUMBO BAG RED RETROSPOT  VINTAGE CHRISTMAS GIFT BAG LARGE   \n",
       "\n",
       "       ... item_34 item_35 item_36 item_37 item_38 item_39 item_40 Hour Month  \\\n",
       "27036  ...     NaN     NaN     NaN     NaN     NaN     NaN     NaN   13     8   \n",
       "28646  ...     NaN     NaN     NaN     NaN     NaN     NaN     NaN    9    11   \n",
       "\n",
       "       Year  \n",
       "27036  2011  \n",
       "28646  2011  \n",
       "\n",
       "[2 rows x 47 columns]"
      ]
     },
     "execution_count": 67,
     "metadata": {},
     "output_type": "execute_result"
    }
   ],
   "source": [
    "data.head(2)"
   ]
  },
  {
   "cell_type": "code",
   "execution_count": 68,
   "metadata": {
    "colab": {
     "base_uri": "https://localhost:8080/",
     "height": 275
    },
    "id": "BcAuB_yc-HiP",
    "outputId": "f04f1397-d16a-42bd-b5ff-7f3de21edd2f"
   },
   "outputs": [
    {
     "data": {
      "text/html": [
       "<div>\n",
       "<style scoped>\n",
       "    .dataframe tbody tr th:only-of-type {\n",
       "        vertical-align: middle;\n",
       "    }\n",
       "\n",
       "    .dataframe tbody tr th {\n",
       "        vertical-align: top;\n",
       "    }\n",
       "\n",
       "    .dataframe thead th {\n",
       "        text-align: right;\n",
       "    }\n",
       "</style>\n",
       "<table border=\"1\" class=\"dataframe\">\n",
       "  <thead>\n",
       "    <tr style=\"text-align: right;\">\n",
       "      <th></th>\n",
       "      <th>transaction_ID</th>\n",
       "      <th>Date</th>\n",
       "      <th>Time</th>\n",
       "      <th>item_0</th>\n",
       "      <th>item_1</th>\n",
       "      <th>item_2</th>\n",
       "      <th>item_3</th>\n",
       "      <th>item_4</th>\n",
       "      <th>item_5</th>\n",
       "      <th>item_6</th>\n",
       "      <th>...</th>\n",
       "      <th>item_34</th>\n",
       "      <th>item_35</th>\n",
       "      <th>item_36</th>\n",
       "      <th>item_37</th>\n",
       "      <th>item_38</th>\n",
       "      <th>item_39</th>\n",
       "      <th>item_40</th>\n",
       "      <th>Hour</th>\n",
       "      <th>Month</th>\n",
       "      <th>Year</th>\n",
       "    </tr>\n",
       "  </thead>\n",
       "  <tbody>\n",
       "    <tr>\n",
       "      <th>0</th>\n",
       "      <td>565118</td>\n",
       "      <td>01/09/2011</td>\n",
       "      <td>11:33</td>\n",
       "      <td>POPCORN HOLDER</td>\n",
       "      <td>TRAVEL CARD WALLET RETROSPOT</td>\n",
       "      <td>TRAVEL CARD WALLET VINTAGE LEAF</td>\n",
       "      <td>TRAVEL CARD WALLET KEEP CALM</td>\n",
       "      <td>TRAVEL CARD WALLET FLOWER MEADOW</td>\n",
       "      <td>FRENCH BATHROOM SIGN BLUE METAL</td>\n",
       "      <td>FRENCH BLUE METAL DOOR SIGN No</td>\n",
       "      <td>...</td>\n",
       "      <td>DOORMAT NEIGHBOURHOOD WITCH</td>\n",
       "      <td>DOORMAT RESPECTABLE HOUSE</td>\n",
       "      <td>DOORMAT RED RETROSPOT</td>\n",
       "      <td>EDWARDIAN PARASOL NATURAL</td>\n",
       "      <td>JUMBO BAG VINTAGE DOILY</td>\n",
       "      <td>JUMBO BAG VINTAGE LEAF</td>\n",
       "      <td>JUMBO BAG ALPHABET</td>\n",
       "      <td>11</td>\n",
       "      <td>1</td>\n",
       "      <td>2011</td>\n",
       "    </tr>\n",
       "    <tr>\n",
       "      <th>1</th>\n",
       "      <td>573768</td>\n",
       "      <td>01/11/2011</td>\n",
       "      <td>10:02</td>\n",
       "      <td>POSTAGE</td>\n",
       "      <td>NaN</td>\n",
       "      <td>NaN</td>\n",
       "      <td>NaN</td>\n",
       "      <td>NaN</td>\n",
       "      <td>NaN</td>\n",
       "      <td>NaN</td>\n",
       "      <td>...</td>\n",
       "      <td>NaN</td>\n",
       "      <td>NaN</td>\n",
       "      <td>NaN</td>\n",
       "      <td>NaN</td>\n",
       "      <td>NaN</td>\n",
       "      <td>NaN</td>\n",
       "      <td>NaN</td>\n",
       "      <td>10</td>\n",
       "      <td>1</td>\n",
       "      <td>2011</td>\n",
       "    </tr>\n",
       "  </tbody>\n",
       "</table>\n",
       "<p>2 rows × 47 columns</p>\n",
       "</div>"
      ],
      "text/plain": [
       "  transaction_ID        Date   Time          item_0  \\\n",
       "0         565118  01/09/2011  11:33  POPCORN HOLDER   \n",
       "1         573768  01/11/2011  10:02         POSTAGE   \n",
       "\n",
       "                         item_1                           item_2  \\\n",
       "0  TRAVEL CARD WALLET RETROSPOT  TRAVEL CARD WALLET VINTAGE LEAF   \n",
       "1                           NaN                              NaN   \n",
       "\n",
       "                         item_3                            item_4  \\\n",
       "0  TRAVEL CARD WALLET KEEP CALM  TRAVEL CARD WALLET FLOWER MEADOW   \n",
       "1                           NaN                               NaN   \n",
       "\n",
       "                            item_5                          item_6  ...  \\\n",
       "0  FRENCH BATHROOM SIGN BLUE METAL  FRENCH BLUE METAL DOOR SIGN No  ...   \n",
       "1                              NaN                             NaN  ...   \n",
       "\n",
       "                       item_34                    item_35  \\\n",
       "0  DOORMAT NEIGHBOURHOOD WITCH  DOORMAT RESPECTABLE HOUSE   \n",
       "1                          NaN                        NaN   \n",
       "\n",
       "                 item_36                    item_37                  item_38  \\\n",
       "0  DOORMAT RED RETROSPOT  EDWARDIAN PARASOL NATURAL  JUMBO BAG VINTAGE DOILY   \n",
       "1                    NaN                        NaN                      NaN   \n",
       "\n",
       "                  item_39             item_40 Hour Month  Year  \n",
       "0  JUMBO BAG VINTAGE LEAF  JUMBO BAG ALPHABET   11     1  2011  \n",
       "1                     NaN                 NaN   10     1  2011  \n",
       "\n",
       "[2 rows x 47 columns]"
      ]
     },
     "execution_count": 68,
     "metadata": {},
     "output_type": "execute_result"
    }
   ],
   "source": [
    "#extracting January data\n",
    "jan_data = data[data['Month']==1].reset_index(drop=True)\n",
    "jan_data.head(2)"
   ]
  },
  {
   "cell_type": "code",
   "execution_count": 69,
   "metadata": {
    "colab": {
     "base_uri": "https://localhost:8080/"
    },
    "id": "ZC9VREaY-Yc_",
    "outputId": "a51ec0aa-37f8-4f0c-84c8-cf9cc9312c74"
   },
   "outputs": [
    {
     "data": {
      "text/plain": [
       "(1588, 47)"
      ]
     },
     "execution_count": 69,
     "metadata": {},
     "output_type": "execute_result"
    }
   ],
   "source": [
    "jan_data.shape"
   ]
  },
  {
   "cell_type": "code",
   "execution_count": 72,
   "metadata": {
    "colab": {
     "base_uri": "https://localhost:8080/"
    },
    "collapsed": true,
    "id": "LAGpikmD_Xwr",
    "outputId": "9bf33eb2-897a-491c-aad7-a47c639008a9"
   },
   "outputs": [
    {
     "ename": "ValueError",
     "evalue": "arrays must all be same length",
     "output_type": "error",
     "traceback": [
      "\u001b[1;31m---------------------------------------------------------------------------\u001b[0m",
      "\u001b[1;31mValueError\u001b[0m                                Traceback (most recent call last)",
      "\u001b[1;32m<ipython-input-72-89e583b2a7fe>\u001b[0m in \u001b[0;36m<module>\u001b[1;34m\u001b[0m\n\u001b[0;32m      3\u001b[0m \u001b[1;33m\u001b[0m\u001b[0m\n\u001b[0;32m      4\u001b[0m \u001b[1;31m#assigning each transactions in january to a list\u001b[0m\u001b[1;33m\u001b[0m\u001b[1;33m\u001b[0m\u001b[1;33m\u001b[0m\u001b[0m\n\u001b[1;32m----> 5\u001b[1;33m \u001b[0mjan_baskets\u001b[0m \u001b[1;33m=\u001b[0m \u001b[0mjan_items_df\u001b[0m\u001b[1;33m.\u001b[0m\u001b[0mT\u001b[0m\u001b[1;33m.\u001b[0m\u001b[0mapply\u001b[0m\u001b[1;33m(\u001b[0m\u001b[1;32mlambda\u001b[0m \u001b[0mx\u001b[0m\u001b[1;33m:\u001b[0m \u001b[0mx\u001b[0m\u001b[1;33m.\u001b[0m\u001b[0mdropna\u001b[0m\u001b[1;33m(\u001b[0m\u001b[1;33m)\u001b[0m\u001b[1;33m.\u001b[0m\u001b[0mtolist\u001b[0m\u001b[1;33m(\u001b[0m\u001b[1;33m)\u001b[0m\u001b[1;33m)\u001b[0m\u001b[1;33m.\u001b[0m\u001b[0mtolist\u001b[0m\u001b[1;33m(\u001b[0m\u001b[1;33m)\u001b[0m\u001b[1;33m\u001b[0m\u001b[1;33m\u001b[0m\u001b[0m\n\u001b[0m\u001b[0;32m      6\u001b[0m \u001b[1;33m\u001b[0m\u001b[0m\n\u001b[0;32m      7\u001b[0m \u001b[0mprint\u001b[0m\u001b[1;33m(\u001b[0m\u001b[0mlen\u001b[0m\u001b[1;33m(\u001b[0m\u001b[0mjan_baskets\u001b[0m\u001b[1;33m)\u001b[0m\u001b[1;33m)\u001b[0m\u001b[1;33m\u001b[0m\u001b[1;33m\u001b[0m\u001b[0m\n",
      "\u001b[1;32m~\\anaconda3\\lib\\site-packages\\pandas\\core\\frame.py\u001b[0m in \u001b[0;36mapply\u001b[1;34m(self, func, axis, raw, result_type, args, **kwds)\u001b[0m\n\u001b[0;32m   6876\u001b[0m             \u001b[0mkwds\u001b[0m\u001b[1;33m=\u001b[0m\u001b[0mkwds\u001b[0m\u001b[1;33m,\u001b[0m\u001b[1;33m\u001b[0m\u001b[1;33m\u001b[0m\u001b[0m\n\u001b[0;32m   6877\u001b[0m         )\n\u001b[1;32m-> 6878\u001b[1;33m         \u001b[1;32mreturn\u001b[0m \u001b[0mop\u001b[0m\u001b[1;33m.\u001b[0m\u001b[0mget_result\u001b[0m\u001b[1;33m(\u001b[0m\u001b[1;33m)\u001b[0m\u001b[1;33m\u001b[0m\u001b[1;33m\u001b[0m\u001b[0m\n\u001b[0m\u001b[0;32m   6879\u001b[0m \u001b[1;33m\u001b[0m\u001b[0m\n\u001b[0;32m   6880\u001b[0m     \u001b[1;32mdef\u001b[0m \u001b[0mapplymap\u001b[0m\u001b[1;33m(\u001b[0m\u001b[0mself\u001b[0m\u001b[1;33m,\u001b[0m \u001b[0mfunc\u001b[0m\u001b[1;33m)\u001b[0m \u001b[1;33m->\u001b[0m \u001b[1;34m\"DataFrame\"\u001b[0m\u001b[1;33m:\u001b[0m\u001b[1;33m\u001b[0m\u001b[1;33m\u001b[0m\u001b[0m\n",
      "\u001b[1;32m~\\anaconda3\\lib\\site-packages\\pandas\\core\\apply.py\u001b[0m in \u001b[0;36mget_result\u001b[1;34m(self)\u001b[0m\n\u001b[0;32m    184\u001b[0m             \u001b[1;32mreturn\u001b[0m \u001b[0mself\u001b[0m\u001b[1;33m.\u001b[0m\u001b[0mapply_raw\u001b[0m\u001b[1;33m(\u001b[0m\u001b[1;33m)\u001b[0m\u001b[1;33m\u001b[0m\u001b[1;33m\u001b[0m\u001b[0m\n\u001b[0;32m    185\u001b[0m \u001b[1;33m\u001b[0m\u001b[0m\n\u001b[1;32m--> 186\u001b[1;33m         \u001b[1;32mreturn\u001b[0m \u001b[0mself\u001b[0m\u001b[1;33m.\u001b[0m\u001b[0mapply_standard\u001b[0m\u001b[1;33m(\u001b[0m\u001b[1;33m)\u001b[0m\u001b[1;33m\u001b[0m\u001b[1;33m\u001b[0m\u001b[0m\n\u001b[0m\u001b[0;32m    187\u001b[0m \u001b[1;33m\u001b[0m\u001b[0m\n\u001b[0;32m    188\u001b[0m     \u001b[1;32mdef\u001b[0m \u001b[0mapply_empty_result\u001b[0m\u001b[1;33m(\u001b[0m\u001b[0mself\u001b[0m\u001b[1;33m)\u001b[0m\u001b[1;33m:\u001b[0m\u001b[1;33m\u001b[0m\u001b[1;33m\u001b[0m\u001b[0m\n",
      "\u001b[1;32m~\\anaconda3\\lib\\site-packages\\pandas\\core\\apply.py\u001b[0m in \u001b[0;36mapply_standard\u001b[1;34m(self)\u001b[0m\n\u001b[0;32m    314\u001b[0m \u001b[1;33m\u001b[0m\u001b[0m\n\u001b[0;32m    315\u001b[0m         \u001b[1;31m# wrap results\u001b[0m\u001b[1;33m\u001b[0m\u001b[1;33m\u001b[0m\u001b[1;33m\u001b[0m\u001b[0m\n\u001b[1;32m--> 316\u001b[1;33m         \u001b[1;32mreturn\u001b[0m \u001b[0mself\u001b[0m\u001b[1;33m.\u001b[0m\u001b[0mwrap_results\u001b[0m\u001b[1;33m(\u001b[0m\u001b[0mresults\u001b[0m\u001b[1;33m,\u001b[0m \u001b[0mres_index\u001b[0m\u001b[1;33m)\u001b[0m\u001b[1;33m\u001b[0m\u001b[1;33m\u001b[0m\u001b[0m\n\u001b[0m\u001b[0;32m    317\u001b[0m \u001b[1;33m\u001b[0m\u001b[0m\n\u001b[0;32m    318\u001b[0m     \u001b[1;32mdef\u001b[0m \u001b[0mapply_series_generator\u001b[0m\u001b[1;33m(\u001b[0m\u001b[0mself\u001b[0m\u001b[1;33m)\u001b[0m \u001b[1;33m->\u001b[0m \u001b[0mTuple\u001b[0m\u001b[1;33m[\u001b[0m\u001b[0mResType\u001b[0m\u001b[1;33m,\u001b[0m \u001b[1;34m\"Index\"\u001b[0m\u001b[1;33m]\u001b[0m\u001b[1;33m:\u001b[0m\u001b[1;33m\u001b[0m\u001b[1;33m\u001b[0m\u001b[0m\n",
      "\u001b[1;32m~\\anaconda3\\lib\\site-packages\\pandas\\core\\apply.py\u001b[0m in \u001b[0;36mwrap_results\u001b[1;34m(self, results, res_index)\u001b[0m\n\u001b[0;32m    352\u001b[0m         \u001b[1;32mif\u001b[0m \u001b[0mlen\u001b[0m\u001b[1;33m(\u001b[0m\u001b[0mresults\u001b[0m\u001b[1;33m)\u001b[0m \u001b[1;33m>\u001b[0m \u001b[1;36m0\u001b[0m \u001b[1;32mand\u001b[0m \u001b[1;36m0\u001b[0m \u001b[1;32min\u001b[0m \u001b[0mresults\u001b[0m \u001b[1;32mand\u001b[0m \u001b[0mis_sequence\u001b[0m\u001b[1;33m(\u001b[0m\u001b[0mresults\u001b[0m\u001b[1;33m[\u001b[0m\u001b[1;36m0\u001b[0m\u001b[1;33m]\u001b[0m\u001b[1;33m)\u001b[0m\u001b[1;33m:\u001b[0m\u001b[1;33m\u001b[0m\u001b[1;33m\u001b[0m\u001b[0m\n\u001b[0;32m    353\u001b[0m \u001b[1;33m\u001b[0m\u001b[0m\n\u001b[1;32m--> 354\u001b[1;33m             \u001b[1;32mreturn\u001b[0m \u001b[0mself\u001b[0m\u001b[1;33m.\u001b[0m\u001b[0mwrap_results_for_axis\u001b[0m\u001b[1;33m(\u001b[0m\u001b[0mresults\u001b[0m\u001b[1;33m,\u001b[0m \u001b[0mres_index\u001b[0m\u001b[1;33m)\u001b[0m\u001b[1;33m\u001b[0m\u001b[1;33m\u001b[0m\u001b[0m\n\u001b[0m\u001b[0;32m    355\u001b[0m \u001b[1;33m\u001b[0m\u001b[0m\n\u001b[0;32m    356\u001b[0m         \u001b[1;31m# dict of scalars\u001b[0m\u001b[1;33m\u001b[0m\u001b[1;33m\u001b[0m\u001b[1;33m\u001b[0m\u001b[0m\n",
      "\u001b[1;32m~\\anaconda3\\lib\\site-packages\\pandas\\core\\apply.py\u001b[0m in \u001b[0;36mwrap_results_for_axis\u001b[1;34m(self, results, res_index)\u001b[0m\n\u001b[0;32m    394\u001b[0m         \u001b[1;34m\"\"\" return the results for the rows \"\"\"\u001b[0m\u001b[1;33m\u001b[0m\u001b[1;33m\u001b[0m\u001b[0m\n\u001b[0;32m    395\u001b[0m \u001b[1;33m\u001b[0m\u001b[0m\n\u001b[1;32m--> 396\u001b[1;33m         \u001b[0mresult\u001b[0m \u001b[1;33m=\u001b[0m \u001b[0mself\u001b[0m\u001b[1;33m.\u001b[0m\u001b[0mobj\u001b[0m\u001b[1;33m.\u001b[0m\u001b[0m_constructor\u001b[0m\u001b[1;33m(\u001b[0m\u001b[0mdata\u001b[0m\u001b[1;33m=\u001b[0m\u001b[0mresults\u001b[0m\u001b[1;33m)\u001b[0m\u001b[1;33m\u001b[0m\u001b[1;33m\u001b[0m\u001b[0m\n\u001b[0m\u001b[0;32m    397\u001b[0m \u001b[1;33m\u001b[0m\u001b[0m\n\u001b[0;32m    398\u001b[0m         \u001b[1;32mif\u001b[0m \u001b[1;32mnot\u001b[0m \u001b[0misinstance\u001b[0m\u001b[1;33m(\u001b[0m\u001b[0mresults\u001b[0m\u001b[1;33m[\u001b[0m\u001b[1;36m0\u001b[0m\u001b[1;33m]\u001b[0m\u001b[1;33m,\u001b[0m \u001b[0mABCSeries\u001b[0m\u001b[1;33m)\u001b[0m\u001b[1;33m:\u001b[0m\u001b[1;33m\u001b[0m\u001b[1;33m\u001b[0m\u001b[0m\n",
      "\u001b[1;32m~\\anaconda3\\lib\\site-packages\\pandas\\core\\frame.py\u001b[0m in \u001b[0;36m__init__\u001b[1;34m(self, data, index, columns, dtype, copy)\u001b[0m\n\u001b[0;32m    433\u001b[0m             )\n\u001b[0;32m    434\u001b[0m         \u001b[1;32melif\u001b[0m \u001b[0misinstance\u001b[0m\u001b[1;33m(\u001b[0m\u001b[0mdata\u001b[0m\u001b[1;33m,\u001b[0m \u001b[0mdict\u001b[0m\u001b[1;33m)\u001b[0m\u001b[1;33m:\u001b[0m\u001b[1;33m\u001b[0m\u001b[1;33m\u001b[0m\u001b[0m\n\u001b[1;32m--> 435\u001b[1;33m             \u001b[0mmgr\u001b[0m \u001b[1;33m=\u001b[0m \u001b[0minit_dict\u001b[0m\u001b[1;33m(\u001b[0m\u001b[0mdata\u001b[0m\u001b[1;33m,\u001b[0m \u001b[0mindex\u001b[0m\u001b[1;33m,\u001b[0m \u001b[0mcolumns\u001b[0m\u001b[1;33m,\u001b[0m \u001b[0mdtype\u001b[0m\u001b[1;33m=\u001b[0m\u001b[0mdtype\u001b[0m\u001b[1;33m)\u001b[0m\u001b[1;33m\u001b[0m\u001b[1;33m\u001b[0m\u001b[0m\n\u001b[0m\u001b[0;32m    436\u001b[0m         \u001b[1;32melif\u001b[0m \u001b[0misinstance\u001b[0m\u001b[1;33m(\u001b[0m\u001b[0mdata\u001b[0m\u001b[1;33m,\u001b[0m \u001b[0mma\u001b[0m\u001b[1;33m.\u001b[0m\u001b[0mMaskedArray\u001b[0m\u001b[1;33m)\u001b[0m\u001b[1;33m:\u001b[0m\u001b[1;33m\u001b[0m\u001b[1;33m\u001b[0m\u001b[0m\n\u001b[0;32m    437\u001b[0m             \u001b[1;32mimport\u001b[0m \u001b[0mnumpy\u001b[0m\u001b[1;33m.\u001b[0m\u001b[0mma\u001b[0m\u001b[1;33m.\u001b[0m\u001b[0mmrecords\u001b[0m \u001b[1;32mas\u001b[0m \u001b[0mmrecords\u001b[0m\u001b[1;33m\u001b[0m\u001b[1;33m\u001b[0m\u001b[0m\n",
      "\u001b[1;32m~\\anaconda3\\lib\\site-packages\\pandas\\core\\internals\\construction.py\u001b[0m in \u001b[0;36minit_dict\u001b[1;34m(data, index, columns, dtype)\u001b[0m\n\u001b[0;32m    252\u001b[0m             \u001b[0marr\u001b[0m \u001b[1;32mif\u001b[0m \u001b[1;32mnot\u001b[0m \u001b[0mis_datetime64tz_dtype\u001b[0m\u001b[1;33m(\u001b[0m\u001b[0marr\u001b[0m\u001b[1;33m)\u001b[0m \u001b[1;32melse\u001b[0m \u001b[0marr\u001b[0m\u001b[1;33m.\u001b[0m\u001b[0mcopy\u001b[0m\u001b[1;33m(\u001b[0m\u001b[1;33m)\u001b[0m \u001b[1;32mfor\u001b[0m \u001b[0marr\u001b[0m \u001b[1;32min\u001b[0m \u001b[0marrays\u001b[0m\u001b[1;33m\u001b[0m\u001b[1;33m\u001b[0m\u001b[0m\n\u001b[0;32m    253\u001b[0m         ]\n\u001b[1;32m--> 254\u001b[1;33m     \u001b[1;32mreturn\u001b[0m \u001b[0marrays_to_mgr\u001b[0m\u001b[1;33m(\u001b[0m\u001b[0marrays\u001b[0m\u001b[1;33m,\u001b[0m \u001b[0mdata_names\u001b[0m\u001b[1;33m,\u001b[0m \u001b[0mindex\u001b[0m\u001b[1;33m,\u001b[0m \u001b[0mcolumns\u001b[0m\u001b[1;33m,\u001b[0m \u001b[0mdtype\u001b[0m\u001b[1;33m=\u001b[0m\u001b[0mdtype\u001b[0m\u001b[1;33m)\u001b[0m\u001b[1;33m\u001b[0m\u001b[1;33m\u001b[0m\u001b[0m\n\u001b[0m\u001b[0;32m    255\u001b[0m \u001b[1;33m\u001b[0m\u001b[0m\n\u001b[0;32m    256\u001b[0m \u001b[1;33m\u001b[0m\u001b[0m\n",
      "\u001b[1;32m~\\anaconda3\\lib\\site-packages\\pandas\\core\\internals\\construction.py\u001b[0m in \u001b[0;36marrays_to_mgr\u001b[1;34m(arrays, arr_names, index, columns, dtype)\u001b[0m\n\u001b[0;32m     62\u001b[0m     \u001b[1;31m# figure out the index, if necessary\u001b[0m\u001b[1;33m\u001b[0m\u001b[1;33m\u001b[0m\u001b[1;33m\u001b[0m\u001b[0m\n\u001b[0;32m     63\u001b[0m     \u001b[1;32mif\u001b[0m \u001b[0mindex\u001b[0m \u001b[1;32mis\u001b[0m \u001b[1;32mNone\u001b[0m\u001b[1;33m:\u001b[0m\u001b[1;33m\u001b[0m\u001b[1;33m\u001b[0m\u001b[0m\n\u001b[1;32m---> 64\u001b[1;33m         \u001b[0mindex\u001b[0m \u001b[1;33m=\u001b[0m \u001b[0mextract_index\u001b[0m\u001b[1;33m(\u001b[0m\u001b[0marrays\u001b[0m\u001b[1;33m)\u001b[0m\u001b[1;33m\u001b[0m\u001b[1;33m\u001b[0m\u001b[0m\n\u001b[0m\u001b[0;32m     65\u001b[0m     \u001b[1;32melse\u001b[0m\u001b[1;33m:\u001b[0m\u001b[1;33m\u001b[0m\u001b[1;33m\u001b[0m\u001b[0m\n\u001b[0;32m     66\u001b[0m         \u001b[0mindex\u001b[0m \u001b[1;33m=\u001b[0m \u001b[0mensure_index\u001b[0m\u001b[1;33m(\u001b[0m\u001b[0mindex\u001b[0m\u001b[1;33m)\u001b[0m\u001b[1;33m\u001b[0m\u001b[1;33m\u001b[0m\u001b[0m\n",
      "\u001b[1;32m~\\anaconda3\\lib\\site-packages\\pandas\\core\\internals\\construction.py\u001b[0m in \u001b[0;36mextract_index\u001b[1;34m(data)\u001b[0m\n\u001b[0;32m    363\u001b[0m             \u001b[0mlengths\u001b[0m \u001b[1;33m=\u001b[0m \u001b[0mlist\u001b[0m\u001b[1;33m(\u001b[0m\u001b[0mset\u001b[0m\u001b[1;33m(\u001b[0m\u001b[0mraw_lengths\u001b[0m\u001b[1;33m)\u001b[0m\u001b[1;33m)\u001b[0m\u001b[1;33m\u001b[0m\u001b[1;33m\u001b[0m\u001b[0m\n\u001b[0;32m    364\u001b[0m             \u001b[1;32mif\u001b[0m \u001b[0mlen\u001b[0m\u001b[1;33m(\u001b[0m\u001b[0mlengths\u001b[0m\u001b[1;33m)\u001b[0m \u001b[1;33m>\u001b[0m \u001b[1;36m1\u001b[0m\u001b[1;33m:\u001b[0m\u001b[1;33m\u001b[0m\u001b[1;33m\u001b[0m\u001b[0m\n\u001b[1;32m--> 365\u001b[1;33m                 \u001b[1;32mraise\u001b[0m \u001b[0mValueError\u001b[0m\u001b[1;33m(\u001b[0m\u001b[1;34m\"arrays must all be same length\"\u001b[0m\u001b[1;33m)\u001b[0m\u001b[1;33m\u001b[0m\u001b[1;33m\u001b[0m\u001b[0m\n\u001b[0m\u001b[0;32m    366\u001b[0m \u001b[1;33m\u001b[0m\u001b[0m\n\u001b[0;32m    367\u001b[0m             \u001b[1;32mif\u001b[0m \u001b[0mhave_dicts\u001b[0m\u001b[1;33m:\u001b[0m\u001b[1;33m\u001b[0m\u001b[1;33m\u001b[0m\u001b[0m\n",
      "\u001b[1;31mValueError\u001b[0m: arrays must all be same length"
     ]
    }
   ],
   "source": [
    "#extracting columns where items are there in january data\n",
    "jan_items_df = jan_data[jan_data.columns[3:44]]\n",
    "\n",
    "#assigning each transactions in january to a list\n",
    "jan_baskets = jan_items_df.T.apply(lambda x: x.dropna().tolist()).tolist()\n",
    "\n",
    "print(len(jan_baskets))"
   ]
  },
  {
   "cell_type": "markdown",
   "metadata": {
    "id": "sh96w5T-BFLz"
   },
   "source": [
    "There are 1632 items in the January sales basket"
   ]
  },
  {
   "cell_type": "code",
   "execution_count": 71,
   "metadata": {
    "colab": {
     "base_uri": "https://localhost:8080/"
    },
    "collapsed": true,
    "id": "rO-yacNyA1wX",
    "outputId": "165568b1-e1f8-4e09-94c7-5d5f148eb12d"
   },
   "outputs": [
    {
     "ename": "NameError",
     "evalue": "name 'jan_baskets' is not defined",
     "output_type": "error",
     "traceback": [
      "\u001b[1;31m---------------------------------------------------------------------------\u001b[0m",
      "\u001b[1;31mNameError\u001b[0m                                 Traceback (most recent call last)",
      "\u001b[1;32m<ipython-input-71-03a52cc68051>\u001b[0m in \u001b[0;36m<module>\u001b[1;34m\u001b[0m\n\u001b[0;32m      1\u001b[0m \u001b[1;31m#the association algorithm\u001b[0m\u001b[1;33m\u001b[0m\u001b[1;33m\u001b[0m\u001b[1;33m\u001b[0m\u001b[0m\n\u001b[1;32m----> 2\u001b[1;33m \u001b[0mjan_association_rules\u001b[0m \u001b[1;33m=\u001b[0m \u001b[0mapriori\u001b[0m\u001b[1;33m(\u001b[0m\u001b[0mjan_baskets\u001b[0m\u001b[1;33m,\u001b[0m \u001b[0mmin_support\u001b[0m\u001b[1;33m=\u001b[0m\u001b[1;36m0.01\u001b[0m\u001b[1;33m,\u001b[0m \u001b[0mmin_confidence\u001b[0m\u001b[1;33m=\u001b[0m\u001b[1;36m0.2\u001b[0m\u001b[1;33m,\u001b[0m \u001b[0mmin_lift\u001b[0m\u001b[1;33m=\u001b[0m\u001b[1;36m3\u001b[0m\u001b[1;33m,\u001b[0m \u001b[0mmin_length\u001b[0m\u001b[1;33m=\u001b[0m\u001b[1;36m2\u001b[0m\u001b[1;33m)\u001b[0m\u001b[1;33m\u001b[0m\u001b[1;33m\u001b[0m\u001b[0m\n\u001b[0m\u001b[0;32m      3\u001b[0m \u001b[0mjan_association_results\u001b[0m \u001b[1;33m=\u001b[0m \u001b[0mlist\u001b[0m\u001b[1;33m(\u001b[0m\u001b[0mjan_association_rules\u001b[0m\u001b[1;33m)\u001b[0m\u001b[1;33m\u001b[0m\u001b[1;33m\u001b[0m\u001b[0m\n\u001b[0;32m      4\u001b[0m \u001b[1;33m\u001b[0m\u001b[0m\n\u001b[0;32m      5\u001b[0m \u001b[1;31m#calculating the number of rules generated for\u001b[0m\u001b[1;33m\u001b[0m\u001b[1;33m\u001b[0m\u001b[1;33m\u001b[0m\u001b[0m\n",
      "\u001b[1;31mNameError\u001b[0m: name 'jan_baskets' is not defined"
     ]
    }
   ],
   "source": [
    "#the association algorithm\n",
    "jan_association_rules = apriori(jan_baskets, min_support=0.01, min_confidence=0.2, min_lift=3, min_length=2)\n",
    "jan_association_results = list(jan_association_rules)\n",
    "\n",
    "#calculating the number of rules generated for\n",
    "print('Rules generated:', len(jan_association_results))"
   ]
  },
  {
   "cell_type": "code",
   "execution_count": null,
   "metadata": {
    "colab": {
     "base_uri": "https://localhost:8080/"
    },
    "id": "uj80jtnlBqNZ",
    "outputId": "a6301cd9-aa29-4819-87b5-033b01ce7f8c"
   },
   "outputs": [],
   "source": [
    "#the association algorithm of January for setting 1\n",
    "jan_association_rules_1 = apriori(jan_baskets, min_support=0.015, min_confidence=0.7, min_lift=3, min_length=2)\n",
    "jan_association_results_1 = list(jan_association_rules_1)\n",
    "\n",
    "#calculating the number of rules generated for setting 1\n",
    "print('Rules generated:', len(jan_association_results_1))"
   ]
  },
  {
   "cell_type": "code",
   "execution_count": null,
   "metadata": {
    "colab": {
     "base_uri": "https://localhost:8080/"
    },
    "id": "FNV7wQzOCS7x",
    "outputId": "c82e98d7-e9bc-4b17-ba0f-4f1b164b6eba"
   },
   "outputs": [
    {
     "name": "stdout",
     "output_type": "stream",
     "text": [
      "Rules generated: 130\n"
     ]
    }
   ],
   "source": [
    "#the association algorithm of January for setting 2\n",
    "jan_association_rules_2 = apriori(jan_baskets, min_support=0.009, min_confidence=0.5, min_lift=3, min_length=2)\n",
    "jan_association_results_2 = list(jan_association_rules_2)\n",
    "\n",
    "#calculating the number of rules generated for setting 2\n",
    "print('Rules generated:', len(jan_association_results_2))"
   ]
  },
  {
   "cell_type": "code",
   "execution_count": null,
   "metadata": {
    "colab": {
     "base_uri": "https://localhost:8080/"
    },
    "id": "mZ1nSkn3Cnk5",
    "outputId": "b714fd37-62e0-417f-ee9a-0ecd104ac5d8"
   },
   "outputs": [
    {
     "name": "stdout",
     "output_type": "stream",
     "text": [
      "Rules generated: 13\n"
     ]
    }
   ],
   "source": [
    "#the association algorithm of January for setting 3\n",
    "jan_association_rules_3 = apriori(jan_baskets, min_support=0.015, min_confidence=0.5, min_lift=9, min_length=2)\n",
    "jan_association_results_3 = list(jan_association_rules_3)\n",
    "\n",
    "#calculating the number of rules generated for setting 3\n",
    "print('Rules generated:', len(jan_association_results_3))"
   ]
  },
  {
   "cell_type": "markdown",
   "metadata": {
    "id": "OG8vR9HfDNZZ"
   },
   "source": [
    "Applying different values of the paramaters of the apriori algorithm yielded different number of rules for the January sales baskets items. In fact, the Setting 1 parameters (of Question 5), generated only 2 association rules, why the baseline Setting (the initial setting used in this task) and the Setting 1 parameter return 129 and 130 rules respectively."
   ]
  },
  {
   "cell_type": "markdown",
   "metadata": {
    "id": "J5ZG7MiQEaea"
   },
   "source": [
    "#### Filtering November sales data"
   ]
  },
  {
   "cell_type": "code",
   "execution_count": null,
   "metadata": {
    "colab": {
     "base_uri": "https://localhost:8080/"
    },
    "id": "fxOzbxnmDKdk",
    "outputId": "d25c50e9-b41b-4420-a82e-8010de33b6bc"
   },
   "outputs": [
    {
     "data": {
      "text/plain": [
       "(2899, 47)"
      ]
     },
     "execution_count": 78,
     "metadata": {},
     "output_type": "execute_result"
    }
   ],
   "source": [
    "#extracting November data\n",
    "nov_data = data[data['Month']==11].reset_index(drop=True)\n",
    "nov_data.shape"
   ]
  },
  {
   "cell_type": "code",
   "execution_count": null,
   "metadata": {
    "colab": {
     "base_uri": "https://localhost:8080/"
    },
    "id": "KRd2fqtMElZh",
    "outputId": "d1349fcf-92d4-4275-fbb8-7dacb719dc5e"
   },
   "outputs": [
    {
     "name": "stdout",
     "output_type": "stream",
     "text": [
      "2899\n"
     ]
    }
   ],
   "source": [
    "#extracting columns where items are there in November data\n",
    "nov_items_df = nov_data[nov_data.columns[3:44]]\n",
    "\n",
    "#assigning each transactions in november to a list\n",
    "nov_baskets = nov_items_df.T.apply(lambda x: x.dropna().tolist()).tolist()\n",
    "\n",
    "print(len(nov_baskets))"
   ]
  },
  {
   "cell_type": "code",
   "execution_count": null,
   "metadata": {
    "colab": {
     "base_uri": "https://localhost:8080/"
    },
    "id": "dDFU2WOVFZ6T",
    "outputId": "5eefae0c-b6d4-47fd-e8c4-5dcfef5872f4"
   },
   "outputs": [
    {
     "name": "stdout",
     "output_type": "stream",
     "text": [
      "Rules generated: 228\n"
     ]
    }
   ],
   "source": [
    "#the association algorithm\n",
    "nov_association_rules = apriori(nov_baskets, min_support=0.01, min_confidence=0.2, min_lift=3, min_length=2)\n",
    "nov_association_results = list(nov_association_rules)\n",
    "\n",
    "#calculating the number of rules generated for\n",
    "print('Rules generated:', len(nov_association_results))"
   ]
  },
  {
   "cell_type": "code",
   "execution_count": null,
   "metadata": {
    "colab": {
     "base_uri": "https://localhost:8080/"
    },
    "id": "wPnAwUo0Fu_Q",
    "outputId": "1cd95a4a-c463-4e66-b8f4-ade90b5f083e"
   },
   "outputs": [
    {
     "name": "stdout",
     "output_type": "stream",
     "text": [
      "Rules generated for setting 1: 16\n",
      "Rules generated for setting 2: 132\n",
      "Rules generated for setting 3: 39\n"
     ]
    }
   ],
   "source": [
    "#the association algorithm of November for setting 1\n",
    "nov_association_rules_1 = apriori(nov_baskets, min_support=0.015, min_confidence=0.7, min_lift=3, min_length=2)\n",
    "nov_association_results_1 = list(nov_association_rules_1)\n",
    "\n",
    "#the association algorithm of November for setting 2\n",
    "nov_association_rules_2 = apriori(nov_baskets, min_support=0.009, min_confidence=0.5, min_lift=3, min_length=2)\n",
    "nov_association_results_2 = list(nov_association_rules_2)\n",
    "\n",
    "#the association algorithm of January for setting 3\n",
    "nov_association_rules_3 = apriori(nov_baskets, min_support=0.015, min_confidence=0.5, min_lift=9, min_length=2)\n",
    "nov_association_results_3 = list(nov_association_rules_3)\n",
    "\n",
    "#calculating the number of rules generated for the settings\n",
    "print('Rules generated for setting 1:', len(nov_association_results_1))\n",
    "print('Rules generated for setting 2:', len(nov_association_results_2))\n",
    "print('Rules generated for setting 3:', len(nov_association_results_3))"
   ]
  },
  {
   "cell_type": "markdown",
   "metadata": {
    "id": "m5kMu99RHLOt"
   },
   "source": [
    "There are different number of rules generated for each parameter setting for the algorithm for the november sales basket. The number of rules generated by the Setting 2 parameters of November sales is similar to that of the baseline and Setting 1 parameters for January sales. However, unlike the number of rules generated for January sales, the baseline parameter settings generated more rules for November sales basket items (228)"
   ]
  },
  {
   "cell_type": "markdown",
   "metadata": {
    "id": "1AW0MLD3I4J4"
   },
   "source": [
    "### Filtering April sales basket items"
   ]
  },
  {
   "cell_type": "code",
   "execution_count": null,
   "metadata": {
    "colab": {
     "base_uri": "https://localhost:8080/"
    },
    "id": "FAK4Ekh3HFg2",
    "outputId": "58ac3417-398d-47da-9aab-77fa7a643861"
   },
   "outputs": [
    {
     "name": "stdout",
     "output_type": "stream",
     "text": [
      "1555\n"
     ]
    }
   ],
   "source": [
    "#extracting April data\n",
    "apr_data = data[data['Month']==4].reset_index(drop=True)\n",
    "\n",
    "#extracting columns where items are there in April data\n",
    "apr_items_df = apr_data[apr_data.columns[3:44]]\n",
    "\n",
    "#assigning each transactions in April to a list\n",
    "apr_baskets = apr_items_df.T.apply(lambda x: x.dropna().tolist()).tolist()\n",
    "\n",
    "print(len(apr_baskets))"
   ]
  },
  {
   "cell_type": "code",
   "execution_count": null,
   "metadata": {
    "colab": {
     "base_uri": "https://localhost:8080/"
    },
    "id": "ISS4zhWNKxS7",
    "outputId": "cbdbd911-73ce-4901-dd52-a392d026941a"
   },
   "outputs": [
    {
     "name": "stdout",
     "output_type": "stream",
     "text": [
      "Rules generated for baseline setting: 201\n",
      "Rules generated for setting 1: 6\n",
      "Rules generated for setting 2: 178\n",
      "Rules generated for setting 3: 14\n"
     ]
    }
   ],
   "source": [
    "#the baseline association algorithm\n",
    "apr_association_rules = apriori(apr_baskets, min_support=0.01, min_confidence=0.2, min_lift=3, min_length=2)\n",
    "apr_association_results = list(apr_association_rules)\n",
    "\n",
    "#the association algorithm of April for setting 1\n",
    "apr_association_rules_1 = apriori(apr_baskets, min_support=0.015, min_confidence=0.7, min_lift=3, min_length=2)\n",
    "apr_association_results_1 = list(apr_association_rules_1)\n",
    "\n",
    "#the association algorithm of April for setting 2\n",
    "apr_association_rules_2 = apriori(apr_baskets, min_support=0.009, min_confidence=0.5, min_lift=3, min_length=2)\n",
    "apr_association_results_2 = list(apr_association_rules_2)\n",
    "\n",
    "#the association algorithm of April for setting 3\n",
    "apr_association_rules_3 = apriori(apr_baskets, min_support=0.015, min_confidence=0.5, min_lift=9, min_length=2)\n",
    "apr_association_results_3 = list(apr_association_rules_3)\n",
    "\n",
    "#calculating the number of rules generated for the settings\n",
    "print('Rules generated for baseline setting:', len(apr_association_results))\n",
    "print('Rules generated for setting 1:', len(apr_association_results_1))\n",
    "print('Rules generated for setting 2:', len(apr_association_results_2))\n",
    "print('Rules generated for setting 3:', len(apr_association_results_3))"
   ]
  },
  {
   "cell_type": "markdown",
   "metadata": {
    "id": "MqgDxBz5MDMM"
   },
   "source": [
    "Just like the November sales analysis, the baseline parameter setting generated the most number of rules for April sales basket items.\n",
    "\n"
   ]
  },
  {
   "cell_type": "markdown",
   "metadata": {
    "id": "kWt_w_1_M4R1"
   },
   "source": [
    "### Filtering October data"
   ]
  },
  {
   "cell_type": "code",
   "execution_count": null,
   "metadata": {
    "colab": {
     "base_uri": "https://localhost:8080/"
    },
    "id": "wGG8AWZ_L1Y8",
    "outputId": "846a21a4-b1a5-4e63-a4f8-5fb4f54c9a32"
   },
   "outputs": [
    {
     "name": "stdout",
     "output_type": "stream",
     "text": [
      "2246\n"
     ]
    }
   ],
   "source": [
    "#extracting October data\n",
    "oct_data = data[data['Month']==10].reset_index(drop=True)\n",
    "\n",
    "#extracting columns where items are there in October data\n",
    "oct_items_df = oct_data[oct_data.columns[3:44]]\n",
    "\n",
    "#assigning each transactions in October to a list\n",
    "oct_baskets = oct_items_df.T.apply(lambda x: x.dropna().tolist()).tolist()\n",
    "\n",
    "print(len(oct_baskets))"
   ]
  },
  {
   "cell_type": "code",
   "execution_count": null,
   "metadata": {
    "colab": {
     "base_uri": "https://localhost:8080/"
    },
    "id": "Xu1w74OZNQvb",
    "outputId": "f908d864-fdfd-4959-d0aa-01f16a1c27c5"
   },
   "outputs": [
    {
     "name": "stdout",
     "output_type": "stream",
     "text": [
      "Rules generated for baseline setting: 159\n",
      "Rules generated for setting 1: 15\n",
      "Rules generated for setting 2: 120\n",
      "Rules generated for setting 3: 31\n"
     ]
    }
   ],
   "source": [
    "#the baseline association algorithm\n",
    "oct_association_rules = apriori(oct_baskets, min_support=0.01, min_confidence=0.2, min_lift=3, min_length=2)\n",
    "oct_association_results = list(oct_association_rules)\n",
    "\n",
    "#the association algorithm of October for setting 1\n",
    "oct_association_rules_1 = apriori(oct_baskets, min_support=0.015, min_confidence=0.7, min_lift=3, min_length=2)\n",
    "oct_association_results_1 = list(oct_association_rules_1)\n",
    "\n",
    "#the association algorithm of October for setting 2\n",
    "oct_association_rules_2 = apriori(oct_baskets, min_support=0.009, min_confidence=0.5, min_lift=3, min_length=2)\n",
    "oct_association_results_2 = list(oct_association_rules_2)\n",
    "\n",
    "#the association algorithm of October for setting 3\n",
    "oct_association_rules_3 = apriori(oct_baskets, min_support=0.015, min_confidence=0.5, min_lift=9, min_length=2)\n",
    "oct_association_results_3 = list(oct_association_rules_3)\n",
    "\n",
    "#calculating the number of rules generated for the settings\n",
    "print('Rules generated for baseline setting:', len(oct_association_results))\n",
    "print('Rules generated for setting 1:', len(oct_association_results_1))\n",
    "print('Rules generated for setting 2:', len(oct_association_results_2))\n",
    "print('Rules generated for setting 3:', len(oct_association_results_3))"
   ]
  },
  {
   "cell_type": "markdown",
   "metadata": {
    "id": "4wGXu-M7OYhI"
   },
   "source": [
    "As observed in the April and November sales analyses, the October sales have the most number of rules (159) generated from the baseline setting parameter."
   ]
  },
  {
   "cell_type": "markdown",
   "metadata": {
    "id": "TudjbcRaPlxR"
   },
   "source": [
    "#### Filtering July sales items"
   ]
  },
  {
   "cell_type": "code",
   "execution_count": null,
   "metadata": {
    "colab": {
     "base_uri": "https://localhost:8080/"
    },
    "id": "SxyCa2CMOAde",
    "outputId": "5e2b493b-ecff-4191-ac80-e1934fc0f8b0"
   },
   "outputs": [
    {
     "name": "stdout",
     "output_type": "stream",
     "text": [
      "2064\n"
     ]
    }
   ],
   "source": [
    "#extracting July data\n",
    "jul_data = data[data['Month']==7].reset_index(drop=True)\n",
    "\n",
    "#extracting columns where items are there in July data\n",
    "jul_items_df = jul_data[jul_data.columns[3:44]]\n",
    "\n",
    "#assigning each transactions in July to a list\n",
    "jul_baskets = jul_items_df.T.apply(lambda x: x.dropna().tolist()).tolist()\n",
    "\n",
    "print(len(jul_baskets))"
   ]
  },
  {
   "cell_type": "code",
   "execution_count": null,
   "metadata": {
    "colab": {
     "base_uri": "https://localhost:8080/"
    },
    "id": "cDs_LNIEQSEz",
    "outputId": "3ceb193c-b5fb-4b15-ba97-c882364e357c"
   },
   "outputs": [
    {
     "name": "stdout",
     "output_type": "stream",
     "text": [
      "Rules generated for baseline setting: 213\n",
      "Rules generated for setting 1: 11\n",
      "Rules generated for setting 2: 131\n",
      "Rules generated for setting 3: 29\n"
     ]
    }
   ],
   "source": [
    "#the baseline association algorithm\n",
    "jul_association_rules = apriori(jul_baskets, min_support=0.01, min_confidence=0.2, min_lift=3, min_length=2)\n",
    "jul_association_results = list(jul_association_rules)\n",
    "\n",
    "#the association algorithm of July for setting 1\n",
    "jul_association_rules_1 = apriori(jul_baskets, min_support=0.015, min_confidence=0.7, min_lift=3, min_length=2)\n",
    "jul_association_results_1 = list(jul_association_rules_1)\n",
    "\n",
    "#the association algorithm of July for setting 2\n",
    "jul_association_rules_2 = apriori(jul_baskets, min_support=0.009, min_confidence=0.5, min_lift=3, min_length=2)\n",
    "jul_association_results_2 = list(jul_association_rules_2)\n",
    "\n",
    "#the association algorithm of Jul for setting 3\n",
    "jul_association_rules_3 = apriori(jul_baskets, min_support=0.015, min_confidence=0.5, min_lift=9, min_length=2)\n",
    "jul_association_results_3 = list(jul_association_rules_3)\n",
    "\n",
    "#calculating the number of rules generated for the settings\n",
    "print('Rules generated for baseline setting:', len(jul_association_results))\n",
    "print('Rules generated for setting 1:', len(jul_association_results_1))\n",
    "print('Rules generated for setting 2:', len(jul_association_results_2))\n",
    "print('Rules generated for setting 3:', len(jul_association_results_3))"
   ]
  },
  {
   "cell_type": "markdown",
   "metadata": {
    "id": "p-E9d3BRR7am"
   },
   "source": [
    "Here, the baseline parameters generated the most number of rules (213) for July sales basket items"
   ]
  },
  {
   "cell_type": "markdown",
   "metadata": {
    "id": "EbZ-J9hKSLFW"
   },
   "source": [
    "#### Filtering Sales basket Items for September"
   ]
  },
  {
   "cell_type": "code",
   "execution_count": null,
   "metadata": {
    "colab": {
     "base_uri": "https://localhost:8080/"
    },
    "id": "PYgUwElQQwAA",
    "outputId": "8f5ab09b-299d-4b59-9aae-43528d6e84d1"
   },
   "outputs": [
    {
     "name": "stdout",
     "output_type": "stream",
     "text": [
      "2086\n"
     ]
    }
   ],
   "source": [
    "#extracting September data\n",
    "sep_data = data[data['Month']==9].reset_index(drop=True)\n",
    "\n",
    "#extracting columns where items are there in July data\n",
    "sep_items_df = sep_data[sep_data.columns[3:44]]\n",
    "\n",
    "#assigning each transactions in July to a list\n",
    "sep_baskets = sep_items_df.T.apply(lambda x: x.dropna().tolist()).tolist()\n",
    "\n",
    "print(len(sep_baskets))"
   ]
  },
  {
   "cell_type": "code",
   "execution_count": null,
   "metadata": {
    "colab": {
     "base_uri": "https://localhost:8080/"
    },
    "id": "S_WLO0MYShnm",
    "outputId": "df34c39e-66a7-4d20-d74d-fb8303cd5d3e"
   },
   "outputs": [
    {
     "name": "stdout",
     "output_type": "stream",
     "text": [
      "Rules generated for baseline setting: 213\n",
      "Rules generated for setting 1: 11\n",
      "Rules generated for setting 2: 131\n",
      "Rules generated for setting 3: 29\n"
     ]
    }
   ],
   "source": [
    "#the baseline association algorithm\n",
    "jul_association_rules = apriori(jul_baskets, min_support=0.01, min_confidence=0.2, min_lift=3, min_length=2)\n",
    "jul_association_results = list(jul_association_rules)\n",
    "\n",
    "#the association algorithm of September for setting 1\n",
    "jul_association_rules_1 = apriori(jul_baskets, min_support=0.015, min_confidence=0.7, min_lift=3, min_length=2)\n",
    "jul_association_results_1 = list(jul_association_rules_1)\n",
    "\n",
    "#the association algorithm of September for setting 2\n",
    "jul_association_rules_2 = apriori(jul_baskets, min_support=0.009, min_confidence=0.5, min_lift=3, min_length=2)\n",
    "jul_association_results_2 = list(jul_association_rules_2)\n",
    "\n",
    "#the association algorithm of September for setting 3\n",
    "jul_association_rules_3 = apriori(jul_baskets, min_support=0.015, min_confidence=0.5, min_lift=9, min_length=2)\n",
    "jul_association_results_3 = list(jul_association_rules_3)\n",
    "\n",
    "#calculating the number of rules generated for the settings\n",
    "print('Rules generated for baseline setting:', len(jul_association_results))\n",
    "print('Rules generated for setting 1:', len(jul_association_results_1))\n",
    "print('Rules generated for setting 2:', len(jul_association_results_2))\n",
    "print('Rules generated for setting 3:', len(jul_association_results_3))"
   ]
  },
  {
   "cell_type": "markdown",
   "metadata": {
    "id": "qLq631QOWwgY"
   },
   "source": [
    "For the different months filtered. The number of rules generated for different parameter settings of the `apriori` algorithm differ."
   ]
  },
  {
   "cell_type": "code",
   "execution_count": null,
   "metadata": {
    "id": "hm482TVEWrSn"
   },
   "outputs": [],
   "source": []
  }
 ],
 "metadata": {
  "colab": {
   "collapsed_sections": [],
   "name": "Workshop 5 - Market Basket Analysis using Apriori Algorithm",
   "provenance": []
  },
  "kernelspec": {
   "display_name": "Python 3",
   "language": "python",
   "name": "python3"
  },
  "language_info": {
   "codemirror_mode": {
    "name": "ipython",
    "version": 3
   },
   "file_extension": ".py",
   "mimetype": "text/x-python",
   "name": "python",
   "nbconvert_exporter": "python",
   "pygments_lexer": "ipython3",
   "version": "3.7.6"
  }
 },
 "nbformat": 4,
 "nbformat_minor": 1
}
